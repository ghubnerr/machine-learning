{
  "nbformat": 4,
  "nbformat_minor": 0,
  "metadata": {
    "colab": {
      "provenance": [],
      "gpuType": "T4",
      "authorship_tag": "ABX9TyN0AAtOtVJ8w4vDKj3Pu9qO",
      "include_colab_link": true
    },
    "kernelspec": {
      "name": "python3",
      "display_name": "Python 3"
    },
    "language_info": {
      "name": "python"
    },
    "accelerator": "GPU"
  },
  "cells": [
    {
      "cell_type": "markdown",
      "metadata": {
        "id": "view-in-github",
        "colab_type": "text"
      },
      "source": [
        "<a href=\"https://colab.research.google.com/github/ghubnerr/machine-learning/blob/main/jax_mlp.ipynb\" target=\"_parent\"><img src=\"https://colab.research.google.com/assets/colab-badge.svg\" alt=\"Open In Colab\"/></a>"
      ]
    },
    {
      "cell_type": "markdown",
      "source": [
        "# MLP Training on MNIST"
      ],
      "metadata": {
        "id": "K5dVUdgzrf_b"
      }
    },
    {
      "cell_type": "code",
      "source": [
        "import jax.numpy as jnp\n",
        "import jax\n",
        "import numpy as np\n",
        "from jax.scipy.special import logsumexp\n",
        "from jax import jit, vmap, pmap, grad"
      ],
      "metadata": {
        "id": "DZGyAnHDr3Ox"
      },
      "execution_count": null,
      "outputs": []
    },
    {
      "cell_type": "code",
      "source": [
        "MNIST_IMG_SIZE = (28, 28)"
      ],
      "metadata": {
        "id": "6ZX7dJJmys4a"
      },
      "execution_count": null,
      "outputs": []
    },
    {
      "cell_type": "markdown",
      "source": [
        "### Initializing Weights"
      ],
      "metadata": {
        "id": "tVJ0rrFjvojJ"
      }
    },
    {
      "cell_type": "code",
      "execution_count": null,
      "metadata": {
        "colab": {
          "base_uri": "https://localhost:8080/"
        },
        "id": "k1kw7wXGrM6t",
        "outputId": "a01260f4-7835-4447-843d-3e566bf37dfc"
      },
      "outputs": [
        {
          "output_type": "stream",
          "name": "stdout",
          "text": [
            "[[(512, 784), (512,)], [(256, 512), (256,)], [(10, 256), (10,)]]\n"
          ]
        }
      ],
      "source": [
        "seed = 0\n",
        "\n",
        "def init_weights(layer_widths, parent_key, scale=0.01):\n",
        "\n",
        "    params = []\n",
        "    keys = jax.random.split(parent_key, num=len(layer_widths)-1)\n",
        "\n",
        "\n",
        "    for in_width, out_width, key in zip(layer_widths[:-1], layer_widths[1:], keys):\n",
        "        # For every layer i, (of weight dims layer_widths[i]):\n",
        "        weight_key, bias_key = jax.random.split(key)\n",
        "\n",
        "        params.append([\n",
        "                scale*jax.random.normal(weight_key, shape=(out_width, in_width)),  # Weights (in, out)\n",
        "                scale*jax.random.normal(bias_key, shape=(out_width,)) # Biases (out)\n",
        "            ]\n",
        "        )\n",
        "\n",
        "    return params\n",
        "\n",
        "key = jax.random.PRNGKey(seed)\n",
        "MLP_params = init_weights([784, 512, 256, 10], key)\n",
        "print(jax.tree.map(lambda x: x.shape, MLP_params))\n"
      ]
    },
    {
      "cell_type": "markdown",
      "source": [
        "### Inferencing"
      ],
      "metadata": {
        "id": "s3XAU-mCvqg7"
      }
    },
    {
      "cell_type": "markdown",
      "source": [
        "$$\\mathrm{logsumexp}(a) = \\mathrm{log} \\sum_j b \\cdot \\mathrm{exp}(a_{ij})$$"
      ],
      "metadata": {
        "id": "qF3W-7cDwaWc"
      }
    },
    {
      "cell_type": "code",
      "source": [
        "def predict(params, x):\n",
        "    hidden_layers = params[:-1]\n",
        "\n",
        "    activation = x\n",
        "    for w, b in hidden_layers:\n",
        "        activation = jax.nn.relu(jnp.dot(w, activation) + b)\n",
        "\n",
        "    w_last, b_last = params[-1]\n",
        "    logits = jnp.dot(w_last, activation) + b_last\n",
        "\n",
        "    # Mimicking softmax\n",
        "    # log(exp(o1)) - log(sum(exp(o1),exp(o2), ...)))\n",
        "    return logits - logsumexp(logits)"
      ],
      "metadata": {
        "id": "wrZTTuQfvkv0"
      },
      "execution_count": null,
      "outputs": []
    },
    {
      "cell_type": "code",
      "source": [
        "dummy_img = np.random.randn(np.prod(MNIST_IMG_SIZE))\n",
        "print(dummy_img.shape)\n",
        "\n",
        "prediction = predict(MLP_params, dummy_img)\n",
        "print(prediction.shape)\n",
        "\n",
        "batched_predict = vmap(predict, in_axes=(None, 0))\n",
        "\n",
        "batched_dummy_imgs = np.random.randn(16, np.prod(MNIST_IMG_SIZE))\n",
        "print(batched_dummy_imgs.shape)\n",
        "\n",
        "batched_predictions = batched_predict(MLP_params, batched_dummy_imgs)\n",
        "print(batched_predictions.shape)\n"
      ],
      "metadata": {
        "colab": {
          "base_uri": "https://localhost:8080/"
        },
        "id": "PRgYWTWGxfev",
        "outputId": "ca61de8d-cccd-4c24-feaa-59bd086b104d"
      },
      "execution_count": null,
      "outputs": [
        {
          "output_type": "stream",
          "name": "stdout",
          "text": [
            "(784,)\n",
            "(10,)\n",
            "(16, 784)\n",
            "(16, 10)\n"
          ]
        }
      ]
    },
    {
      "cell_type": "markdown",
      "source": [
        "### MNIST Dataloader"
      ],
      "metadata": {
        "id": "sQMRf7aEyz5o"
      }
    },
    {
      "cell_type": "code",
      "source": [
        "from torchvision.datasets import MNIST\n",
        "from torch.utils.data import DataLoader"
      ],
      "metadata": {
        "id": "JlXj43x3yETs"
      },
      "execution_count": null,
      "outputs": []
    },
    {
      "cell_type": "code",
      "source": [
        "import os\n",
        "\n",
        "if not os.path.exists(\"./data\"):\n",
        "    os.mkdir(\"./data\")\n",
        "if not os.path.exists(\"./data/train\"):\n",
        "    os.mkdir(\"./data/train\")\n",
        "if not os.path.exists(\"./data/test\"):\n",
        "    os.mkdir(\"./data/test\")"
      ],
      "metadata": {
        "id": "uAqeXehczFxf"
      },
      "execution_count": null,
      "outputs": []
    },
    {
      "cell_type": "code",
      "source": [
        "def convert_to_numpy(x):\n",
        "    return np.ravel(np.array(x, dtype=np.float32))\n",
        "\n",
        "train_dataset = MNIST(root='./data/train', train=True, download=True, transform=convert_to_numpy)\n",
        "test_dataset = MNIST(root='./data/test', train=False, download=True, transform=convert_to_numpy)\n",
        "\n",
        "print(type(train_dataset))\n",
        "image = train_dataset[0][0]\n",
        "label = train_dataset[0][1]\n",
        "print(type(image), type(label))\n",
        "print(image.shape)"
      ],
      "metadata": {
        "colab": {
          "base_uri": "https://localhost:8080/"
        },
        "id": "-8zq4csbzC8B",
        "outputId": "dacc695d-d7e2-495a-c4f4-5819d73bffb2"
      },
      "execution_count": null,
      "outputs": [
        {
          "output_type": "stream",
          "name": "stdout",
          "text": [
            "<class 'torchvision.datasets.mnist.MNIST'>\n",
            "<class 'numpy.ndarray'> <class 'int'>\n",
            "(784,)\n"
          ]
        }
      ]
    },
    {
      "cell_type": "code",
      "source": [
        "def collate_fn(batch):\n",
        "    transposed_data = list(zip(*batch))\n",
        "    labels = np.array(transposed_data[1])\n",
        "    imgs = np.stack(transposed_data[0])\n",
        "    return imgs, labels\n",
        "\n",
        "\n",
        "BATCH_SIZE = 128\n",
        "train_loader = DataLoader(train_dataset, batch_size=BATCH_SIZE, shuffle=True, collate_fn=collate_fn)\n",
        "test_loader = DataLoader(test_dataset, batch_size=BATCH_SIZE, shuffle=True, collate_fn=collate_fn)\n",
        "\n",
        "# batch_data = next(iter(train_loader))\n",
        "# imgs = batch_data[0]\n",
        "# lbls = batch_data[1]\n",
        "# print(imgs.shape, imgs[0].dtype, lbls.shape, lbls[0].dtype)"
      ],
      "metadata": {
        "id": "Ib-VVPtO15t3"
      },
      "execution_count": null,
      "outputs": []
    },
    {
      "cell_type": "markdown",
      "source": [
        "### Training Loop"
      ],
      "metadata": {
        "id": "yWU0b1ap3rNi"
      }
    },
    {
      "cell_type": "code",
      "source": [
        "import tqdm\n",
        "\n",
        "NUM_EPOCHS = 10\n",
        "LEARNING_RATE = 0.01\n",
        "\n",
        "\n",
        "def loss_fn(params, images, gt_labels, lr=0.01):\n",
        "    preds = batched_predict(params, images)  # (b,10)\n",
        "    return -jnp.mean(preds * gt_labels)\n",
        "\n",
        "@jit\n",
        "def update(params, images, gt_labels, lr=0.01):\n",
        "    loss, grads = jax.value_and_grad(loss_fn)(params, images, gt_labels)\n",
        "    return loss, jax.tree.map(lambda p, g: p - lr * g, params, grads)\n",
        "\n",
        "def compute_accuracy(preds, gt_labels):\n",
        "    pred_class = jnp.argmax(preds, axis=-1)\n",
        "    true_class = jnp.argmax(gt_labels, axis=-1)\n",
        "    return jnp.mean(pred_class == true_class)\n",
        "\n",
        "MLP_params = init_weights([np.prod(MNIST_IMG_SIZE), 512, 256, len(MNIST.classes)], key)\n",
        "\n",
        "for epoch in range(NUM_EPOCHS):\n",
        "    epoch_loss = 0\n",
        "    epoch_accuracy = 0\n",
        "    num_batches = 0\n",
        "\n",
        "    for imgs, gt_labels in tqdm.tqdm(train_loader, desc=f\"Epoch {epoch+1}/{NUM_EPOCHS}\", leave=True):\n",
        "        gt_labels = jax.nn.one_hot(gt_labels, num_classes=len(MNIST.classes))\n",
        "        preds = batched_predict(MLP_params, imgs)\n",
        "        loss, MLP_params = update(MLP_params, imgs, gt_labels, LEARNING_RATE)\n",
        "\n",
        "        accuracy = compute_accuracy(preds, gt_labels)\n",
        "\n",
        "        epoch_loss += loss\n",
        "        epoch_accuracy += accuracy\n",
        "        num_batches += 1\n",
        "\n",
        "    avg_loss = epoch_loss / num_batches\n",
        "    avg_accuracy = epoch_accuracy / num_batches\n",
        "    print(f\"Epoch {epoch+1}: Loss = {avg_loss:.4f}, Accuracy = {avg_accuracy*100:.2f}%\")"
      ],
      "metadata": {
        "colab": {
          "base_uri": "https://localhost:8080/"
        },
        "id": "DJjGnNQo3TaQ",
        "outputId": "7cf23fe7-1c68-4c70-e3b2-86299ac60ef3"
      },
      "execution_count": null,
      "outputs": [
        {
          "output_type": "stream",
          "name": "stderr",
          "text": [
            "Epoch 1/10: 100%|██████████| 469/469 [00:12<00:00, 38.84it/s]\n"
          ]
        },
        {
          "output_type": "stream",
          "name": "stdout",
          "text": [
            "Epoch 1: Loss = 0.0551, Accuracy = 85.50%\n"
          ]
        },
        {
          "output_type": "stream",
          "name": "stderr",
          "text": [
            "Epoch 2/10: 100%|██████████| 469/469 [00:09<00:00, 48.90it/s]\n"
          ]
        },
        {
          "output_type": "stream",
          "name": "stdout",
          "text": [
            "Epoch 2: Loss = 0.0266, Accuracy = 92.37%\n"
          ]
        },
        {
          "output_type": "stream",
          "name": "stderr",
          "text": [
            "Epoch 3/10: 100%|██████████| 469/469 [00:09<00:00, 51.94it/s]\n"
          ]
        },
        {
          "output_type": "stream",
          "name": "stdout",
          "text": [
            "Epoch 3: Loss = 0.0213, Accuracy = 93.98%\n"
          ]
        },
        {
          "output_type": "stream",
          "name": "stderr",
          "text": [
            "Epoch 4/10: 100%|██████████| 469/469 [00:09<00:00, 48.57it/s]\n"
          ]
        },
        {
          "output_type": "stream",
          "name": "stdout",
          "text": [
            "Epoch 4: Loss = 0.0180, Accuracy = 94.94%\n"
          ]
        },
        {
          "output_type": "stream",
          "name": "stderr",
          "text": [
            "Epoch 5/10: 100%|██████████| 469/469 [00:09<00:00, 48.16it/s]\n"
          ]
        },
        {
          "output_type": "stream",
          "name": "stdout",
          "text": [
            "Epoch 5: Loss = 0.0156, Accuracy = 95.62%\n"
          ]
        },
        {
          "output_type": "stream",
          "name": "stderr",
          "text": [
            "Epoch 6/10: 100%|██████████| 469/469 [00:09<00:00, 48.21it/s]\n"
          ]
        },
        {
          "output_type": "stream",
          "name": "stdout",
          "text": [
            "Epoch 6: Loss = 0.0138, Accuracy = 96.11%\n"
          ]
        },
        {
          "output_type": "stream",
          "name": "stderr",
          "text": [
            "Epoch 7/10: 100%|██████████| 469/469 [00:08<00:00, 52.28it/s]\n"
          ]
        },
        {
          "output_type": "stream",
          "name": "stdout",
          "text": [
            "Epoch 7: Loss = 0.0123, Accuracy = 96.51%\n"
          ]
        },
        {
          "output_type": "stream",
          "name": "stderr",
          "text": [
            "Epoch 8/10: 100%|██████████| 469/469 [00:09<00:00, 49.96it/s]\n"
          ]
        },
        {
          "output_type": "stream",
          "name": "stdout",
          "text": [
            "Epoch 8: Loss = 0.0111, Accuracy = 96.86%\n"
          ]
        },
        {
          "output_type": "stream",
          "name": "stderr",
          "text": [
            "Epoch 9/10: 100%|██████████| 469/469 [00:09<00:00, 49.61it/s]\n"
          ]
        },
        {
          "output_type": "stream",
          "name": "stdout",
          "text": [
            "Epoch 9: Loss = 0.0101, Accuracy = 97.10%\n"
          ]
        },
        {
          "output_type": "stream",
          "name": "stderr",
          "text": [
            "Epoch 10/10: 100%|██████████| 469/469 [00:09<00:00, 49.10it/s]"
          ]
        },
        {
          "output_type": "stream",
          "name": "stdout",
          "text": [
            "Epoch 10: Loss = 0.0092, Accuracy = 97.43%\n"
          ]
        },
        {
          "output_type": "stream",
          "name": "stderr",
          "text": [
            "\n"
          ]
        }
      ]
    },
    {
      "cell_type": "code",
      "source": [
        "imgs, labels = next(iter(test_loader))\n",
        "img = imgs[0].reshape(MNIST_IMG_SIZE)\n",
        "gt_label = labels[0]\n",
        "print(img.shape)\n",
        "\n",
        "import matplotlib.pyplot as plt\n",
        "plt.imshow(img, cmap='gray')\n",
        "plt.show()\n",
        "print('label', gt_label, end=', ')\n",
        "\n",
        "pred = predict(MLP_params, np.ravel(img))\n",
        "print('pred', np.argmax(pred))"
      ],
      "metadata": {
        "colab": {
          "base_uri": "https://localhost:8080/",
          "height": 465
        },
        "id": "Bs884-AC0IA5",
        "outputId": "2c72d166-7c66-4c8b-e850-873360a17afd"
      },
      "execution_count": null,
      "outputs": [
        {
          "output_type": "stream",
          "name": "stdout",
          "text": [
            "(28, 28)\n"
          ]
        },
        {
          "output_type": "display_data",
          "data": {
            "text/plain": [
              "<Figure size 640x480 with 1 Axes>"
            ],
            "image/png": "[encoded data removed]"
          },
          "metadata": {}
        },
        {
          "output_type": "stream",
          "name": "stdout",
          "text": [
            "label 9, pred 9\n"
          ]
        }
      ]
    },
    {
      "cell_type": "markdown",
      "source": [
        "# Plotting"
      ],
      "metadata": {
        "id": "WZ7MtiAJrm_n"
      }
    },
    {
      "cell_type": "code",
      "source": [
        "from sklearn.manifold import TSNE\n",
        "\n",
        "def fetch_activations(params, x):\n",
        "    hidden_layers = params[:-1]\n",
        "\n",
        "    activation = x\n",
        "    for w, b in hidden_layers:\n",
        "        activation = jax.nn.relu(jnp.dot(w, activation) + b)\n",
        "\n",
        "    return activation\n",
        "\n",
        "batched_fetch_activations = vmap(fetch_activations, in_axes=(None, 0))"
      ],
      "metadata": {
        "id": "NQFAQcFwAi-7"
      },
      "execution_count": null,
      "outputs": []
    },
    {
      "cell_type": "code",
      "source": [
        "images, labels = next(iter(test_loader))\n",
        "\n",
        "batched_activations = batched_fetch_activations(MLP_params, images)\n",
        "# Just before being projected into logits\n",
        "print(batched_activations.shape) # Rep. Learning -> Second-to-last layer activations"
      ],
      "metadata": {
        "colab": {
          "base_uri": "https://localhost:8080/"
        },
        "id": "19q9x5zEBHAG",
        "outputId": "8f08984c-f27f-4d20-bf62-caaeb84561e6"
      },
      "execution_count": null,
      "outputs": [
        {
          "output_type": "stream",
          "name": "stdout",
          "text": [
            "(128, 256)\n"
          ]
        }
      ]
    },
    {
      "cell_type": "code",
      "source": [
        "label_to_color_map = {\n",
        "    0: \"red\",\n",
        "    1: \"blue\",\n",
        "    2: \"green\",\n",
        "    3: \"purple\",\n",
        "    4: \"orange\",\n",
        "    5: \"cyan\",\n",
        "    6: \"magenta\",\n",
        "    7: \"brown\",\n",
        "    8: \"pink\",\n",
        "    9: \"gray\"\n",
        "}"
      ],
      "metadata": {
        "id": "eHG1DfevCMnX"
      },
      "execution_count": null,
      "outputs": []
    },
    {
      "cell_type": "code",
      "source": [
        "tsne_embeddings = TSNE(n_components=2, perplexity=30,).fit_transform(batched_activations)\n",
        "\n",
        "for class_id in range(len(MNIST.classes)):\n",
        "    plt.scatter(tsne_embeddings[labels == class_id, 0], tsne_embeddings[labels == class_id, 1], s=20, color=label_to_color_map[class_id], label=MNIST.classes[class_id])\n",
        "\n",
        "plt.legend()\n",
        "plt.show()"
      ],
      "metadata": {
        "colab": {
          "base_uri": "https://localhost:8080/",
          "height": 430
        },
        "id": "IeXmjQBYBUxA",
        "outputId": "257259f8-3dd9-4c34-f4d2-67c8dc08b81c"
      },
      "execution_count": null,
      "outputs": [
        {
          "output_type": "display_data",
          "data": {
            "text/plain": [
              "<Figure size 640x480 with 1 Axes>"
            ],
            "image/png": "[encoded data removed]"
          },
          "metadata": {}
        }
      ]
    }
  ]
}