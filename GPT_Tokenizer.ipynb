{
  "nbformat": 4,
  "nbformat_minor": 0,
  "metadata": {
    "colab": {
      "provenance": [],
      "authorship_tag": "ABX9TyP2PgaFb8FGaVFcuZ98WV54",
      "include_colab_link": true
    },
    "kernelspec": {
      "name": "python3",
      "display_name": "Python 3"
    },
    "language_info": {
      "name": "python"
    }
  },
  "cells": [
    {
      "cell_type": "markdown",
      "metadata": {
        "id": "view-in-github",
        "colab_type": "text"
      },
      "source": [
        "<a href=\"https://colab.research.google.com/github/ghubnerr/nlp-stuff/blob/main/GPT_Tokenizer.ipynb\" target=\"_parent\"><img src=\"https://colab.research.google.com/assets/colab-badge.svg\" alt=\"Open In Colab\"/></a>"
      ]
    },
    {
      "cell_type": "markdown",
      "source": [
        "# Byte-level Encoding: Input Representation (Paper)\n",
        "Tokenizer: 50,257 possible Tokens\n",
        "Context Size: 1024 tokens\n",
        "\n",
        "Attention layer: sees up to 1024 tokens.\n",
        "\n",
        "### Motivation for Tokenization\n",
        "- Heart of much weirdness in LLMs i.e.: Spelling, string processing, non-english languages, simple arithmetic, coding in Python (GPT-2), abrutply halting when seeing <|endoftext|>, trailing whitespace, YAML over JSON.\n",
        "\n",
        "### Tiktokenizer\n",
        "- https://tiktokenizer.vercel.app\n",
        "\n",
        "Shown explicitly in colors.\n",
        "Main examples (GPT-2):\n",
        "\n",
        "▶ token-ization (2 tokens)\n",
        "\n",
        "▶ ' at' (includes whitespace)\n",
        "\n",
        "▶ \\[127\\]\\[ +\\]\\[ 6\\]\\[77\\]\n",
        "\n",
        "▶ 'Egg' '.' -- whereas -- 'I'' have'' an'' Egg''.'\n",
        "\n",
        "*For the same concepts, all of these have different id's*\n",
        "\n",
        "▶ whitespaces in code -- individually!\n",
        "\n",
        "<br/>\n",
        "<hr/>\n",
        "\n",
        "\n",
        "What we're looking for is the sweet spot of vocabulary size."
      ],
      "metadata": {
        "id": "jvOOpuFg1kaP"
      }
    },
    {
      "cell_type": "code",
      "execution_count": null,
      "metadata": {
        "id": "LAWBHc911Eb6"
      },
      "outputs": [],
      "source": [
        "# Strings are immutable sequences of Unicode Code Points\n",
        "# Defined by the Unicode Consortium (149,813 characters)\n",
        "\n",
        "\"안녕하세요 👋\"\n",
        "\n",
        "ord(\"h\") # -> Gives me the unicode code point #104\n",
        "ord(\"👋\") # 50504"
      ]
    },
    {
      "cell_type": "code",
      "source": [
        "[ord(x) for x in \"안녕하세요 👋\"]"
      ],
      "metadata": {
        "colab": {
          "base_uri": "https://localhost:8080/"
        },
        "id": "BcHfdUz15gSJ",
        "outputId": "042255ee-2cc8-4eff-e24d-84db3497633f"
      },
      "execution_count": 1,
      "outputs": [
        {
          "output_type": "execute_result",
          "data": {
            "text/plain": [
              "[50504, 45397, 54616, 49464, 50836, 32, 128075]"
            ]
          },
          "metadata": {},
          "execution_count": 1
        }
      ]
    },
    {
      "cell_type": "markdown",
      "source": [
        "Why not just use these numbers?\n",
        "\n",
        "▶ Unstable representation\n",
        "\n",
        "▶ Long vocabulary\n",
        "\n",
        "\n",
        "<hr>\n",
        "Encodings: UTF-8, UTF-16, UTF-32 are ways of translating unicode encodings into binary data (byte-strings)\n",
        "\n",
        "### UTF-8 Encoding: Preferred\n",
        "Backwards-compatible to the ASCII Text"
      ],
      "metadata": {
        "id": "SRygGBY55oej"
      }
    },
    {
      "cell_type": "code",
      "source": [
        "list(\"안녕하세요 👋\".encode(\"utf-8\"))\n",
        "# list(\"안녕하세요 👋\".encode(\"utf-16\")) # Wasteful encoding"
      ],
      "metadata": {
        "colab": {
          "base_uri": "https://localhost:8080/"
        },
        "id": "iGR9U0Gn5lOx",
        "outputId": "0a9b823e-f486-4334-c1c5-32c9663011e6"
      },
      "execution_count": 2,
      "outputs": [
        {
          "output_type": "execute_result",
          "data": {
            "text/plain": [
              "[236,\n",
              " 149,\n",
              " 136,\n",
              " 235,\n",
              " 133,\n",
              " 149,\n",
              " 237,\n",
              " 149,\n",
              " 152,\n",
              " 236,\n",
              " 132,\n",
              " 184,\n",
              " 236,\n",
              " 154,\n",
              " 148,\n",
              " 32,\n",
              " 240,\n",
              " 159,\n",
              " 145,\n",
              " 139]"
            ]
          },
          "metadata": {},
          "execution_count": 2
        }
      ]
    },
    {
      "cell_type": "markdown",
      "source": [
        "This vocabulary implies that the vocabulary length would only be of 256 characters, and all of our text would be stretched out to very long sequences of bytes. What this does is make the embedding table to be tiny, but the sequences are very long. This is bad because of the finite context length that we can support inside the attention head.\n",
        "\n",
        "### 💡 Predicting Million-byte Sequences with Multiscale Transformers\n"
      ],
      "metadata": {
        "id": "Qbo9EbYs6is9"
      }
    },
    {
      "cell_type": "markdown",
      "source": [
        "# Byte-pair Encoding\n",
        "\n",
        "Instead of bytes, we iteratively find the pair of tokens that occur the most frequently in a sequence. Once we identify that pair, we replace the pair with a single new token.\n",
        "\n",
        "i.e.: aaabdaaabac ▶ ZabdZabac (Z=aa)\n",
        "      ▶ ZYdZYac (Y=ab) ▶ XdXac (ZY = X)\n",
        "\n",
        "<br>\n",
        "\n",
        "*here, instead of a sequence of 11 tokens with vocabulary length of 4, we know have 5 tokens but the vocabulary length is 7*\n",
        "\n",
        "### This optimizes for a compressed training dataset"
      ],
      "metadata": {
        "id": "fgLRYx047RQB"
      }
    },
    {
      "cell_type": "code",
      "source": [
        "text = \"Ｕｎｉｃｏｄｅ! 🅤🅝🅘🅒🅞🅓🅔‽ 🇺‌🇳‌🇮‌🇨‌🇴‌🇩‌🇪! 😄 The very name strikes fear and awe into the hearts of programmers worldwide. We all know we ought to “support Unicode” in our software (whatever that means—like using wchar_t for all the strings, right?). But Unicode can be abstruse, and diving into the thousand-page Unicode Standard plus its dozens of supplementary annexes, reports, and notes can be more than a little intimidating. I don’t blame programmers for still finding the whole thing mysterious, even 30 years after Unicode’s inception.\"\n",
        "tokens = text.encode(\"utf-8\") # raw bytes\n",
        "tokens = list(map(int, tokens))\n",
        "\n",
        "print(\"---\")\n",
        "print(text)\n",
        "print(\"length:\", len(text))\n",
        "print(\"---\")\n",
        "print(tokens)\n",
        "print(\"length:\", len(tokens))\n",
        "# A lot of the unicode becomes multiple characters"
      ],
      "metadata": {
        "colab": {
          "base_uri": "https://localhost:8080/"
        },
        "id": "0W3dOjA-8Kz2",
        "outputId": "b8b19f1b-77af-4d0b-d6b7-727c0c6c1bc3"
      },
      "execution_count": 7,
      "outputs": [
        {
          "output_type": "stream",
          "name": "stdout",
          "text": [
            "---\n",
            "Ｕｎｉｃｏｄｅ! 🅤🅝🅘🅒🅞🅓🅔‽ 🇺‌🇳‌🇮‌🇨‌🇴‌🇩‌🇪! 😄 The very name strikes fear and awe into the hearts of programmers worldwide. We all know we ought to “support Unicode” in our software (whatever that means—like using wchar_t for all the strings, right?). But Unicode can be abstruse, and diving into the thousand-page Unicode Standard plus its dozens of supplementary annexes, reports, and notes can be more than a little intimidating. I don’t blame programmers for still finding the whole thing mysterious, even 30 years after Unicode’s inception.\n",
            "length: 533\n",
            "---\n",
            "[239, 188, 181, 239, 189, 142, 239, 189, 137, 239, 189, 131, 239, 189, 143, 239, 189, 132, 239, 189, 133, 33, 32, 240, 159, 133, 164, 240, 159, 133, 157, 240, 159, 133, 152, 240, 159, 133, 146, 240, 159, 133, 158, 240, 159, 133, 147, 240, 159, 133, 148, 226, 128, 189, 32, 240, 159, 135, 186, 226, 128, 140, 240, 159, 135, 179, 226, 128, 140, 240, 159, 135, 174, 226, 128, 140, 240, 159, 135, 168, 226, 128, 140, 240, 159, 135, 180, 226, 128, 140, 240, 159, 135, 169, 226, 128, 140, 240, 159, 135, 170, 33, 32, 240, 159, 152, 132, 32, 84, 104, 101, 32, 118, 101, 114, 121, 32, 110, 97, 109, 101, 32, 115, 116, 114, 105, 107, 101, 115, 32, 102, 101, 97, 114, 32, 97, 110, 100, 32, 97, 119, 101, 32, 105, 110, 116, 111, 32, 116, 104, 101, 32, 104, 101, 97, 114, 116, 115, 32, 111, 102, 32, 112, 114, 111, 103, 114, 97, 109, 109, 101, 114, 115, 32, 119, 111, 114, 108, 100, 119, 105, 100, 101, 46, 32, 87, 101, 32, 97, 108, 108, 32, 107, 110, 111, 119, 32, 119, 101, 32, 111, 117, 103, 104, 116, 32, 116, 111, 32, 226, 128, 156, 115, 117, 112, 112, 111, 114, 116, 32, 85, 110, 105, 99, 111, 100, 101, 226, 128, 157, 32, 105, 110, 32, 111, 117, 114, 32, 115, 111, 102, 116, 119, 97, 114, 101, 32, 40, 119, 104, 97, 116, 101, 118, 101, 114, 32, 116, 104, 97, 116, 32, 109, 101, 97, 110, 115, 226, 128, 148, 108, 105, 107, 101, 32, 117, 115, 105, 110, 103, 32, 119, 99, 104, 97, 114, 95, 116, 32, 102, 111, 114, 32, 97, 108, 108, 32, 116, 104, 101, 32, 115, 116, 114, 105, 110, 103, 115, 44, 32, 114, 105, 103, 104, 116, 63, 41, 46, 32, 66, 117, 116, 32, 85, 110, 105, 99, 111, 100, 101, 32, 99, 97, 110, 32, 98, 101, 32, 97, 98, 115, 116, 114, 117, 115, 101, 44, 32, 97, 110, 100, 32, 100, 105, 118, 105, 110, 103, 32, 105, 110, 116, 111, 32, 116, 104, 101, 32, 116, 104, 111, 117, 115, 97, 110, 100, 45, 112, 97, 103, 101, 32, 85, 110, 105, 99, 111, 100, 101, 32, 83, 116, 97, 110, 100, 97, 114, 100, 32, 112, 108, 117, 115, 32, 105, 116, 115, 32, 100, 111, 122, 101, 110, 115, 32, 111, 102, 32, 115, 117, 112, 112, 108, 101, 109, 101, 110, 116, 97, 114, 121, 32, 97, 110, 110, 101, 120, 101, 115, 44, 32, 114, 101, 112, 111, 114, 116, 115, 44, 32, 97, 110, 100, 32, 110, 111, 116, 101, 115, 32, 99, 97, 110, 32, 98, 101, 32, 109, 111, 114, 101, 32, 116, 104, 97, 110, 32, 97, 32, 108, 105, 116, 116, 108, 101, 32, 105, 110, 116, 105, 109, 105, 100, 97, 116, 105, 110, 103, 46, 32, 73, 32, 100, 111, 110, 226, 128, 153, 116, 32, 98, 108, 97, 109, 101, 32, 112, 114, 111, 103, 114, 97, 109, 109, 101, 114, 115, 32, 102, 111, 114, 32, 115, 116, 105, 108, 108, 32, 102, 105, 110, 100, 105, 110, 103, 32, 116, 104, 101, 32, 119, 104, 111, 108, 101, 32, 116, 104, 105, 110, 103, 32, 109, 121, 115, 116, 101, 114, 105, 111, 117, 115, 44, 32, 101, 118, 101, 110, 32, 51, 48, 32, 121, 101, 97, 114, 115, 32, 97, 102, 116, 101, 114, 32, 85, 110, 105, 99, 111, 100, 101, 226, 128, 153, 115, 32, 105, 110, 99, 101, 112, 116, 105, 111, 110, 46]\n",
            "length: 616\n"
          ]
        }
      ]
    },
    {
      "cell_type": "code",
      "source": [
        "# Finding the pair of bytes that work most frequently\n",
        "\n",
        "def get_stats(ids):\n",
        "  counts = {}\n",
        "  for pair in zip(ids, ids[1:]):\n",
        "    counts[pair] = counts.get(pair, 0) + 1\n",
        "  return counts\n",
        "\n",
        "stats = get_stats(tokens)\n",
        "# print(stats)\n",
        "print(sorted(((v,k) for k,v in stats.items()), reverse=True))\n",
        "\n",
        "# First pair (most common) is the first item printed"
      ],
      "metadata": {
        "colab": {
          "base_uri": "https://localhost:8080/"
        },
        "id": "iExZ4a2t8cZ7",
        "outputId": "bd5043d6-9059-46ee-8467-8f472c97a6c3"
      },
      "execution_count": 8,
      "outputs": [
        {
          "output_type": "stream",
          "name": "stdout",
          "text": [
            "[(20, (101, 32)), (15, (240, 159)), (12, (226, 128)), (12, (105, 110)), (10, (115, 32)), (10, (97, 110)), (10, (32, 97)), (9, (32, 116)), (8, (116, 104)), (7, (159, 135)), (7, (159, 133)), (7, (97, 114)), (6, (239, 189)), (6, (140, 240)), (6, (128, 140)), (6, (116, 32)), (6, (114, 32)), (6, (111, 114)), (6, (110, 103)), (6, (110, 100)), (6, (109, 101)), (6, (104, 101)), (6, (101, 114)), (6, (32, 105)), (5, (117, 115)), (5, (115, 116)), (5, (110, 32)), (5, (100, 101)), (5, (44, 32)), (5, (32, 115)), (4, (116, 105)), (4, (116, 101)), (4, (115, 44)), (4, (114, 105)), (4, (111, 117)), (4, (111, 100)), (4, (110, 116)), (4, (110, 105)), (4, (105, 99)), (4, (104, 97)), (4, (103, 32)), (4, (101, 97)), (4, (100, 32)), (4, (99, 111)), (4, (97, 109)), (4, (85, 110)), (4, (32, 119)), (4, (32, 111)), (4, (32, 102)), (4, (32, 85)), (3, (118, 101)), (3, (116, 115)), (3, (116, 114)), (3, (116, 111)), (3, (114, 116)), (3, (114, 115)), (3, (114, 101)), (3, (111, 102)), (3, (111, 32)), (3, (108, 108)), (3, (108, 101)), (3, (108, 32)), (3, (101, 115)), (3, (101, 110)), (3, (97, 116)), (3, (46, 32)), (3, (32, 240)), (3, (32, 112)), (3, (32, 109)), (3, (32, 100)), (3, (32, 98)), (2, (128, 153)), (2, (121, 32)), (2, (119, 104)), (2, (119, 101)), (2, (117, 112)), (2, (116, 97)), (2, (115, 117)), (2, (114, 121)), (2, (114, 111)), (2, (114, 97)), (2, (112, 114)), (2, (112, 112)), (2, (112, 111)), (2, (112, 108)), (2, (111, 110)), (2, (111, 103)), (2, (110, 115)), (2, (110, 111)), (2, (109, 109)), (2, (108, 105)), (2, (107, 101)), (2, (105, 116)), (2, (105, 111)), (2, (105, 107)), (2, (105, 100)), (2, (104, 116)), (2, (104, 111)), (2, (103, 114)), (2, (103, 104)), (2, (102, 116)), (2, (102, 111)), (2, (102, 32)), (2, (101, 226)), (2, (101, 118)), (2, (101, 112)), (2, (100, 111)), (2, (100, 105)), (2, (100, 97)), (2, (99, 97)), (2, (98, 101)), (2, (97, 108)), (2, (33, 32)), (2, (32, 114)), (2, (32, 110)), (2, (32, 99)), (1, (239, 188)), (1, (189, 143)), (1, (189, 142)), (1, (189, 137)), (1, (189, 133)), (1, (189, 132)), (1, (189, 131)), (1, (189, 32)), (1, (188, 181)), (1, (186, 226)), (1, (181, 239)), (1, (180, 226)), (1, (179, 226)), (1, (174, 226)), (1, (170, 33)), (1, (169, 226)), (1, (168, 226)), (1, (164, 240)), (1, (159, 152)), (1, (158, 240)), (1, (157, 240)), (1, (157, 32)), (1, (156, 115)), (1, (153, 116)), (1, (153, 115)), (1, (152, 240)), (1, (152, 132)), (1, (148, 226)), (1, (148, 108)), (1, (147, 240)), (1, (146, 240)), (1, (143, 239)), (1, (142, 239)), (1, (137, 239)), (1, (135, 186)), (1, (135, 180)), (1, (135, 179)), (1, (135, 174)), (1, (135, 170)), (1, (135, 169)), (1, (135, 168)), (1, (133, 164)), (1, (133, 158)), (1, (133, 157)), (1, (133, 152)), (1, (133, 148)), (1, (133, 147)), (1, (133, 146)), (1, (133, 33)), (1, (132, 239)), (1, (132, 32)), (1, (131, 239)), (1, (128, 189)), (1, (128, 157)), (1, (128, 156)), (1, (128, 148)), (1, (122, 101)), (1, (121, 115)), (1, (121, 101)), (1, (120, 101)), (1, (119, 111)), (1, (119, 105)), (1, (119, 99)), (1, (119, 97)), (1, (119, 32)), (1, (118, 105)), (1, (117, 116)), (1, (117, 114)), (1, (117, 103)), (1, (116, 119)), (1, (116, 116)), (1, (116, 108)), (1, (116, 63)), (1, (115, 226)), (1, (115, 111)), (1, (115, 105)), (1, (115, 101)), (1, (115, 97)), (1, (114, 117)), (1, (114, 108)), (1, (114, 100)), (1, (114, 95)), (1, (112, 116)), (1, (112, 97)), (1, (111, 122)), (1, (111, 119)), (1, (111, 116)), (1, (111, 108)), (1, (110, 226)), (1, (110, 110)), (1, (110, 101)), (1, (110, 99)), (1, (110, 97)), (1, (110, 46)), (1, (109, 121)), (1, (109, 111)), (1, (109, 105)), (1, (108, 117)), (1, (108, 100)), (1, (108, 97)), (1, (107, 110)), (1, (105, 118)), (1, (105, 109)), (1, (105, 108)), (1, (105, 103)), (1, (104, 105)), (1, (103, 115)), (1, (103, 101)), (1, (103, 46)), (1, (102, 105)), (1, (102, 101)), (1, (101, 120)), (1, (101, 109)), (1, (101, 46)), (1, (101, 44)), (1, (100, 119)), (1, (100, 45)), (1, (99, 104)), (1, (99, 101)), (1, (98, 115)), (1, (98, 108)), (1, (97, 119)), (1, (97, 103)), (1, (97, 102)), (1, (97, 98)), (1, (97, 32)), (1, (95, 116)), (1, (87, 101)), (1, (84, 104)), (1, (83, 116)), (1, (73, 32)), (1, (66, 117)), (1, (63, 41)), (1, (51, 48)), (1, (48, 32)), (1, (45, 112)), (1, (41, 46)), (1, (40, 119)), (1, (32, 226)), (1, (32, 121)), (1, (32, 118)), (1, (32, 117)), (1, (32, 108)), (1, (32, 107)), (1, (32, 104)), (1, (32, 101)), (1, (32, 87)), (1, (32, 84)), (1, (32, 83)), (1, (32, 73)), (1, (32, 66)), (1, (32, 51)), (1, (32, 40))]\n"
          ]
        }
      ]
    },
    {
      "cell_type": "code",
      "source": [
        "chr(101), chr(32)"
      ],
      "metadata": {
        "colab": {
          "base_uri": "https://localhost:8080/"
        },
        "id": "FGD0cLkl9CB0",
        "outputId": "a12ef0b3-d4da-417a-c947-1f76843a930f"
      },
      "execution_count": 10,
      "outputs": [
        {
          "output_type": "execute_result",
          "data": {
            "text/plain": [
              "('e', ' ')"
            ]
          },
          "metadata": {},
          "execution_count": 10
        }
      ]
    },
    {
      "cell_type": "markdown",
      "source": [
        " Minting a new token every time we see the most-common pair and swap it out"
      ],
      "metadata": {
        "id": "gdRTFhEU9g30"
      }
    },
    {
      "cell_type": "code",
      "source": [
        "top_pair = max(stats, key=stats.get) # Ranking by value and getting max key"
      ],
      "metadata": {
        "id": "FBtAW9Gl84I-"
      },
      "execution_count": 11,
      "outputs": []
    },
    {
      "cell_type": "code",
      "source": [
        "def merge(ids, pair, idx):\n",
        "  newids = []\n",
        "  i = 0\n",
        "  while i < len(ids):\n",
        "    # if we're not in the last position and the pair matches, replace it\n",
        "    if i < len(ids) - 1 and ids[i] == pair[0] and ids[i+1] == pair[1]:\n",
        "      newids.append(idx)\n",
        "      i += 2\n",
        "    else:\n",
        "      newids.append(ids[i])\n",
        "      i += 1\n",
        "  return newids\n",
        "\n",
        "tokens2 = merge(tokens, top_pair, 256)\n",
        "print(tokens2)\n",
        "print(\"length: \", len(tokens2)) # Decreased by 20\n"
      ],
      "metadata": {
        "colab": {
          "base_uri": "https://localhost:8080/"
        },
        "id": "MP_qWxtq90UI",
        "outputId": "14dd97f9-7191-489e-d3e7-ce78fb75dd1e"
      },
      "execution_count": 12,
      "outputs": [
        {
          "output_type": "stream",
          "name": "stdout",
          "text": [
            "[239, 188, 181, 239, 189, 142, 239, 189, 137, 239, 189, 131, 239, 189, 143, 239, 189, 132, 239, 189, 133, 33, 32, 240, 159, 133, 164, 240, 159, 133, 157, 240, 159, 133, 152, 240, 159, 133, 146, 240, 159, 133, 158, 240, 159, 133, 147, 240, 159, 133, 148, 226, 128, 189, 32, 240, 159, 135, 186, 226, 128, 140, 240, 159, 135, 179, 226, 128, 140, 240, 159, 135, 174, 226, 128, 140, 240, 159, 135, 168, 226, 128, 140, 240, 159, 135, 180, 226, 128, 140, 240, 159, 135, 169, 226, 128, 140, 240, 159, 135, 170, 33, 32, 240, 159, 152, 132, 32, 84, 104, 256, 118, 101, 114, 121, 32, 110, 97, 109, 256, 115, 116, 114, 105, 107, 101, 115, 32, 102, 101, 97, 114, 32, 97, 110, 100, 32, 97, 119, 256, 105, 110, 116, 111, 32, 116, 104, 256, 104, 101, 97, 114, 116, 115, 32, 111, 102, 32, 112, 114, 111, 103, 114, 97, 109, 109, 101, 114, 115, 32, 119, 111, 114, 108, 100, 119, 105, 100, 101, 46, 32, 87, 256, 97, 108, 108, 32, 107, 110, 111, 119, 32, 119, 256, 111, 117, 103, 104, 116, 32, 116, 111, 32, 226, 128, 156, 115, 117, 112, 112, 111, 114, 116, 32, 85, 110, 105, 99, 111, 100, 101, 226, 128, 157, 32, 105, 110, 32, 111, 117, 114, 32, 115, 111, 102, 116, 119, 97, 114, 256, 40, 119, 104, 97, 116, 101, 118, 101, 114, 32, 116, 104, 97, 116, 32, 109, 101, 97, 110, 115, 226, 128, 148, 108, 105, 107, 256, 117, 115, 105, 110, 103, 32, 119, 99, 104, 97, 114, 95, 116, 32, 102, 111, 114, 32, 97, 108, 108, 32, 116, 104, 256, 115, 116, 114, 105, 110, 103, 115, 44, 32, 114, 105, 103, 104, 116, 63, 41, 46, 32, 66, 117, 116, 32, 85, 110, 105, 99, 111, 100, 256, 99, 97, 110, 32, 98, 256, 97, 98, 115, 116, 114, 117, 115, 101, 44, 32, 97, 110, 100, 32, 100, 105, 118, 105, 110, 103, 32, 105, 110, 116, 111, 32, 116, 104, 256, 116, 104, 111, 117, 115, 97, 110, 100, 45, 112, 97, 103, 256, 85, 110, 105, 99, 111, 100, 256, 83, 116, 97, 110, 100, 97, 114, 100, 32, 112, 108, 117, 115, 32, 105, 116, 115, 32, 100, 111, 122, 101, 110, 115, 32, 111, 102, 32, 115, 117, 112, 112, 108, 101, 109, 101, 110, 116, 97, 114, 121, 32, 97, 110, 110, 101, 120, 101, 115, 44, 32, 114, 101, 112, 111, 114, 116, 115, 44, 32, 97, 110, 100, 32, 110, 111, 116, 101, 115, 32, 99, 97, 110, 32, 98, 256, 109, 111, 114, 256, 116, 104, 97, 110, 32, 97, 32, 108, 105, 116, 116, 108, 256, 105, 110, 116, 105, 109, 105, 100, 97, 116, 105, 110, 103, 46, 32, 73, 32, 100, 111, 110, 226, 128, 153, 116, 32, 98, 108, 97, 109, 256, 112, 114, 111, 103, 114, 97, 109, 109, 101, 114, 115, 32, 102, 111, 114, 32, 115, 116, 105, 108, 108, 32, 102, 105, 110, 100, 105, 110, 103, 32, 116, 104, 256, 119, 104, 111, 108, 256, 116, 104, 105, 110, 103, 32, 109, 121, 115, 116, 101, 114, 105, 111, 117, 115, 44, 32, 101, 118, 101, 110, 32, 51, 48, 32, 121, 101, 97, 114, 115, 32, 97, 102, 116, 101, 114, 32, 85, 110, 105, 99, 111, 100, 101, 226, 128, 153, 115, 32, 105, 110, 99, 101, 112, 116, 105, 111, 110, 46]\n",
            "length:  596\n"
          ]
        }
      ]
    },
    {
      "cell_type": "markdown",
      "source": [
        "### The more steps we take, the larger the vocabulary and the shorter the sequence: Finding the sweet spot hyperparameter. GPT-4 is 100,000"
      ],
      "metadata": {
        "id": "Vbzgiqob-s4z"
      }
    },
    {
      "cell_type": "code",
      "source": [
        "def get_stats(ids):\n",
        "  counts = {}\n",
        "  for pair in zip(ids, ids[1:]):\n",
        "    counts[pair] = counts.get(pair, 0) + 1\n",
        "  return counts\n",
        "\n",
        "\n",
        "def merge(ids, pair, idx):\n",
        "  newids = []\n",
        "  i = 0\n",
        "  while i < len(ids):\n",
        "    # if we're not in the last position and the pair matches, replace it\n",
        "    if i < len(ids) - 1 and ids[i] == pair[0] and ids[i+1] == pair[1]:\n",
        "      newids.append(idx)\n",
        "      i += 2\n",
        "    else:\n",
        "      newids.append(ids[i])\n",
        "      i += 1\n",
        "  return newids\n",
        "\n",
        "\n",
        "# ---\n",
        "vocab_size = 276 # desired final vocab size\n",
        "num_merges = vocab_size - 256\n",
        "ids = list(tokens) # copy\n",
        "\n",
        "merges = {} # (int, int) -> int\n",
        "\n",
        "for i in range(num_merges):\n",
        "  stats = get_stats(ids)\n",
        "  pair = max(stats, key=stats.get)\n",
        "  idx = 256 + i\n",
        "  print(f\"merging {pair} into a new token {idx}\")\n",
        "  ids = merge(ids, pair, idx)\n",
        "  merges[pair] = idx"
      ],
      "metadata": {
        "colab": {
          "base_uri": "https://localhost:8080/"
        },
        "id": "F3Iq1QXV-fqb",
        "outputId": "b43b81f2-b53d-41c0-9995-cb916c6d729c"
      },
      "execution_count": 13,
      "outputs": [
        {
          "output_type": "stream",
          "name": "stdout",
          "text": [
            "merging (101, 32) into a new token 256\n",
            "merging (240, 159) into a new token 257\n",
            "merging (226, 128) into a new token 258\n",
            "merging (105, 110) into a new token 259\n",
            "merging (115, 32) into a new token 260\n",
            "merging (97, 110) into a new token 261\n",
            "merging (116, 104) into a new token 262\n",
            "merging (257, 133) into a new token 263\n",
            "merging (257, 135) into a new token 264\n",
            "merging (97, 114) into a new token 265\n",
            "merging (239, 189) into a new token 266\n",
            "merging (258, 140) into a new token 267\n",
            "merging (267, 264) into a new token 268\n",
            "merging (101, 114) into a new token 269\n",
            "merging (111, 114) into a new token 270\n",
            "merging (116, 32) into a new token 271\n",
            "merging (259, 103) into a new token 272\n",
            "merging (115, 116) into a new token 273\n",
            "merging (261, 100) into a new token 274\n",
            "merging (32, 262) into a new token 275\n"
          ]
        }
      ]
    },
    {
      "cell_type": "markdown",
      "source": [
        "Note that the token 256 is also eligible for merging (just like ZY becomes X). The format of this is more of a binary forest instead of a particular tree"
      ],
      "metadata": {
        "id": "6GzS83m9Bv0J"
      }
    },
    {
      "cell_type": "code",
      "source": [
        "print(\"tokens length:\", len(tokens))\n",
        "print(\"ids length:\", len(ids))\n",
        "print(f\"compression ration: {len(tokens) / len(ids):.2f}X\")"
      ],
      "metadata": {
        "colab": {
          "base_uri": "https://localhost:8080/"
        },
        "id": "r08a0jKP_h8f",
        "outputId": "43b183c3-c7ae-47a8-99ea-4b3738040770"
      },
      "execution_count": 14,
      "outputs": [
        {
          "output_type": "stream",
          "name": "stdout",
          "text": [
            "tokens length: 616\n",
            "ids length: 451\n",
            "compression ration: 1.37X\n"
          ]
        }
      ]
    },
    {
      "cell_type": "markdown",
      "source": [
        "The Tokenizer is a completely separate, independent module from the LLM. It has its own training dataset of text (which could be different from the LLM), on which you train the vocabulary using the BPE algorithm. It then translates back and forth between raw text and sequence of tokens.\n",
        "\n",
        "**The LLM later only ever sees the tokens and never directly deals with any text.**"
      ],
      "metadata": {
        "id": "0WLbJMorCKgj"
      }
    },
    {
      "cell_type": "markdown",
      "source": [
        "![image.png](data:image/png;base64,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)"
      ],
      "metadata": {
        "id": "FA8zQEG3CIl3"
      }
    },
    {
      "cell_type": "markdown",
      "source": [
        "## Decoding\n",
        "Given a sequence of integers in the range [0, vocab_size], what is the text?"
      ],
      "metadata": {
        "id": "h8kdBkFzCx49"
      }
    },
    {
      "cell_type": "code",
      "source": [
        "vocab = {idx: bytes([idx]) for idx in range(256)}\n",
        "for (p0, p1), idx in merges.items():\n",
        "  vocab[idx] = vocab[p0] + vocab[p1]\n",
        "\n",
        "def decode(ids):\n",
        "  # given ids (list of integers), return Python string\n",
        "  tokens = b\"\".join(vocab[idx] for idx in ids)\n",
        "  text = tokens.decode(\"utf-8\", errors=\"replace\")\n",
        "  return text"
      ],
      "metadata": {
        "id": "2IRasfAbCBwI"
      },
      "execution_count": 15,
      "outputs": []
    },
    {
      "cell_type": "markdown",
      "source": [
        "## Encoding\n",
        "The up arrow in the image above. Remember that merges was built from top to bottom (some merges on the way down rely on other merges)"
      ],
      "metadata": {
        "id": "6Ux1Zbs9EDQu"
      }
    },
    {
      "cell_type": "code",
      "source": [
        "def encode(text):\n",
        "  tokens = list(text.encode(\"utf-8\"))\n",
        "  while len(tokens) >= 2:\n",
        "    stats = get_stats(tokens) # Counting occurrence of pairs as dict\n",
        "\n",
        "    # For any pair, looking into merges and get pair with min number\n",
        "    pair = min(stats, key=lambda p: merges.get(p, float(\"inf\")))\n",
        "    if pair not in merges:\n",
        "      break # nothing else can be merged\n",
        "    idx = merges[pair]\n",
        "    tokens = merge(tokens, pair, idx)\n",
        "\n",
        "  return tokens"
      ],
      "metadata": {
        "id": "U0oR8p3fEAs1"
      },
      "execution_count": 17,
      "outputs": []
    },
    {
      "cell_type": "markdown",
      "source": [
        "### Not all token sequences are valid byte strings"
      ],
      "metadata": {
        "id": "Mhn2TxIJGlaw"
      }
    },
    {
      "cell_type": "code",
      "source": [
        "text2 = decode(encode(text)) # testing with the training data\n",
        "print(text2 == text)"
      ],
      "metadata": {
        "colab": {
          "base_uri": "https://localhost:8080/"
        },
        "id": "VlEP0ri1GURV",
        "outputId": "ef4bf156-cd2b-4a32-9654-292f81cc2d82"
      },
      "execution_count": 19,
      "outputs": [
        {
          "output_type": "stream",
          "name": "stdout",
          "text": [
            "True\n"
          ]
        }
      ]
    },
    {
      "cell_type": "markdown",
      "source": [
        "# Tokenization in GPT series\n",
        "### GPT-2 paper (2019)\n",
        "Motivating the use of BPE on the Byte-level representation of UTF-8 encoding + Vocabulary sizes.\n",
        "\n",
        "▶ Common words i.e.: Dog (\"dog.\", \"dog?\", \"dog!\") -- unnecessary clustering\n",
        "\n",
        "▶ Top-down enforcing some black-lists for pair-encoding.\n",
        "\n",
        "\n",
        "### Using a Regex pattern\n",
        "GPT-2 Regex:\n",
        "```python\n",
        "re.compile(r\"\"\"'s|'t|'re|'ve|'m|'ll|'d| ?\\p{L}+| ?\\p{N}+| ?[^\\s\\p{L}\\p{N}]+|\\s+(?!\\S)|\\s+\"\"\")\n",
        "```"
      ],
      "metadata": {
        "id": "wU4RQg3cG57n"
      }
    },
    {
      "cell_type": "code",
      "source": [
        "!pip install regex"
      ],
      "metadata": {
        "colab": {
          "base_uri": "https://localhost:8080/"
        },
        "id": "7u7_MmoYGtPA",
        "outputId": "4031e6d4-1497-4192-80c9-96976878a881"
      },
      "execution_count": 20,
      "outputs": [
        {
          "output_type": "stream",
          "name": "stdout",
          "text": [
            "Requirement already satisfied: regex in /usr/local/lib/python3.10/dist-packages (2023.12.25)\n"
          ]
        }
      ]
    },
    {
      "cell_type": "markdown",
      "source": [
        "### Forced splits using regex patterns"
      ],
      "metadata": {
        "id": "rS819JhvH-lx"
      }
    },
    {
      "cell_type": "markdown",
      "source": [
        "Re.findall will take the pattern and will try to match it against the input string and organize the occurrences into a list. We're taking the string and instead of directly encoding, we first split it up.\n",
        "\n",
        "1. Splits the text into a list of texts\n",
        "2. All the elements of the list are processed individually\n",
        "3. The results are concatenated\n",
        "\n",
        "Only find merges within elements of lists. The results of that will be joint."
      ],
      "metadata": {
        "id": "6Olas8wTINem"
      }
    },
    {
      "cell_type": "code",
      "source": [
        "import regex as re\n",
        "gpt2pat = re.compile(r\"\"\"'s|'t|'re|'ve|'m|'ll|'d| ?\\p{L}+| ?\\p{N}+| ?[^\\s\\p{L}\\p{N}]+|\\s+(?!\\S)|\\s+\"\"\")\n",
        "\n",
        "# hardcoded to the apostrophe '   | case sensitive\n",
        "print(re.findall(gpt2pat, \"Hello've world123 HOW's she'll  how's be there!!!?     \"))"
      ],
      "metadata": {
        "colab": {
          "base_uri": "https://localhost:8080/"
        },
        "id": "BNh-YU0WH6Y0",
        "outputId": "4a490855-4063-4eea-e9f8-89a9d519095e"
      },
      "execution_count": 30,
      "outputs": [
        {
          "output_type": "stream",
          "name": "stdout",
          "text": [
            "['Hello', \"'ve\", ' world', '123', ' HOW', \"'s\", ' she', \"'ll\", ' ', ' how', \"'s\", ' be', ' there', '!!!?', '     ']\n"
          ]
        }
      ]
    },
    {
      "cell_type": "code",
      "source": [
        "example = \"\"\"\n",
        "for i in range(1, 101):\n",
        "    if i % 3 == 0 and i % 5 ==0:\n",
        "        print(\"FizzBuzz\")\n",
        "    elif i % 3 == 0:\n",
        "        print(\"Fizz\")\n",
        "    elif i % 5 == 0:\n",
        "        print(\"Buzz\")\n",
        "    else:\n",
        "        print(i)\n",
        "\"\"\"\n",
        "\n",
        "# note that openAI probabaly enforced some sort of enforcement for whitespace\n",
        "print(re.findall(gpt2pat, example))"
      ],
      "metadata": {
        "colab": {
          "base_uri": "https://localhost:8080/"
        },
        "id": "NVa4OaWBIGKd",
        "outputId": "d091322f-1ab2-4924-f5ea-9f796b59d256"
      },
      "execution_count": 34,
      "outputs": [
        {
          "output_type": "stream",
          "name": "stdout",
          "text": [
            "['\\n', 'for', ' i', ' in', ' range', '(', '1', ',', ' 101', '):', '\\n   ', ' if', ' i', ' %', ' 3', ' ==', ' 0', ' and', ' i', ' %', ' 5', ' ==', '0', ':', '\\n       ', ' print', '(\"', 'FizzBuzz', '\")', '\\n   ', ' elif', ' i', ' %', ' 3', ' ==', ' 0', ':', '\\n       ', ' print', '(\"', 'Fizz', '\")', '\\n   ', ' elif', ' i', ' %', ' 5', ' ==', ' 0', ':', '\\n       ', ' print', '(\"', 'Buzz', '\")', '\\n   ', ' else', ':', '\\n       ', ' print', '(', 'i', ')', '\\n']\n"
          ]
        }
      ]
    },
    {
      "cell_type": "code",
      "source": [
        "!pip install tiktoken"
      ],
      "metadata": {
        "colab": {
          "base_uri": "https://localhost:8080/"
        },
        "id": "Zl_Rv6J1K0u3",
        "outputId": "943cd1b3-2247-49a8-92ff-75be66728a8c"
      },
      "execution_count": 35,
      "outputs": [
        {
          "output_type": "stream",
          "name": "stdout",
          "text": [
            "Collecting tiktoken\n",
            "  Downloading tiktoken-0.6.0-cp310-cp310-manylinux_2_17_x86_64.manylinux2014_x86_64.whl (1.8 MB)\n",
            "\u001b[2K     \u001b[90m━━━━━━━━━━━━━━━━━━━━━━━━━━━━━━━━━━━━━━━━\u001b[0m \u001b[32m1.8/1.8 MB\u001b[0m \u001b[31m9.4 MB/s\u001b[0m eta \u001b[36m0:00:00\u001b[0m\n",
            "\u001b[?25hRequirement already satisfied: regex>=2022.1.18 in /usr/local/lib/python3.10/dist-packages (from tiktoken) (2023.12.25)\n",
            "Requirement already satisfied: requests>=2.26.0 in /usr/local/lib/python3.10/dist-packages (from tiktoken) (2.31.0)\n",
            "Requirement already satisfied: charset-normalizer<4,>=2 in /usr/local/lib/python3.10/dist-packages (from requests>=2.26.0->tiktoken) (3.3.2)\n",
            "Requirement already satisfied: idna<4,>=2.5 in /usr/local/lib/python3.10/dist-packages (from requests>=2.26.0->tiktoken) (3.6)\n",
            "Requirement already satisfied: urllib3<3,>=1.21.1 in /usr/local/lib/python3.10/dist-packages (from requests>=2.26.0->tiktoken) (2.0.7)\n",
            "Requirement already satisfied: certifi>=2017.4.17 in /usr/local/lib/python3.10/dist-packages (from requests>=2.26.0->tiktoken) (2024.2.2)\n",
            "Installing collected packages: tiktoken\n",
            "Successfully installed tiktoken-0.6.0\n"
          ]
        }
      ]
    },
    {
      "cell_type": "markdown",
      "source": [
        "### See [tikotken](https://tiktokenizer.vercel.app/)for details\n",
        "\n",
        "Encoding for GPT-2 on OpenAI Github:\n",
        "\n",
        "https://github.com/openai/tiktoken/blob/main/tiktoken_ext/openai_public.py\n"
      ],
      "metadata": {
        "id": "N6AsNaWfLNLM"
      }
    },
    {
      "cell_type": "code",
      "source": [
        "import tiktoken\n",
        "\n",
        "# GPT-2 (does not merge spaces)\n",
        "enc = tiktoken.get_encoding(\"gpt2\")\n",
        "print(enc.encode(\"    hello world!\"))\n",
        "\n",
        "# GPT-4 (merge spaces)\n",
        "enc = tiktoken.get_encoding(\"cl100k_base\")\n",
        "print(enc.encode(\"    hello world!!!\"))"
      ],
      "metadata": {
        "colab": {
          "base_uri": "https://localhost:8080/"
        },
        "id": "dQMM37fkKhi4",
        "outputId": "c4b1f9f7-8579-441d-f4c2-81493b30bb80"
      },
      "execution_count": 36,
      "outputs": [
        {
          "output_type": "stream",
          "name": "stdout",
          "text": [
            "[220, 220, 220, 23748, 995, 0]\n",
            "[262, 24748, 1917, 12340]\n"
          ]
        }
      ]
    },
    {
      "cell_type": "markdown",
      "source": [
        "```python\n",
        "r\"\"\"'(?:[sdmt]|ll|ve|re)| ?\\p{L}+| ?\\p{N}+| ?[^\\s\\p{L}\\p{N}]+|\\s+(?!\\S)|\\s+\"\"\",\n",
        "```\n",
        "▶ Number changes\n",
        "▶ White-space handling\n",
        "▶ Case-insensitive\n",
        "\n",
        "(150k -> 100k vocab size)"
      ],
      "metadata": {
        "id": "yWLVOfiNLvT5"
      }
    },
    {
      "cell_type": "code",
      "source": [
        "!wget https://openaipublic.blob.core.windows.net/gpt-2/models/1558M/vocab.bpe"
      ],
      "metadata": {
        "colab": {
          "base_uri": "https://localhost:8080/"
        },
        "id": "g-wpLW-qL8vX",
        "outputId": "6a1fc92f-4233-4c32-c4c2-320b1a145ee2"
      },
      "execution_count": 38,
      "outputs": [
        {
          "output_type": "stream",
          "name": "stdout",
          "text": [
            "--2024-02-21 05:43:33--  https://openaipublic.blob.core.windows.net/gpt-2/models/1558M/vocab.bpe\n",
            "Resolving openaipublic.blob.core.windows.net (openaipublic.blob.core.windows.net)... 20.60.179.33\n",
            "Connecting to openaipublic.blob.core.windows.net (openaipublic.blob.core.windows.net)|20.60.179.33|:443... connected.\n",
            "HTTP request sent, awaiting response... 200 OK\n",
            "Length: 456318 (446K) [application/octet-stream]\n",
            "Saving to: ‘vocab.bpe’\n",
            "\n",
            "vocab.bpe           100%[===================>] 445.62K  2.33MB/s    in 0.2s    \n",
            "\n",
            "2024-02-21 05:43:33 (2.33 MB/s) - ‘vocab.bpe’ saved [456318/456318]\n",
            "\n"
          ]
        }
      ]
    },
    {
      "cell_type": "code",
      "source": [
        "!wget https://openaipublic.blob.core.windows.net/gpt-2/models/1558M/encoder.json"
      ],
      "metadata": {
        "colab": {
          "base_uri": "https://localhost:8080/"
        },
        "id": "fb-CaFN5MEbf",
        "outputId": "2d9ea120-e964-4ebb-c841-085d3d6edcdd"
      },
      "execution_count": 37,
      "outputs": [
        {
          "output_type": "stream",
          "name": "stdout",
          "text": [
            "--2024-02-21 05:43:31--  https://openaipublic.blob.core.windows.net/gpt-2/models/1558M/encoder.json\n",
            "Resolving openaipublic.blob.core.windows.net (openaipublic.blob.core.windows.net)... 20.60.179.33\n",
            "Connecting to openaipublic.blob.core.windows.net (openaipublic.blob.core.windows.net)|20.60.179.33|:443... connected.\n",
            "HTTP request sent, awaiting response... 200 OK\n",
            "Length: 1042301 (1018K) [application/json]\n",
            "Saving to: ‘encoder.json’\n",
            "\n",
            "encoder.json        100%[===================>]   1018K  3.48MB/s    in 0.3s    \n",
            "\n",
            "2024-02-21 05:43:31 (3.48 MB/s) - ‘encoder.json’ saved [1042301/1042301]\n",
            "\n"
          ]
        }
      ]
    },
    {
      "cell_type": "code",
      "source": [
        "import os, json\n",
        "\n",
        "# -> saving and loading variables for merges and vocab\n",
        "with open('encoder.json', 'r') as f:\n",
        "  encoder = json.load(f)\n",
        "\n",
        "  # encoder equal to vocab object encoder\n",
        "\n",
        "with open('vocab.bpe', 'r', encoding='utf-8') as f:\n",
        "  bpe_data = f.read()\n",
        "\n",
        "  # this is our merges\n",
        "\n",
        "bpe_merges = [tuple(merge_str.split()) for merge_str in bpe_data.split('\\n')[1:-1]]"
      ],
      "metadata": {
        "id": "e32yJY2FMMh0"
      },
      "execution_count": 41,
      "outputs": []
    },
    {
      "cell_type": "code",
      "source": [],
      "metadata": {
        "id": "Mpn-cr54MjCB"
      },
      "execution_count": null,
      "outputs": []
    }
  ]
}