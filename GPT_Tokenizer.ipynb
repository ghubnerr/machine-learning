{
  "nbformat": 4,
  "nbformat_minor": 0,
  "metadata": {
    "colab": {
      "provenance": [],
      "authorship_tag": "ABX9TyM47hwOxeY44WtBK48fqPE6",
      "include_colab_link": true
    },
    "kernelspec": {
      "name": "python3",
      "display_name": "Python 3"
    },
    "language_info": {
      "name": "python"
    }
  },
  "cells": [
    {
      "cell_type": "markdown",
      "metadata": {
        "id": "view-in-github",
        "colab_type": "text"
      },
      "source": [
        "<a href=\"https://colab.research.google.com/github/ghubnerr/nlp-stuff/blob/main/GPT_Tokenizer.ipynb\" target=\"_parent\"><img src=\"https://colab.research.google.com/assets/colab-badge.svg\" alt=\"Open In Colab\"/></a>"
      ]
    },
    {
      "cell_type": "markdown",
      "source": [
        "# Byte-level Encoding: Input Representation (Paper)\n",
        "Tokenizer: 50,257 possible Tokens\n",
        "Context Size: 1024 tokens\n",
        "\n",
        "Attention layer: sees up to 1024 tokens.\n",
        "\n",
        "### Motivation for Tokenization\n",
        "- Heart of much weirdness in LLMs i.e.: Spelling, string processing, non-english languages, simple arithmetic, coding in Python (GPT-2), abrutply halting when seeing <|endoftext|>, trailing whitespace, YAML over JSON.\n",
        "\n",
        "### Tiktokenizer\n",
        "- https://tiktokenizer.vercel.app\n",
        "\n",
        "Shown explicitly in colors.\n",
        "Main examples (GPT-2):\n",
        "\n",
        "▶ token-ization (2 tokens)\n",
        "\n",
        "▶ ' at' (includes whitespace)\n",
        "\n",
        "▶ \\[127\\]\\[ +\\]\\[ 6\\]\\[77\\]\n",
        "\n",
        "▶ 'Egg' '.' -- whereas -- 'I'' have'' an'' Egg''.'\n",
        "\n",
        "*For the same concepts, all of these have different id's*\n",
        "\n",
        "▶ whitespaces in code -- individually!\n",
        "\n",
        "<br/>\n",
        "<hr/>\n",
        "\n",
        "\n",
        "What we're looking for is the sweet spot of vocabulary size."
      ],
      "metadata": {
        "id": "jvOOpuFg1kaP"
      }
    },
    {
      "cell_type": "code",
      "execution_count": null,
      "metadata": {
        "id": "LAWBHc911Eb6"
      },
      "outputs": [],
      "source": [
        "# Strings are immutable sequences of Unicode Code Points\n",
        "# Defined by the Unicode Consortium (149,813 characters)\n",
        "\n",
        "\"안녕하세요 👋\"\n",
        "\n",
        "ord(\"h\") # -> Gives me the unicode code point #104\n",
        "ord(\"👋\") # 50504"
      ]
    },
    {
      "cell_type": "code",
      "source": [
        "[ord(x) for x in \"안녕하세요 👋\"]"
      ],
      "metadata": {
        "colab": {
          "base_uri": "https://localhost:8080/"
        },
        "id": "BcHfdUz15gSJ",
        "outputId": "042255ee-2cc8-4eff-e24d-84db3497633f"
      },
      "execution_count": 1,
      "outputs": [
        {
          "output_type": "execute_result",
          "data": {
            "text/plain": [
              "[50504, 45397, 54616, 49464, 50836, 32, 128075]"
            ]
          },
          "metadata": {},
          "execution_count": 1
        }
      ]
    },
    {
      "cell_type": "markdown",
      "source": [
        "Why not just use these numbers?\n",
        "\n",
        "▶ Unstable representation\n",
        "\n",
        "▶ Long vocabulary\n",
        "\n",
        "\n",
        "<hr>\n",
        "Encodings: UTF-8, UTF-16, UTF-32 are ways of translating unicode encodings into binary data (byte-strings)\n",
        "\n",
        "### UTF-8 Encoding: Preferred\n",
        "Backwards-compatible to the ASCII Text"
      ],
      "metadata": {
        "id": "SRygGBY55oej"
      }
    },
    {
      "cell_type": "code",
      "source": [
        "list(\"안녕하세요 👋\".encode(\"utf-8\"))\n",
        "# list(\"안녕하세요 👋\".encode(\"utf-16\")) # Wasteful encoding"
      ],
      "metadata": {
        "colab": {
          "base_uri": "https://localhost:8080/"
        },
        "id": "iGR9U0Gn5lOx",
        "outputId": "0a9b823e-f486-4334-c1c5-32c9663011e6"
      },
      "execution_count": 2,
      "outputs": [
        {
          "output_type": "execute_result",
          "data": {
            "text/plain": [
              "[236,\n",
              " 149,\n",
              " 136,\n",
              " 235,\n",
              " 133,\n",
              " 149,\n",
              " 237,\n",
              " 149,\n",
              " 152,\n",
              " 236,\n",
              " 132,\n",
              " 184,\n",
              " 236,\n",
              " 154,\n",
              " 148,\n",
              " 32,\n",
              " 240,\n",
              " 159,\n",
              " 145,\n",
              " 139]"
            ]
          },
          "metadata": {},
          "execution_count": 2
        }
      ]
    },
    {
      "cell_type": "markdown",
      "source": [
        "This vocabulary implies that the vocabulary length would only be of 256 characters, and all of our text would be stretched out to very long sequences of bytes. What this does is make the embedding table to be tiny, but the sequences are very long. This is bad because of the finite context length that we can support inside the attention head.\n",
        "\n",
        "### 💡 Predicting Million-byte Sequences with Multiscale Transformers\n"
      ],
      "metadata": {
        "id": "Qbo9EbYs6is9"
      }
    },
    {
      "cell_type": "markdown",
      "source": [
        "# Byte-pair Encoding\n",
        "\n",
        "Instead of bytes, we iteratively find the pair of tokens that occur the most frequently in a sequence. Once we identify that pair, we replace the pair with a single new token.\n",
        "\n",
        "i.e.: aaabdaaabac ▶ ZabdZabac (Z=aa)\n",
        "      ▶ ZYdZYac (Y=ab) ▶ XdXac (ZY = X)\n",
        "\n",
        "<br>\n",
        "\n",
        "*here, instead of a sequence of 11 tokens with vocabulary length of 4, we know have 5 tokens but the vocabulary length is 7*\n",
        "\n",
        "### This optimizes for a compressed training dataset"
      ],
      "metadata": {
        "id": "fgLRYx047RQB"
      }
    },
    {
      "cell_type": "code",
      "source": [
        "text = \"Ｕｎｉｃｏｄｅ! 🅤🅝🅘🅒🅞🅓🅔‽ 🇺‌🇳‌🇮‌🇨‌🇴‌🇩‌🇪! 😄 The very name strikes fear and awe into the hearts of programmers worldwide. We all know we ought to “support Unicode” in our software (whatever that means—like using wchar_t for all the strings, right?). But Unicode can be abstruse, and diving into the thousand-page Unicode Standard plus its dozens of supplementary annexes, reports, and notes can be more than a little intimidating. I don’t blame programmers for still finding the whole thing mysterious, even 30 years after Unicode’s inception.\"\n",
        "tokens = text.encode(\"utf-8\") # raw bytes\n",
        "tokens = list(map(int, tokens))\n",
        "\n",
        "print(\"---\")\n",
        "print(text)\n",
        "print(\"length:\", len(text))\n",
        "print(\"---\")\n",
        "print(tokens)\n",
        "print(\"length:\", len(tokens))\n",
        "# A lot of the unicode becomes multiple characters"
      ],
      "metadata": {
        "colab": {
          "base_uri": "https://localhost:8080/"
        },
        "id": "0W3dOjA-8Kz2",
        "outputId": "b8b19f1b-77af-4d0b-d6b7-727c0c6c1bc3"
      },
      "execution_count": 7,
      "outputs": [
        {
          "output_type": "stream",
          "name": "stdout",
          "text": [
            "---\n",
            "Ｕｎｉｃｏｄｅ! 🅤🅝🅘🅒🅞🅓🅔‽ 🇺‌🇳‌🇮‌🇨‌🇴‌🇩‌🇪! 😄 The very name strikes fear and awe into the hearts of programmers worldwide. We all know we ought to “support Unicode” in our software (whatever that means—like using wchar_t for all the strings, right?). But Unicode can be abstruse, and diving into the thousand-page Unicode Standard plus its dozens of supplementary annexes, reports, and notes can be more than a little intimidating. I don’t blame programmers for still finding the whole thing mysterious, even 30 years after Unicode’s inception.\n",
            "length: 533\n",
            "---\n",
            "[239, 188, 181, 239, 189, 142, 239, 189, 137, 239, 189, 131, 239, 189, 143, 239, 189, 132, 239, 189, 133, 33, 32, 240, 159, 133, 164, 240, 159, 133, 157, 240, 159, 133, 152, 240, 159, 133, 146, 240, 159, 133, 158, 240, 159, 133, 147, 240, 159, 133, 148, 226, 128, 189, 32, 240, 159, 135, 186, 226, 128, 140, 240, 159, 135, 179, 226, 128, 140, 240, 159, 135, 174, 226, 128, 140, 240, 159, 135, 168, 226, 128, 140, 240, 159, 135, 180, 226, 128, 140, 240, 159, 135, 169, 226, 128, 140, 240, 159, 135, 170, 33, 32, 240, 159, 152, 132, 32, 84, 104, 101, 32, 118, 101, 114, 121, 32, 110, 97, 109, 101, 32, 115, 116, 114, 105, 107, 101, 115, 32, 102, 101, 97, 114, 32, 97, 110, 100, 32, 97, 119, 101, 32, 105, 110, 116, 111, 32, 116, 104, 101, 32, 104, 101, 97, 114, 116, 115, 32, 111, 102, 32, 112, 114, 111, 103, 114, 97, 109, 109, 101, 114, 115, 32, 119, 111, 114, 108, 100, 119, 105, 100, 101, 46, 32, 87, 101, 32, 97, 108, 108, 32, 107, 110, 111, 119, 32, 119, 101, 32, 111, 117, 103, 104, 116, 32, 116, 111, 32, 226, 128, 156, 115, 117, 112, 112, 111, 114, 116, 32, 85, 110, 105, 99, 111, 100, 101, 226, 128, 157, 32, 105, 110, 32, 111, 117, 114, 32, 115, 111, 102, 116, 119, 97, 114, 101, 32, 40, 119, 104, 97, 116, 101, 118, 101, 114, 32, 116, 104, 97, 116, 32, 109, 101, 97, 110, 115, 226, 128, 148, 108, 105, 107, 101, 32, 117, 115, 105, 110, 103, 32, 119, 99, 104, 97, 114, 95, 116, 32, 102, 111, 114, 32, 97, 108, 108, 32, 116, 104, 101, 32, 115, 116, 114, 105, 110, 103, 115, 44, 32, 114, 105, 103, 104, 116, 63, 41, 46, 32, 66, 117, 116, 32, 85, 110, 105, 99, 111, 100, 101, 32, 99, 97, 110, 32, 98, 101, 32, 97, 98, 115, 116, 114, 117, 115, 101, 44, 32, 97, 110, 100, 32, 100, 105, 118, 105, 110, 103, 32, 105, 110, 116, 111, 32, 116, 104, 101, 32, 116, 104, 111, 117, 115, 97, 110, 100, 45, 112, 97, 103, 101, 32, 85, 110, 105, 99, 111, 100, 101, 32, 83, 116, 97, 110, 100, 97, 114, 100, 32, 112, 108, 117, 115, 32, 105, 116, 115, 32, 100, 111, 122, 101, 110, 115, 32, 111, 102, 32, 115, 117, 112, 112, 108, 101, 109, 101, 110, 116, 97, 114, 121, 32, 97, 110, 110, 101, 120, 101, 115, 44, 32, 114, 101, 112, 111, 114, 116, 115, 44, 32, 97, 110, 100, 32, 110, 111, 116, 101, 115, 32, 99, 97, 110, 32, 98, 101, 32, 109, 111, 114, 101, 32, 116, 104, 97, 110, 32, 97, 32, 108, 105, 116, 116, 108, 101, 32, 105, 110, 116, 105, 109, 105, 100, 97, 116, 105, 110, 103, 46, 32, 73, 32, 100, 111, 110, 226, 128, 153, 116, 32, 98, 108, 97, 109, 101, 32, 112, 114, 111, 103, 114, 97, 109, 109, 101, 114, 115, 32, 102, 111, 114, 32, 115, 116, 105, 108, 108, 32, 102, 105, 110, 100, 105, 110, 103, 32, 116, 104, 101, 32, 119, 104, 111, 108, 101, 32, 116, 104, 105, 110, 103, 32, 109, 121, 115, 116, 101, 114, 105, 111, 117, 115, 44, 32, 101, 118, 101, 110, 32, 51, 48, 32, 121, 101, 97, 114, 115, 32, 97, 102, 116, 101, 114, 32, 85, 110, 105, 99, 111, 100, 101, 226, 128, 153, 115, 32, 105, 110, 99, 101, 112, 116, 105, 111, 110, 46]\n",
            "length: 616\n"
          ]
        }
      ]
    },
    {
      "cell_type": "code",
      "source": [
        "# Finding the pair of bytes that work most frequently\n",
        "\n",
        "def get_stats(ids):\n",
        "  counts = {}\n",
        "  for pair in zip(ids, ids[1:]):\n",
        "    counts[pair] = counts.get(pair, 0) + 1\n",
        "  return counts\n",
        "\n",
        "stats = get_stats(tokens)\n",
        "# print(stats)\n",
        "print(sorted(((v,k) for k,v in stats.items()), reverse=True))\n",
        "\n",
        "# First pair (most common) is the first item printed"
      ],
      "metadata": {
        "colab": {
          "base_uri": "https://localhost:8080/"
        },
        "id": "iExZ4a2t8cZ7",
        "outputId": "bd5043d6-9059-46ee-8467-8f472c97a6c3"
      },
      "execution_count": 8,
      "outputs": [
        {
          "output_type": "stream",
          "name": "stdout",
          "text": [
            "[(20, (101, 32)), (15, (240, 159)), (12, (226, 128)), (12, (105, 110)), (10, (115, 32)), (10, (97, 110)), (10, (32, 97)), (9, (32, 116)), (8, (116, 104)), (7, (159, 135)), (7, (159, 133)), (7, (97, 114)), (6, (239, 189)), (6, (140, 240)), (6, (128, 140)), (6, (116, 32)), (6, (114, 32)), (6, (111, 114)), (6, (110, 103)), (6, (110, 100)), (6, (109, 101)), (6, (104, 101)), (6, (101, 114)), (6, (32, 105)), (5, (117, 115)), (5, (115, 116)), (5, (110, 32)), (5, (100, 101)), (5, (44, 32)), (5, (32, 115)), (4, (116, 105)), (4, (116, 101)), (4, (115, 44)), (4, (114, 105)), (4, (111, 117)), (4, (111, 100)), (4, (110, 116)), (4, (110, 105)), (4, (105, 99)), (4, (104, 97)), (4, (103, 32)), (4, (101, 97)), (4, (100, 32)), (4, (99, 111)), (4, (97, 109)), (4, (85, 110)), (4, (32, 119)), (4, (32, 111)), (4, (32, 102)), (4, (32, 85)), (3, (118, 101)), (3, (116, 115)), (3, (116, 114)), (3, (116, 111)), (3, (114, 116)), (3, (114, 115)), (3, (114, 101)), (3, (111, 102)), (3, (111, 32)), (3, (108, 108)), (3, (108, 101)), (3, (108, 32)), (3, (101, 115)), (3, (101, 110)), (3, (97, 116)), (3, (46, 32)), (3, (32, 240)), (3, (32, 112)), (3, (32, 109)), (3, (32, 100)), (3, (32, 98)), (2, (128, 153)), (2, (121, 32)), (2, (119, 104)), (2, (119, 101)), (2, (117, 112)), (2, (116, 97)), (2, (115, 117)), (2, (114, 121)), (2, (114, 111)), (2, (114, 97)), (2, (112, 114)), (2, (112, 112)), (2, (112, 111)), (2, (112, 108)), (2, (111, 110)), (2, (111, 103)), (2, (110, 115)), (2, (110, 111)), (2, (109, 109)), (2, (108, 105)), (2, (107, 101)), (2, (105, 116)), (2, (105, 111)), (2, (105, 107)), (2, (105, 100)), (2, (104, 116)), (2, (104, 111)), (2, (103, 114)), (2, (103, 104)), (2, (102, 116)), (2, (102, 111)), (2, (102, 32)), (2, (101, 226)), (2, (101, 118)), (2, (101, 112)), (2, (100, 111)), (2, (100, 105)), (2, (100, 97)), (2, (99, 97)), (2, (98, 101)), (2, (97, 108)), (2, (33, 32)), (2, (32, 114)), (2, (32, 110)), (2, (32, 99)), (1, (239, 188)), (1, (189, 143)), (1, (189, 142)), (1, (189, 137)), (1, (189, 133)), (1, (189, 132)), (1, (189, 131)), (1, (189, 32)), (1, (188, 181)), (1, (186, 226)), (1, (181, 239)), (1, (180, 226)), (1, (179, 226)), (1, (174, 226)), (1, (170, 33)), (1, (169, 226)), (1, (168, 226)), (1, (164, 240)), (1, (159, 152)), (1, (158, 240)), (1, (157, 240)), (1, (157, 32)), (1, (156, 115)), (1, (153, 116)), (1, (153, 115)), (1, (152, 240)), (1, (152, 132)), (1, (148, 226)), (1, (148, 108)), (1, (147, 240)), (1, (146, 240)), (1, (143, 239)), (1, (142, 239)), (1, (137, 239)), (1, (135, 186)), (1, (135, 180)), (1, (135, 179)), (1, (135, 174)), (1, (135, 170)), (1, (135, 169)), (1, (135, 168)), (1, (133, 164)), (1, (133, 158)), (1, (133, 157)), (1, (133, 152)), (1, (133, 148)), (1, (133, 147)), (1, (133, 146)), (1, (133, 33)), (1, (132, 239)), (1, (132, 32)), (1, (131, 239)), (1, (128, 189)), (1, (128, 157)), (1, (128, 156)), (1, (128, 148)), (1, (122, 101)), (1, (121, 115)), (1, (121, 101)), (1, (120, 101)), (1, (119, 111)), (1, (119, 105)), (1, (119, 99)), (1, (119, 97)), (1, (119, 32)), (1, (118, 105)), (1, (117, 116)), (1, (117, 114)), (1, (117, 103)), (1, (116, 119)), (1, (116, 116)), (1, (116, 108)), (1, (116, 63)), (1, (115, 226)), (1, (115, 111)), (1, (115, 105)), (1, (115, 101)), (1, (115, 97)), (1, (114, 117)), (1, (114, 108)), (1, (114, 100)), (1, (114, 95)), (1, (112, 116)), (1, (112, 97)), (1, (111, 122)), (1, (111, 119)), (1, (111, 116)), (1, (111, 108)), (1, (110, 226)), (1, (110, 110)), (1, (110, 101)), (1, (110, 99)), (1, (110, 97)), (1, (110, 46)), (1, (109, 121)), (1, (109, 111)), (1, (109, 105)), (1, (108, 117)), (1, (108, 100)), (1, (108, 97)), (1, (107, 110)), (1, (105, 118)), (1, (105, 109)), (1, (105, 108)), (1, (105, 103)), (1, (104, 105)), (1, (103, 115)), (1, (103, 101)), (1, (103, 46)), (1, (102, 105)), (1, (102, 101)), (1, (101, 120)), (1, (101, 109)), (1, (101, 46)), (1, (101, 44)), (1, (100, 119)), (1, (100, 45)), (1, (99, 104)), (1, (99, 101)), (1, (98, 115)), (1, (98, 108)), (1, (97, 119)), (1, (97, 103)), (1, (97, 102)), (1, (97, 98)), (1, (97, 32)), (1, (95, 116)), (1, (87, 101)), (1, (84, 104)), (1, (83, 116)), (1, (73, 32)), (1, (66, 117)), (1, (63, 41)), (1, (51, 48)), (1, (48, 32)), (1, (45, 112)), (1, (41, 46)), (1, (40, 119)), (1, (32, 226)), (1, (32, 121)), (1, (32, 118)), (1, (32, 117)), (1, (32, 108)), (1, (32, 107)), (1, (32, 104)), (1, (32, 101)), (1, (32, 87)), (1, (32, 84)), (1, (32, 83)), (1, (32, 73)), (1, (32, 66)), (1, (32, 51)), (1, (32, 40))]\n"
          ]
        }
      ]
    },
    {
      "cell_type": "code",
      "source": [
        "chr(101), chr(32)"
      ],
      "metadata": {
        "colab": {
          "base_uri": "https://localhost:8080/"
        },
        "id": "FGD0cLkl9CB0",
        "outputId": "a12ef0b3-d4da-417a-c947-1f76843a930f"
      },
      "execution_count": 10,
      "outputs": [
        {
          "output_type": "execute_result",
          "data": {
            "text/plain": [
              "('e', ' ')"
            ]
          },
          "metadata": {},
          "execution_count": 10
        }
      ]
    },
    {
      "cell_type": "markdown",
      "source": [
        " Minting a new token every time we see the most-common pair and swap it out"
      ],
      "metadata": {
        "id": "gdRTFhEU9g30"
      }
    },
    {
      "cell_type": "code",
      "source": [
        "top_pair = max(stats, key=stats.get) # Ranking by value and getting max key"
      ],
      "metadata": {
        "id": "FBtAW9Gl84I-"
      },
      "execution_count": 11,
      "outputs": []
    },
    {
      "cell_type": "code",
      "source": [
        "def merge(ids, pair, idx):\n",
        "  newids = []\n",
        "  i = 0\n",
        "  while i < len(ids):\n",
        "    # if we're not in the last position and the pair matches, replace it\n",
        "    if i < len(ids) - 1 and ids[i] == pair[0] and ids[i+1] == pair[1]:\n",
        "      newids.append(idx)\n",
        "      i += 2\n",
        "    else:\n",
        "      newids.append(ids[i])\n",
        "      i += 1\n",
        "  return newids\n",
        "\n",
        "tokens2 = merge(tokens, top_pair, 256)\n",
        "print(tokens2)\n",
        "print(\"length: \", len(tokens2)) # Decreased by 20\n"
      ],
      "metadata": {
        "colab": {
          "base_uri": "https://localhost:8080/"
        },
        "id": "MP_qWxtq90UI",
        "outputId": "14dd97f9-7191-489e-d3e7-ce78fb75dd1e"
      },
      "execution_count": 12,
      "outputs": [
        {
          "output_type": "stream",
          "name": "stdout",
          "text": [
            "[239, 188, 181, 239, 189, 142, 239, 189, 137, 239, 189, 131, 239, 189, 143, 239, 189, 132, 239, 189, 133, 33, 32, 240, 159, 133, 164, 240, 159, 133, 157, 240, 159, 133, 152, 240, 159, 133, 146, 240, 159, 133, 158, 240, 159, 133, 147, 240, 159, 133, 148, 226, 128, 189, 32, 240, 159, 135, 186, 226, 128, 140, 240, 159, 135, 179, 226, 128, 140, 240, 159, 135, 174, 226, 128, 140, 240, 159, 135, 168, 226, 128, 140, 240, 159, 135, 180, 226, 128, 140, 240, 159, 135, 169, 226, 128, 140, 240, 159, 135, 170, 33, 32, 240, 159, 152, 132, 32, 84, 104, 256, 118, 101, 114, 121, 32, 110, 97, 109, 256, 115, 116, 114, 105, 107, 101, 115, 32, 102, 101, 97, 114, 32, 97, 110, 100, 32, 97, 119, 256, 105, 110, 116, 111, 32, 116, 104, 256, 104, 101, 97, 114, 116, 115, 32, 111, 102, 32, 112, 114, 111, 103, 114, 97, 109, 109, 101, 114, 115, 32, 119, 111, 114, 108, 100, 119, 105, 100, 101, 46, 32, 87, 256, 97, 108, 108, 32, 107, 110, 111, 119, 32, 119, 256, 111, 117, 103, 104, 116, 32, 116, 111, 32, 226, 128, 156, 115, 117, 112, 112, 111, 114, 116, 32, 85, 110, 105, 99, 111, 100, 101, 226, 128, 157, 32, 105, 110, 32, 111, 117, 114, 32, 115, 111, 102, 116, 119, 97, 114, 256, 40, 119, 104, 97, 116, 101, 118, 101, 114, 32, 116, 104, 97, 116, 32, 109, 101, 97, 110, 115, 226, 128, 148, 108, 105, 107, 256, 117, 115, 105, 110, 103, 32, 119, 99, 104, 97, 114, 95, 116, 32, 102, 111, 114, 32, 97, 108, 108, 32, 116, 104, 256, 115, 116, 114, 105, 110, 103, 115, 44, 32, 114, 105, 103, 104, 116, 63, 41, 46, 32, 66, 117, 116, 32, 85, 110, 105, 99, 111, 100, 256, 99, 97, 110, 32, 98, 256, 97, 98, 115, 116, 114, 117, 115, 101, 44, 32, 97, 110, 100, 32, 100, 105, 118, 105, 110, 103, 32, 105, 110, 116, 111, 32, 116, 104, 256, 116, 104, 111, 117, 115, 97, 110, 100, 45, 112, 97, 103, 256, 85, 110, 105, 99, 111, 100, 256, 83, 116, 97, 110, 100, 97, 114, 100, 32, 112, 108, 117, 115, 32, 105, 116, 115, 32, 100, 111, 122, 101, 110, 115, 32, 111, 102, 32, 115, 117, 112, 112, 108, 101, 109, 101, 110, 116, 97, 114, 121, 32, 97, 110, 110, 101, 120, 101, 115, 44, 32, 114, 101, 112, 111, 114, 116, 115, 44, 32, 97, 110, 100, 32, 110, 111, 116, 101, 115, 32, 99, 97, 110, 32, 98, 256, 109, 111, 114, 256, 116, 104, 97, 110, 32, 97, 32, 108, 105, 116, 116, 108, 256, 105, 110, 116, 105, 109, 105, 100, 97, 116, 105, 110, 103, 46, 32, 73, 32, 100, 111, 110, 226, 128, 153, 116, 32, 98, 108, 97, 109, 256, 112, 114, 111, 103, 114, 97, 109, 109, 101, 114, 115, 32, 102, 111, 114, 32, 115, 116, 105, 108, 108, 32, 102, 105, 110, 100, 105, 110, 103, 32, 116, 104, 256, 119, 104, 111, 108, 256, 116, 104, 105, 110, 103, 32, 109, 121, 115, 116, 101, 114, 105, 111, 117, 115, 44, 32, 101, 118, 101, 110, 32, 51, 48, 32, 121, 101, 97, 114, 115, 32, 97, 102, 116, 101, 114, 32, 85, 110, 105, 99, 111, 100, 101, 226, 128, 153, 115, 32, 105, 110, 99, 101, 112, 116, 105, 111, 110, 46]\n",
            "length:  596\n"
          ]
        }
      ]
    },
    {
      "cell_type": "markdown",
      "source": [
        "### The more steps we take, the larger the vocabulary and the shorter the sequence: Finding the sweet spot hyperparameter. GPT-4 is 100,000"
      ],
      "metadata": {
        "id": "Vbzgiqob-s4z"
      }
    },
    {
      "cell_type": "code",
      "source": [
        "def get_stats(ids):\n",
        "  counts = {}\n",
        "  for pair in zip(ids, ids[1:]):\n",
        "    counts[pair] = counts.get(pair, 0) + 1\n",
        "  return counts\n",
        "\n",
        "\n",
        "def merge(ids, pair, idx):\n",
        "  newids = []\n",
        "  i = 0\n",
        "  while i < len(ids):\n",
        "    # if we're not in the last position and the pair matches, replace it\n",
        "    if i < len(ids) - 1 and ids[i] == pair[0] and ids[i+1] == pair[1]:\n",
        "      newids.append(idx)\n",
        "      i += 2\n",
        "    else:\n",
        "      newids.append(ids[i])\n",
        "      i += 1\n",
        "  return newids\n",
        "\n",
        "\n",
        "# ---\n",
        "vocab_size = 276 # desired final vocab size\n",
        "num_merges = vocab_size - 256\n",
        "ids = list(tokens) # copy\n",
        "\n",
        "merges = {} # (int, int) -> int\n",
        "\n",
        "for i in range(num_merges):\n",
        "  stats = get_stats(ids)\n",
        "  pair = max(stats, key=stats.get)\n",
        "  idx = 256 + i\n",
        "  print(f\"merging {pair} into a new token {idx}\")\n",
        "  ids = merge(ids, pair, idx)\n",
        "  merges[pair] = idx"
      ],
      "metadata": {
        "colab": {
          "base_uri": "https://localhost:8080/"
        },
        "id": "F3Iq1QXV-fqb",
        "outputId": "b43b81f2-b53d-41c0-9995-cb916c6d729c"
      },
      "execution_count": 13,
      "outputs": [
        {
          "output_type": "stream",
          "name": "stdout",
          "text": [
            "merging (101, 32) into a new token 256\n",
            "merging (240, 159) into a new token 257\n",
            "merging (226, 128) into a new token 258\n",
            "merging (105, 110) into a new token 259\n",
            "merging (115, 32) into a new token 260\n",
            "merging (97, 110) into a new token 261\n",
            "merging (116, 104) into a new token 262\n",
            "merging (257, 133) into a new token 263\n",
            "merging (257, 135) into a new token 264\n",
            "merging (97, 114) into a new token 265\n",
            "merging (239, 189) into a new token 266\n",
            "merging (258, 140) into a new token 267\n",
            "merging (267, 264) into a new token 268\n",
            "merging (101, 114) into a new token 269\n",
            "merging (111, 114) into a new token 270\n",
            "merging (116, 32) into a new token 271\n",
            "merging (259, 103) into a new token 272\n",
            "merging (115, 116) into a new token 273\n",
            "merging (261, 100) into a new token 274\n",
            "merging (32, 262) into a new token 275\n"
          ]
        }
      ]
    },
    {
      "cell_type": "markdown",
      "source": [
        "Note that the token 256 is also eligible for merging (just like ZY becomes X). The format of this is more of a binary forest instead of a particular tree"
      ],
      "metadata": {
        "id": "6GzS83m9Bv0J"
      }
    },
    {
      "cell_type": "code",
      "source": [
        "print(\"tokens length:\", len(tokens))\n",
        "print(\"ids length:\", len(ids))\n",
        "print(f\"compression ration: {len(tokens) / len(ids):.2f}X\")"
      ],
      "metadata": {
        "colab": {
          "base_uri": "https://localhost:8080/"
        },
        "id": "r08a0jKP_h8f",
        "outputId": "43b183c3-c7ae-47a8-99ea-4b3738040770"
      },
      "execution_count": 14,
      "outputs": [
        {
          "output_type": "stream",
          "name": "stdout",
          "text": [
            "tokens length: 616\n",
            "ids length: 451\n",
            "compression ration: 1.37X\n"
          ]
        }
      ]
    },
    {
      "cell_type": "markdown",
      "source": [
        "The Tokenizer is a completely separate, independent module from the LLM. It has its own training dataset of text (which could be different from the LLM), on which you train the vocabulary using the BPE algorithm. It then translates back and forth between raw text and sequence of tokens.\n",
        "\n",
        "**The LLM later only ever sees the tokens and never directly deals with any text.**"
      ],
      "metadata": {
        "id": "0WLbJMorCKgj"
      }
    },
    {
      "cell_type": "markdown",
      "source": [
        "![image.png](data:image/png;base64,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)"
      ],
      "metadata": {
        "id": "FA8zQEG3CIl3"
      }
    },
    {
      "cell_type": "markdown",
      "source": [
        "## Decoding\n",
        "Given a sequence of integers in the range [0, vocab_size], what is the text?"
      ],
      "metadata": {
        "id": "h8kdBkFzCx49"
      }
    },
    {
      "cell_type": "code",
      "source": [
        "vocab = {idx: bytes([idx]) for idx in range(256)}\n",
        "for (p0, p1), idx in merges.items():\n",
        "  vocab[idx] = vocab[p0] + vocab[p1]\n",
        "\n",
        "def decode(ids):\n",
        "  # given ids (list of integers), return Python string\n",
        "  tokens = b\"\".join(vocab[idx] for idx in ids)\n",
        "  text = tokens.decode(\"utf-8\", errors=\"replace\")\n",
        "  return text"
      ],
      "metadata": {
        "id": "2IRasfAbCBwI"
      },
      "execution_count": 15,
      "outputs": []
    },
    {
      "cell_type": "markdown",
      "source": [
        "## Encoding\n",
        "The up arrow in the image above. Remember that merges was built from top to bottom (some merges on the way down rely on other merges)"
      ],
      "metadata": {
        "id": "6Ux1Zbs9EDQu"
      }
    },
    {
      "cell_type": "code",
      "source": [
        "def encode(text):\n",
        "  tokens = list(text.encode(\"utf-8\"))\n",
        "  while len(tokens) >= 2:\n",
        "    stats = get_stats(tokens) # Counting occurrence of pairs as dict\n",
        "\n",
        "    # For any pair, looking into merges and get pair with min number\n",
        "    pair = min(stats, key=lambda p: merges.get(p, float(\"inf\")))\n",
        "    if pair not in merges:\n",
        "      break # nothing else can be merged\n",
        "    idx = merges[pair]\n",
        "    tokens = merge(tokens, pair, idx)\n",
        "\n",
        "  return tokens"
      ],
      "metadata": {
        "id": "U0oR8p3fEAs1"
      },
      "execution_count": 17,
      "outputs": []
    },
    {
      "cell_type": "markdown",
      "source": [
        "### Not all token sequences are valid byte strings"
      ],
      "metadata": {
        "id": "Mhn2TxIJGlaw"
      }
    },
    {
      "cell_type": "code",
      "source": [
        "text2 = decode(encode(text)) # testing with the training data\n",
        "print(text2 == text)"
      ],
      "metadata": {
        "colab": {
          "base_uri": "https://localhost:8080/"
        },
        "id": "VlEP0ri1GURV",
        "outputId": "ef4bf156-cd2b-4a32-9654-292f81cc2d82"
      },
      "execution_count": 19,
      "outputs": [
        {
          "output_type": "stream",
          "name": "stdout",
          "text": [
            "True\n"
          ]
        }
      ]
    },
    {
      "cell_type": "markdown",
      "source": [
        "# Tokenization in GPT series\n",
        "### GPT-2 paper (2019)\n",
        "Motivating the use of BPE on the Byte-level representation of UTF-8 encoding + Vocabulary sizes.\n",
        "\n",
        "▶ Common words i.e.: Dog (\"dog.\", \"dog?\", \"dog!\") -- unnecessary clustering\n",
        "\n",
        "▶ Top-down enforcing some black-lists for pair-encoding.\n",
        "\n",
        "\n",
        "### Using a Regex pattern\n",
        "GPT-2 Regex:\n",
        "```python\n",
        "re.compile(r\"\"\"'s|'t|'re|'ve|'m|'ll|'d| ?\\p{L}+| ?\\p{N}+| ?[^\\s\\p{L}\\p{N}]+|\\s+(?!\\S)|\\s+\"\"\")\n",
        "```"
      ],
      "metadata": {
        "id": "wU4RQg3cG57n"
      }
    },
    {
      "cell_type": "code",
      "source": [
        "!pip install regex"
      ],
      "metadata": {
        "colab": {
          "base_uri": "https://localhost:8080/"
        },
        "id": "7u7_MmoYGtPA",
        "outputId": "4031e6d4-1497-4192-80c9-96976878a881"
      },
      "execution_count": 20,
      "outputs": [
        {
          "output_type": "stream",
          "name": "stdout",
          "text": [
            "Requirement already satisfied: regex in /usr/local/lib/python3.10/dist-packages (2023.12.25)\n"
          ]
        }
      ]
    },
    {
      "cell_type": "markdown",
      "source": [
        "### Forced splits using regex patterns"
      ],
      "metadata": {
        "id": "rS819JhvH-lx"
      }
    },
    {
      "cell_type": "markdown",
      "source": [
        "Re.findall will take the pattern and will try to match it against the input string and organize the occurrences into a list. We're taking the string and instead of directly encoding, we first split it up.\n",
        "\n",
        "1. Splits the text into a list of texts\n",
        "2. All the elements of the list are processed individually\n",
        "3. The results are concatenated\n",
        "\n",
        "Only find merges within elements of lists. The results of that will be joint."
      ],
      "metadata": {
        "id": "6Olas8wTINem"
      }
    },
    {
      "cell_type": "code",
      "source": [
        "import regex as re\n",
        "gpt2pat = re.compile(r\"\"\"'s|'t|'re|'ve|'m|'ll|'d| ?\\p{L}+| ?\\p{N}+| ?[^\\s\\p{L}\\p{N}]+|\\s+(?!\\S)|\\s+\"\"\")\n",
        "\n",
        "# hardcoded to the apostrophe '   | case sensitive\n",
        "print(re.findall(gpt2pat, \"Hello've world123 HOW's she'll  how's be there!!!?     \"))"
      ],
      "metadata": {
        "colab": {
          "base_uri": "https://localhost:8080/"
        },
        "id": "BNh-YU0WH6Y0",
        "outputId": "4a490855-4063-4eea-e9f8-89a9d519095e"
      },
      "execution_count": 30,
      "outputs": [
        {
          "output_type": "stream",
          "name": "stdout",
          "text": [
            "['Hello', \"'ve\", ' world', '123', ' HOW', \"'s\", ' she', \"'ll\", ' ', ' how', \"'s\", ' be', ' there', '!!!?', '     ']\n"
          ]
        }
      ]
    },
    {
      "cell_type": "code",
      "source": [
        "example = \"\"\"\n",
        "for i in range(1, 101):\n",
        "    if i % 3 == 0 and i % 5 ==0:\n",
        "        print(\"FizzBuzz\")\n",
        "    elif i % 3 == 0:\n",
        "        print(\"Fizz\")\n",
        "    elif i % 5 == 0:\n",
        "        print(\"Buzz\")\n",
        "    else:\n",
        "        print(i)\n",
        "\"\"\"\n",
        "\n",
        "# note that openAI probabaly enforced some sort of enforcement for whitespace\n",
        "print(re.findall(gpt2pat, example))"
      ],
      "metadata": {
        "colab": {
          "base_uri": "https://localhost:8080/"
        },
        "id": "NVa4OaWBIGKd",
        "outputId": "d091322f-1ab2-4924-f5ea-9f796b59d256"
      },
      "execution_count": 34,
      "outputs": [
        {
          "output_type": "stream",
          "name": "stdout",
          "text": [
            "['\\n', 'for', ' i', ' in', ' range', '(', '1', ',', ' 101', '):', '\\n   ', ' if', ' i', ' %', ' 3', ' ==', ' 0', ' and', ' i', ' %', ' 5', ' ==', '0', ':', '\\n       ', ' print', '(\"', 'FizzBuzz', '\")', '\\n   ', ' elif', ' i', ' %', ' 3', ' ==', ' 0', ':', '\\n       ', ' print', '(\"', 'Fizz', '\")', '\\n   ', ' elif', ' i', ' %', ' 5', ' ==', ' 0', ':', '\\n       ', ' print', '(\"', 'Buzz', '\")', '\\n   ', ' else', ':', '\\n       ', ' print', '(', 'i', ')', '\\n']\n"
          ]
        }
      ]
    },
    {
      "cell_type": "code",
      "source": [
        "!pip install tiktoken"
      ],
      "metadata": {
        "colab": {
          "base_uri": "https://localhost:8080/"
        },
        "id": "Zl_Rv6J1K0u3",
        "outputId": "943cd1b3-2247-49a8-92ff-75be66728a8c"
      },
      "execution_count": 35,
      "outputs": [
        {
          "output_type": "stream",
          "name": "stdout",
          "text": [
            "Collecting tiktoken\n",
            "  Downloading tiktoken-0.6.0-cp310-cp310-manylinux_2_17_x86_64.manylinux2014_x86_64.whl (1.8 MB)\n",
            "\u001b[2K     \u001b[90m━━━━━━━━━━━━━━━━━━━━━━━━━━━━━━━━━━━━━━━━\u001b[0m \u001b[32m1.8/1.8 MB\u001b[0m \u001b[31m9.4 MB/s\u001b[0m eta \u001b[36m0:00:00\u001b[0m\n",
            "\u001b[?25hRequirement already satisfied: regex>=2022.1.18 in /usr/local/lib/python3.10/dist-packages (from tiktoken) (2023.12.25)\n",
            "Requirement already satisfied: requests>=2.26.0 in /usr/local/lib/python3.10/dist-packages (from tiktoken) (2.31.0)\n",
            "Requirement already satisfied: charset-normalizer<4,>=2 in /usr/local/lib/python3.10/dist-packages (from requests>=2.26.0->tiktoken) (3.3.2)\n",
            "Requirement already satisfied: idna<4,>=2.5 in /usr/local/lib/python3.10/dist-packages (from requests>=2.26.0->tiktoken) (3.6)\n",
            "Requirement already satisfied: urllib3<3,>=1.21.1 in /usr/local/lib/python3.10/dist-packages (from requests>=2.26.0->tiktoken) (2.0.7)\n",
            "Requirement already satisfied: certifi>=2017.4.17 in /usr/local/lib/python3.10/dist-packages (from requests>=2.26.0->tiktoken) (2024.2.2)\n",
            "Installing collected packages: tiktoken\n",
            "Successfully installed tiktoken-0.6.0\n"
          ]
        }
      ]
    },
    {
      "cell_type": "markdown",
      "source": [
        "### See [tikotken](https://tiktokenizer.vercel.app/)for details\n",
        "\n",
        "Encoding for GPT-2 on OpenAI Github:\n",
        "\n",
        "https://github.com/openai/tiktoken/blob/main/tiktoken_ext/openai_public.py\n"
      ],
      "metadata": {
        "id": "N6AsNaWfLNLM"
      }
    },
    {
      "cell_type": "code",
      "source": [
        "import tiktoken\n",
        "\n",
        "# GPT-2 (does not merge spaces)\n",
        "enc = tiktoken.get_encoding(\"gpt2\")\n",
        "print(enc.encode(\"    hello world!\"))\n",
        "\n",
        "# GPT-4 (merge spaces)\n",
        "enc = tiktoken.get_encoding(\"cl100k_base\")\n",
        "print(enc.encode(\"    hello world!!!\"))"
      ],
      "metadata": {
        "colab": {
          "base_uri": "https://localhost:8080/"
        },
        "id": "dQMM37fkKhi4",
        "outputId": "c4b1f9f7-8579-441d-f4c2-81493b30bb80"
      },
      "execution_count": 36,
      "outputs": [
        {
          "output_type": "stream",
          "name": "stdout",
          "text": [
            "[220, 220, 220, 23748, 995, 0]\n",
            "[262, 24748, 1917, 12340]\n"
          ]
        }
      ]
    },
    {
      "cell_type": "markdown",
      "source": [
        "```python\n",
        "r\"\"\"'(?:[sdmt]|ll|ve|re)| ?\\p{L}+| ?\\p{N}+| ?[^\\s\\p{L}\\p{N}]+|\\s+(?!\\S)|\\s+\"\"\",\n",
        "```\n",
        "▶ Number changes\n",
        "▶ White-space handling\n",
        "▶ Case-insensitive\n",
        "\n",
        "(150k -> 100k vocab size)"
      ],
      "metadata": {
        "id": "yWLVOfiNLvT5"
      }
    },
    {
      "cell_type": "code",
      "source": [
        "!wget https://openaipublic.blob.core.windows.net/gpt-2/models/1558M/vocab.bpe"
      ],
      "metadata": {
        "colab": {
          "base_uri": "https://localhost:8080/"
        },
        "id": "g-wpLW-qL8vX",
        "outputId": "6a1fc92f-4233-4c32-c4c2-320b1a145ee2"
      },
      "execution_count": 38,
      "outputs": [
        {
          "output_type": "stream",
          "name": "stdout",
          "text": [
            "--2024-02-21 05:43:33--  https://openaipublic.blob.core.windows.net/gpt-2/models/1558M/vocab.bpe\n",
            "Resolving openaipublic.blob.core.windows.net (openaipublic.blob.core.windows.net)... 20.60.179.33\n",
            "Connecting to openaipublic.blob.core.windows.net (openaipublic.blob.core.windows.net)|20.60.179.33|:443... connected.\n",
            "HTTP request sent, awaiting response... 200 OK\n",
            "Length: 456318 (446K) [application/octet-stream]\n",
            "Saving to: ‘vocab.bpe’\n",
            "\n",
            "vocab.bpe           100%[===================>] 445.62K  2.33MB/s    in 0.2s    \n",
            "\n",
            "2024-02-21 05:43:33 (2.33 MB/s) - ‘vocab.bpe’ saved [456318/456318]\n",
            "\n"
          ]
        }
      ]
    },
    {
      "cell_type": "code",
      "source": [
        "!wget https://openaipublic.blob.core.windows.net/gpt-2/models/1558M/encoder.json"
      ],
      "metadata": {
        "colab": {
          "base_uri": "https://localhost:8080/"
        },
        "id": "fb-CaFN5MEbf",
        "outputId": "2d9ea120-e964-4ebb-c841-085d3d6edcdd"
      },
      "execution_count": 37,
      "outputs": [
        {
          "output_type": "stream",
          "name": "stdout",
          "text": [
            "--2024-02-21 05:43:31--  https://openaipublic.blob.core.windows.net/gpt-2/models/1558M/encoder.json\n",
            "Resolving openaipublic.blob.core.windows.net (openaipublic.blob.core.windows.net)... 20.60.179.33\n",
            "Connecting to openaipublic.blob.core.windows.net (openaipublic.blob.core.windows.net)|20.60.179.33|:443... connected.\n",
            "HTTP request sent, awaiting response... 200 OK\n",
            "Length: 1042301 (1018K) [application/json]\n",
            "Saving to: ‘encoder.json’\n",
            "\n",
            "encoder.json        100%[===================>]   1018K  3.48MB/s    in 0.3s    \n",
            "\n",
            "2024-02-21 05:43:31 (3.48 MB/s) - ‘encoder.json’ saved [1042301/1042301]\n",
            "\n"
          ]
        }
      ]
    },
    {
      "cell_type": "code",
      "source": [
        "import os, json\n",
        "\n",
        "# -> saving and loading variables for merges and vocab\n",
        "with open('encoder.json', 'r') as f:\n",
        "  encoder = json.load(f)\n",
        "\n",
        "  # encoder equal to vocab object encoder\n",
        "\n",
        "with open('vocab.bpe', 'r', encoding='utf-8') as f:\n",
        "  bpe_data = f.read()\n",
        "\n",
        "  # this is our merges\n",
        "\n",
        "bpe_merges = [tuple(merge_str.split()) for merge_str in bpe_data.split('\\n')[1:-1]]"
      ],
      "metadata": {
        "id": "e32yJY2FMMh0"
      },
      "execution_count": 41,
      "outputs": []
    },
    {
      "cell_type": "markdown",
      "source": [
        "## Special Tokens"
      ],
      "metadata": {
        "id": "nw0zuO9uNcKc"
      }
    },
    {
      "cell_type": "code",
      "source": [
        "# 256 raw byte tokens. 50,000 merges. + 1 special token\n",
        "len(encoder)"
      ],
      "metadata": {
        "colab": {
          "base_uri": "https://localhost:8080/"
        },
        "id": "Mpn-cr54MjCB",
        "outputId": "d20df397-59ee-4329-b72e-8a7c1d53ae06"
      },
      "execution_count": 49,
      "outputs": [
        {
          "output_type": "execute_result",
          "data": {
            "text/plain": [
              "50257"
            ]
          },
          "metadata": {},
          "execution_count": 49
        }
      ]
    },
    {
      "cell_type": "code",
      "source": [
        "encoder['<|endoftext|>']"
      ],
      "metadata": {
        "colab": {
          "base_uri": "https://localhost:8080/"
        },
        "id": "HgnBqrFTNfFP",
        "outputId": "87b2f51c-3204-43d2-c788-be81c495ae21"
      },
      "execution_count": 46,
      "outputs": [
        {
          "output_type": "execute_result",
          "data": {
            "text/plain": [
              "50256"
            ]
          },
          "metadata": {},
          "execution_count": 46
        }
      ]
    },
    {
      "cell_type": "markdown",
      "source": [
        "![image.png](data:image/png;base64,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) ![image.png](data:image/png;base64,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)"
      ],
      "metadata": {
        "id": "Uu1tpIElOAh1"
      }
    },
    {
      "cell_type": "markdown",
      "source": [
        "## Special token decoding in Rust for the tiktoken library"
      ],
      "metadata": {
        "id": "i_Xa9ta9Oj2j"
      }
    },
    {
      "cell_type": "markdown",
      "source": [
        "```rust\n",
        "fn _encode_native(&self, text: &str, allowed_special: &HashSet<&str>) -> (Vec<Rank>, usize) {\n",
        "        let special_regex = self._get_tl_special_regex();\n",
        "        let regex = self._get_tl_regex();\n",
        "        let mut ret = vec![];\n",
        "        let mut start = 0;\n",
        "        let mut last_piece_token_len = 0;\n",
        "        loop {\n",
        "            let mut next_special;\n",
        "            let mut start_find = start;\n",
        "            loop {\n",
        "                // Find the next allowed special token, if any\n",
        "                next_special = special_regex.find_from_pos(text, start_find).unwrap();\n",
        "                match next_special {\n",
        "                    Some(m) => {\n",
        "                        if allowed_special.contains(&text[m.start()..m.end()]) {\n",
        "                            break;\n",
        "                        }\n",
        "                        start_find = m.start() + 1;\n",
        "                    }\n",
        "                    None => break,\n",
        "                }\n",
        "            }\n",
        "```\n",
        "```rust\n",
        "            let end = next_special.map_or(text.len(), |m| m.start());\n",
        "\n",
        "            // Okay, here we go, compare this logic to _encode_ordinary_native\n",
        "            for mat in regex.find_iter(&text[start..end]) {\n",
        "                let piece = mat.unwrap().as_str().as_bytes();\n",
        "                if let Some(token) = self.encoder.get(piece) {\n",
        "                    last_piece_token_len = 1;\n",
        "                    ret.push(*token);\n",
        "                    continue;\n",
        "                }\n",
        "                let tokens = byte_pair_encode(piece, &self.encoder);\n",
        "                last_piece_token_len = tokens.len();\n",
        "                ret.extend(&tokens);\n",
        "            }\n",
        "```\n",
        "```rust\n",
        "\n",
        "        match next_special {\n",
        "                // And here we push the special token\n",
        "                Some(m) => {\n",
        "                    let piece = m.as_str();\n",
        "                    let token = self.special_tokens_encoder[piece];\n",
        "                    ret.push(token);\n",
        "                    start = m.end();\n",
        "                    last_piece_token_len = 0;\n",
        "                }\n",
        "                None => break,\n",
        "            }\n",
        "        }\n",
        "\n",
        "        // last_piece_token_len is how many tokens came from the last regex split. This is used\n",
        "        // for determining unstable tokens, since you can't merge across (stable) regex splits\n",
        "        (ret, last_piece_token_len)\n",
        "    }\n",
        "    \n"
      ],
      "metadata": {
        "id": "3lWDMyyqOov1"
      }
    },
    {
      "cell_type": "code",
      "source": [],
      "metadata": {
        "id": "S_U7XEAlNzvD"
      },
      "execution_count": null,
      "outputs": []
    }
  ]
}