{
  "nbformat": 4,
  "nbformat_minor": 0,
  "metadata": {
    "colab": {
      "provenance": [],
      "gpuType": "T4",
      "authorship_tag": "ABX9TyPhz2Os8cZ1ujx3ReZwSpC8",
      "include_colab_link": true
    },
    "kernelspec": {
      "name": "python3",
      "display_name": "Python 3"
    },
    "language_info": {
      "name": "python"
    },
    "accelerator": "GPU"
  },
  "cells": [
    {
      "cell_type": "markdown",
      "metadata": {
        "id": "view-in-github",
        "colab_type": "text"
      },
      "source": [
        "<a href=\"https://colab.research.google.com/github/ghubnerr/machine-learning/blob/main/flax_stuff.ipynb\" target=\"_parent\"><img src=\"https://colab.research.google.com/assets/colab-badge.svg\" alt=\"Open In Colab\"/></a>"
      ]
    },
    {
      "cell_type": "code",
      "source": [
        "!pip install --upgrade -q git+https://github.com/deepmind/dm-haiku"
      ],
      "metadata": {
        "colab": {
          "base_uri": "https://localhost:8080/"
        },
        "id": "IKVMBACkFbr-",
        "outputId": "353c924b-83c1-43ec-9bce-5d59985930ef"
      },
      "execution_count": null,
      "outputs": [
        {
          "output_type": "stream",
          "name": "stdout",
          "text": [
            "  Preparing metadata (setup.py) ... \u001b[?25l\u001b[?25hdone\n"
          ]
        }
      ]
    },
    {
      "cell_type": "code",
      "execution_count": null,
      "metadata": {
        "id": "fCxxFIUyEJo-"
      },
      "outputs": [],
      "source": [
        "import jax\n",
        "from jax import lax, random, numpy as jnp\n",
        "\n",
        "import flax\n",
        "from flax.core import freeze, unfreeze\n",
        "from flax import linen as nn\n",
        "from flax.training import train_state\n",
        "\n",
        "import haiku as hk\n",
        "import optax\n",
        "\n",
        "from torchvision.datasets import MNIST\n",
        "from torch.utils.data import DataLoader\n",
        "\n",
        "import functools\n",
        "from typing import Any, Callable, Sequence, Optional\n",
        "\n",
        "import numpy as np\n",
        "import matplotlib.pyplot as plt"
      ]
    },
    {
      "cell_type": "code",
      "source": [
        "model = nn.Dense(features=5) # nn.Linear in torch terms\n",
        "\n",
        "# Similar to the Pytorch nn.Module class (from which all Flax NN layers inherit)\n",
        "print(nn.Dense.__bases__)"
      ],
      "metadata": {
        "colab": {
          "base_uri": "https://localhost:8080/"
        },
        "id": "2ypAWrntGH2r",
        "outputId": "a3d4520c-a109-4e0c-d31b-53a9bbb9f90b"
      },
      "execution_count": null,
      "outputs": [
        {
          "output_type": "stream",
          "name": "stdout",
          "text": [
            "(<class 'flax.linen.module.Module'>,)\n"
          ]
        }
      ]
    },
    {
      "cell_type": "markdown",
      "source": [
        "## Init\n",
        "Since we're handling state externally, we first initialize and then apply."
      ],
      "metadata": {
        "id": "rLt4GvFwGfCO"
      }
    },
    {
      "cell_type": "code",
      "source": [
        "seed = 23\n",
        "key1, key2 = jax.random.split(jax.random.PRNGKey(seed))\n",
        "x = jax.random.normal(key1, (10,))\n",
        "\n",
        "y, params = model.init_with_output(key2, x)\n",
        "# params = model.init(key2, x)\n",
        "\n",
        "print(y)\n",
        "# params = PyTree, and you're applying a function for every leaf\n",
        "print(jax.tree.map(lambda x: x.shape, params))\n",
        "\n",
        "# Automatic shape inference, immutable structure (FrozenDict)"
      ],
      "metadata": {
        "colab": {
          "base_uri": "https://localhost:8080/"
        },
        "id": "Ak_fPPEBGMgE",
        "outputId": "f2cc367a-270f-490c-e801-5fc70466b3db"
      },
      "execution_count": null,
      "outputs": [
        {
          "output_type": "stream",
          "name": "stdout",
          "text": [
            "[-1.2137773  -0.3663312   0.06677862 -2.0143986  -0.32107347]\n",
            "{'params': {'bias': (5,), 'kernel': (10, 5)}}\n"
          ]
        }
      ]
    },
    {
      "cell_type": "code",
      "source": [
        "y = model.apply(params, x) # this is how you run inference in Flax, state is external\n",
        "print(y)\n",
        "\n",
        "# you can no longer do model(x)"
      ],
      "metadata": {
        "colab": {
          "base_uri": "https://localhost:8080/"
        },
        "id": "GRlBjRqUG3ht",
        "outputId": "ff5925ea-0a4b-4d4b-9cf7-3ca23ae82dca"
      },
      "execution_count": null,
      "outputs": [
        {
          "output_type": "stream",
          "name": "stdout",
          "text": [
            "[-1.2137773  -0.3663312   0.06677862 -2.0143986  -0.32107347]\n"
          ]
        }
      ]
    },
    {
      "cell_type": "markdown",
      "source": [
        "## Apply"
      ],
      "metadata": {
        "id": "7zbCGGCtIw18"
      }
    },
    {
      "cell_type": "code",
      "source": [
        "# for contrast with haiku\n",
        "model = hk.transform(lambda x: hk.Linear(5)(x))\n",
        "\n",
        "seed = 23\n",
        "key1, key2 = jax.random.split(jax.random.PRNGKey(seed))\n",
        "x = jax.random.normal(key1, (10,))\n",
        "\n",
        "params = model.init(key2, x)\n",
        "y = model.apply(params, None, x)\n",
        "\n",
        "print(y)\n",
        "\n",
        "print(hk.Linear.__bases__)"
      ],
      "metadata": {
        "colab": {
          "base_uri": "https://localhost:8080/"
        },
        "id": "q-MtV8AQIYEp",
        "outputId": "bea87e0a-3eb2-4094-a6c7-c71352e71640"
      },
      "execution_count": null,
      "outputs": [
        {
          "output_type": "stream",
          "name": "stdout",
          "text": [
            "[ 0.06356498  0.9046967   1.21922    -0.28187275 -1.2322015 ]\n",
            "(<class 'haiku._src.module.Module'>,)\n"
          ]
        }
      ]
    },
    {
      "cell_type": "markdown",
      "source": [
        "## Training a Linear Regression Model"
      ],
      "metadata": {
        "id": "eONBK66fI704"
      }
    },
    {
      "cell_type": "code",
      "source": [
        "n_samples = 1500\n",
        "x_dim = 2\n",
        "y_dim = 1\n",
        "noise_amplitude = 0.1\n",
        "\n",
        "key, w_key, b_key = random.split(random.PRNGKey(seed), num=3)\n",
        "W = random.normal(w_key, (x_dim, y_dim))\n",
        "b = random.normal(b_key, (y_dim,))\n",
        "\n",
        "true_params = freeze({'params': {'bias': b, 'kernel': W}})\n",
        "\n",
        "# Generate samples with additional noise\n",
        "key, x_key, noise_key = random.split(key, num=3)\n",
        "xs = random.normal(x_key, (n_samples, x_dim))\n",
        "ys = jnp.dot(xs, W) + b\n",
        "ys += noise_amplitude * random.normal(noise_key, (n_samples, y_dim))\n",
        "print(f'xs shape = {xs.shape}, ys shape = {ys.shape}')"
      ],
      "metadata": {
        "colab": {
          "base_uri": "https://localhost:8080/"
        },
        "id": "ANTQIIY0IbQ-",
        "outputId": "67b38ea0-9760-4656-d95e-7993bb994241"
      },
      "execution_count": null,
      "outputs": [
        {
          "output_type": "stream",
          "name": "stdout",
          "text": [
            "xs shape = (1500, 2), ys shape = (1500, 1)\n"
          ]
        }
      ]
    },
    {
      "cell_type": "code",
      "source": [
        "fig = plt.figure()\n",
        "ax = fig.add_subplot(projection='3d')\n",
        "assert xs.shape[-1] == 2 and ys.shape[-1] == 1\n",
        "ax.scatter(xs[:, 0], xs[:, 1], zs=ys)\n",
        "\n",
        "# y = w*x + b: w1*x1 + w2*x2 + b -> 2D plane in 3D space"
      ],
      "metadata": {
        "colab": {
          "base_uri": "https://localhost:8080/",
          "height": 435
        },
        "id": "I8JflApbJrbr",
        "outputId": "3ac203bb-aa3b-45cb-9d53-6739c47084dd"
      },
      "execution_count": null,
      "outputs": [
        {
          "output_type": "execute_result",
          "data": {
            "text/plain": [
              "<mpl_toolkits.mplot3d.art3d.Path3DCollection at 0x7fb22811f7f0>"
            ]
          },
          "metadata": {},
          "execution_count": 8
        },
        {
          "output_type": "display_data",
          "data": {
            "text/plain": [
              "<Figure size 640x480 with 1 Axes>"
            ],
            "image/png": "[encoded data removed]"
          },
          "metadata": {}
        }
      ]
    },
    {
      "cell_type": "code",
      "source": [
        "def make_mse_loss(xs, ys):\n",
        "    # Jitted version of the MSE loss\n",
        "\n",
        "    def mse_loss(params):\n",
        "\n",
        "        def squared_error(x, y):\n",
        "            pred = model.apply(params, x)\n",
        "            return jnp.inner(y-pred, y-pred) /2.0\n",
        "\n",
        "        return jnp.mean(jax.vmap(squared_error)(xs, ys), axis=0)\n",
        "\n",
        "\n",
        "    return jax.jit(mse_loss)\n",
        "\n",
        "mse_loss = make_mse_loss(xs, ys)\n",
        "value_and_grad_fn = jax.value_and_grad(mse_loss)\n"
      ],
      "metadata": {
        "id": "q0sn9C07J45m"
      },
      "execution_count": null,
      "outputs": []
    },
    {
      "cell_type": "code",
      "source": [
        "from tqdm import tqdm"
      ],
      "metadata": {
        "id": "llc4cQ7kK9N-"
      },
      "execution_count": null,
      "outputs": []
    },
    {
      "cell_type": "code",
      "source": [
        "model = nn.Dense(features=y_dim) # cheating but ok\n",
        "params = model.init(key, xs)\n",
        "\n",
        "lr = 0.3\n",
        "epochs = 20\n",
        "log_period_epoch = 5\n",
        "\n",
        "for epoch in tqdm(range(epochs)):\n",
        "    loss, grads = value_and_grad_fn(params)\n",
        "    # We have two Pytrees, params and grads, and we traverse the leaves\n",
        "    # Batch gradient descent\n",
        "    params = jax.tree.map(lambda p, g: p - lr * g, params, grads)\n",
        "\n",
        "    # Log every 'log_period_epoch' epochs\n",
        "    if epoch % log_period_epoch == 0:\n",
        "        print(f'Epoch {epoch}, loss = {loss}')\n",
        "\n"
      ],
      "metadata": {
        "colab": {
          "base_uri": "https://localhost:8080/"
        },
        "id": "ZAB8Fc6_KiC2",
        "outputId": "8cfe6fd7-ef22-4fa8-f2f5-5854f2219fa1"
      },
      "execution_count": null,
      "outputs": [
        {
          "output_type": "stream",
          "name": "stderr",
          "text": [
            "100%|██████████| 20/20 [00:00<00:00, 24.90it/s]"
          ]
        },
        {
          "output_type": "stream",
          "name": "stdout",
          "text": [
            "Epoch 0, loss = 0.6885043978691101\n",
            "Epoch 5, loss = 0.020000522956252098\n",
            "Epoch 10, loss = 0.005448050796985626\n",
            "Epoch 15, loss = 0.0051234569400548935\n"
          ]
        },
        {
          "output_type": "stream",
          "name": "stderr",
          "text": [
            "\n"
          ]
        }
      ]
    },
    {
      "cell_type": "markdown",
      "source": [
        "## Optax SGD"
      ],
      "metadata": {
        "id": "b9V8MaQILrVq"
      }
    },
    {
      "cell_type": "markdown",
      "source": [
        "Unlike Adam, which has in-memory state requirements, SGD is stateless"
      ],
      "metadata": {
        "id": "-t3Srt3ALygA"
      }
    },
    {
      "cell_type": "code",
      "source": [
        "opt_sgd = optax.sgd(learning_rate=lr)\n",
        "opt_state = opt_sgd.init(params)\n",
        "print(opt_state)"
      ],
      "metadata": {
        "colab": {
          "base_uri": "https://localhost:8080/"
        },
        "id": "R-YWd937LQBp",
        "outputId": "61e6a984-6224-4c1d-9e7c-5020030fa2e1"
      },
      "execution_count": null,
      "outputs": [
        {
          "output_type": "stream",
          "name": "stdout",
          "text": [
            "(EmptyState(), EmptyState())\n"
          ]
        }
      ]
    },
    {
      "cell_type": "code",
      "source": [
        "opt_adam = optax.adam(learning_rate=lr)\n",
        "opt_state = opt_adam.init(params)\n",
        "print(opt_state)"
      ],
      "metadata": {
        "colab": {
          "base_uri": "https://localhost:8080/"
        },
        "id": "h00CLkPCL2tI",
        "outputId": "0a1fe921-bdcd-4446-c554-1e1615b54ad9"
      },
      "execution_count": null,
      "outputs": [
        {
          "output_type": "stream",
          "name": "stdout",
          "text": [
            "(ScaleByAdamState(count=Array(0, dtype=int32), mu={'params': {'bias': Array([0.], dtype=float32), 'kernel': Array([[0.],\n",
            "       [0.]], dtype=float32)}}, nu={'params': {'bias': Array([0.], dtype=float32), 'kernel': Array([[0.],\n",
            "       [0.]], dtype=float32)}}), EmptyState())\n"
          ]
        }
      ]
    },
    {
      "cell_type": "code",
      "source": [
        "params = model.init(key, xs)\n",
        "\n",
        "for epoch in range(epochs):\n",
        "    loss, grads = value_and_grad_fn(params)\n",
        "    updates, opt_state = opt_sgd.update(grads, opt_state)\n",
        "    params = optax.apply_updates(params, updates)\n",
        "\n",
        "\n",
        "    if epoch % log_period_epoch == 0:\n",
        "        print(f'Epoch {epoch}, loss = {loss}')"
      ],
      "metadata": {
        "colab": {
          "base_uri": "https://localhost:8080/"
        },
        "id": "wErF352ULxWR",
        "outputId": "f87e238a-4d5d-4b2d-dbc7-b2fc2911f21e"
      },
      "execution_count": null,
      "outputs": [
        {
          "output_type": "stream",
          "name": "stdout",
          "text": [
            "Epoch 0, loss = 0.6885043978691101\n",
            "Epoch 5, loss = 0.020000522956252098\n",
            "Epoch 10, loss = 0.005448050796985626\n",
            "Epoch 15, loss = 0.0051234569400548935\n"
          ]
        }
      ]
    },
    {
      "cell_type": "markdown",
      "source": [
        "## MLP in FLAX"
      ],
      "metadata": {
        "id": "dR_3CaUnNPIt"
      }
    },
    {
      "cell_type": "code",
      "source": [
        "class MLP(nn.Module): # -> Python's @dataclass\n",
        "    num_neurons_per_layer: Sequence[int]\n",
        "\n",
        "    # def setup(self):\n",
        "    #     self.layers = [nn.Dense(n) for n in self.num_neurons_per_layer]\n",
        "\n",
        "    @nn.compact\n",
        "    def __call__(self, x):\n",
        "        activation = x\n",
        "        for i, num_neurons in enumerate(self.num_neurons_per_layer):\n",
        "            activation = nn.Dense(num_neurons)(activation)\n",
        "            if i != len(self.num_neurons_per_layer) - 1:\n",
        "                activation = nn.relu(activation)\n",
        "        return activation\n",
        "\n",
        "x_key, init_key = random.split(random.PRNGKey(seed))\n",
        "\n",
        "model = MLP(num_neurons_per_layer=[16,8,1])\n",
        "x = random.uniform(x_key, (4,4)) # dummy input\n",
        "params = model.init(init_key, x)\n",
        "\n",
        "y = model.apply(params, x)\n",
        "\n",
        "print(jax.tree.map(jnp.shape, params))\n",
        "print(f'Output: {y}')\n",
        "\n"
      ],
      "metadata": {
        "colab": {
          "base_uri": "https://localhost:8080/"
        },
        "id": "S-5wk2VnMYTH",
        "outputId": "2e250b15-ffd0-4241-e843-b913c073d566"
      },
      "execution_count": null,
      "outputs": [
        {
          "output_type": "stream",
          "name": "stdout",
          "text": [
            "{'params': {'Dense_0': {'bias': (16,), 'kernel': (4, 16)}, 'Dense_1': {'bias': (8,), 'kernel': (16, 8)}, 'Dense_2': {'bias': (1,), 'kernel': (8, 1)}}}\n",
            "Output: [[-0.20487878]\n",
            " [ 0.0349005 ]\n",
            " [-0.19756585]\n",
            " [-0.32037985]]\n"
          ]
        }
      ]
    },
    {
      "cell_type": "markdown",
      "source": [
        "## `param` in FLAX (trainable `variables`)"
      ],
      "metadata": {
        "id": "sPmFynOQObsg"
      }
    },
    {
      "cell_type": "code",
      "source": [
        "class MyDenseImp(nn.Module):\n",
        "    num_neurons: int\n",
        "    weight_init: Callable = nn.initializers.lecun_normal()\n",
        "    bias_init: Callable = nn.initializers.zeros # already a function, no ()\n",
        "\n",
        "    @nn.compact\n",
        "    def __call__(self, x):\n",
        "        weight = self.param('weight',\n",
        "                            self.weight_init, # RNG passed implicitly through init fn\n",
        "                            (x.shape[-1], self.num_neurons))\n",
        "        bias = self.param('bias', self.bias_init, (self.num_neurons,))\n",
        "        return jnp.dot(x, weight) + bias"
      ],
      "metadata": {
        "id": "WmPskblpOimn"
      },
      "execution_count": null,
      "outputs": []
    },
    {
      "cell_type": "code",
      "source": [
        "x_key, init_key = random.split(random.PRNGKey(seed))\n",
        "\n",
        "model = MyDenseImp(num_neurons=3)\n",
        "x = random.uniform(x_key, (4,4))\n",
        "params = model.init(init_key, x)\n",
        "\n",
        "y = model.apply(params, x)\n",
        "\n",
        "print(jax.tree.map(jnp.shape, params))\n",
        "print(f'Output: {y}')"
      ],
      "metadata": {
        "colab": {
          "base_uri": "https://localhost:8080/"
        },
        "id": "udyorUpsO9Nw",
        "outputId": "443eacc1-bf11-4138-e6e3-087b3bb230bf"
      },
      "execution_count": null,
      "outputs": [
        {
          "output_type": "stream",
          "name": "stdout",
          "text": [
            "{'params': {'bias': (3,), 'weight': (4, 3)}}\n",
            "Output: [[-0.45431203  0.14070599 -0.13996777]\n",
            " [-0.32604304 -0.02913585  0.21127702]\n",
            " [-0.16531762  0.26077443 -0.37982297]\n",
            " [-0.01778076  0.40737244 -0.10995434]]\n"
          ]
        }
      ]
    },
    {
      "cell_type": "code",
      "source": [
        "from inspect import signature\n",
        "\n",
        "print(signature(nn.initializers.lecun_normal))\n",
        "print(signature(nn.initializers.zeros))"
      ],
      "metadata": {
        "colab": {
          "base_uri": "https://localhost:8080/"
        },
        "id": "zK1jULViPokE",
        "outputId": "ec6211a6-e3dd-4401-dc3c-d7af7d43004f"
      },
      "execution_count": null,
      "outputs": [
        {
          "output_type": "stream",
          "name": "stdout",
          "text": [
            "(in_axis: 'int | Sequence[int]' = -2, out_axis: 'int | Sequence[int]' = -1, batch_axis: 'Sequence[int]' = (), dtype: 'DTypeLikeInexact' = <class 'jax.numpy.float64'>) -> 'Initializer'\n",
            "(key: 'KeyArray', shape: 'core.Shape', dtype: 'DTypeLikeInexact' = <class 'jax.numpy.float64'>) -> 'Array'\n"
          ]
        }
      ]
    },
    {
      "cell_type": "markdown",
      "source": [
        "## `variable` in FLAX (non-trainable ones)\n",
        "\n",
        "note `variable` returns a reference, so you need `.value` to get it's value"
      ],
      "metadata": {
        "id": "Vrb4DooDPxIj"
      }
    },
    {
      "cell_type": "code",
      "source": [
        "from pprint import pprint"
      ],
      "metadata": {
        "id": "c5TIB9oXRTn5"
      },
      "execution_count": null,
      "outputs": []
    },
    {
      "cell_type": "code",
      "source": [
        "class BiasAdderWithRunningMean(nn.Module):\n",
        "    decay: float = 0.99\n",
        "\n",
        "    @nn.compact\n",
        "    def __call__(self, x):\n",
        "        is_initialized = self.has_variable('batch_stats', 'ema')\n",
        "\n",
        "        # batch_stats is not an arbitrary name\n",
        "        ema = self.variable('batch_stats', 'ema', lambda shape: jnp.zeros(shape), x.shape[1:])\n",
        "\n",
        "        # defaults to params collection\n",
        "        bias = self.param('bias', lambda key, shape: jnp.zeros(shape), x.shape[1:])\n",
        "\n",
        "        if is_initialized:\n",
        "            ema.value = self.decay * ema.value + (1.0 - self.decay) * jnp.mean(x, axis=0, keepdims=True)\n",
        "\n",
        "        return x - ema.value + bias\n",
        "\n",
        "x_key, init_key = random.split(random.PRNGKey(seed))\n",
        "\n",
        "model = BiasAdderWithRunningMean()\n",
        "x = random.uniform(x_key, (10,4))\n",
        "\n",
        "variables = model.init(init_key, x)\n",
        "print(f'Multiple collections = {variables}')\n",
        "\n",
        "# We need to use mutable since regular params are not modified during the forward pass,\n",
        "# but these variables are. We can't keep state internally so we have to return it\n",
        "y, updated_non_trainable_params = model.apply(variables, x, mutable=['batch_stats'])\n",
        "pprint(updated_non_trainable_params, indent=4)\n",
        "\n"
      ],
      "metadata": {
        "colab": {
          "base_uri": "https://localhost:8080/"
        },
        "id": "FM3axHrnPHCh",
        "outputId": "e6164a62-7f11-4422-afe3-1f9a54fed0af"
      },
      "execution_count": null,
      "outputs": [
        {
          "output_type": "stream",
          "name": "stdout",
          "text": [
            "Multiple collections = {'batch_stats': {'ema': Array([0., 0., 0., 0.], dtype=float32)}, 'params': {'bias': Array([0., 0., 0., 0.], dtype=float32)}}\n",
            "{   'batch_stats': {   'ema': Array([[0.00421787, 0.00597094, 0.00638907, 0.00699901]], dtype=float32)}}\n"
          ]
        }
      ]
    },
    {
      "cell_type": "code",
      "source": [
        "def update_step(opt, apply_fn, x, opt_state, params, non_trainable_params):\n",
        "\n",
        "    def loss_fn(params):\n",
        "        y, updated_non_trainable_params = apply_fn(\n",
        "            {'params': params, **non_trainable_params},\n",
        "            x, mutable=list(non_trainable_params.keys())\n",
        "        )\n",
        "\n",
        "        loss = ((x - y) ** 2).sum()\n",
        "\n",
        "        return loss, updated_non_trainable_params\n",
        "\n",
        "    (loss, non_trainable_params), grads = jax.value_and_grad(loss_fn, has_aux=True)(params)\n",
        "    updates, opt_state = opt.update(grads, opt_state)\n",
        "    params = optax.apply_updates(params, updates)\n",
        "\n",
        "    return opt_state, params, non_trainable_params\n",
        "\n",
        "model = BiasAdderWithRunningMean()\n",
        "x = jnp.ones((10, 4))\n",
        "\n",
        "variables = model.init(random.PRNGKey(seed), x)\n",
        "params = variables.pop('params')\n",
        "non_trainable_params = variables\n",
        "del variables # avoid wasting resources\n",
        "\n",
        "sgd_opt = optax.sgd(learning_rate=0.1)\n",
        "opt_state = sgd_opt.init(params)\n",
        "\n",
        "for _ in range(3):\n",
        "    opt_state, params, non_trainable_params = update_step(sgd_opt, model.apply, x, opt_state, params, non_trainable_params)\n",
        "    print(non_trainable_params)\n"
      ],
      "metadata": {
        "colab": {
          "base_uri": "https://localhost:8080/"
        },
        "id": "N2FhKQvHRM_A",
        "outputId": "cb6ac46b-60bd-4a48-8713-97847191f54a"
      },
      "execution_count": null,
      "outputs": [
        {
          "output_type": "stream",
          "name": "stdout",
          "text": [
            "{'batch_stats': {'ema': Array([[0.01, 0.01, 0.01, 0.01]], dtype=float32)}}\n",
            "{'batch_stats': {'ema': Array([[0.0199, 0.0199, 0.0199, 0.0199]], dtype=float32)}}\n",
            "{'batch_stats': {'ema': Array([[0.029701, 0.029701, 0.029701, 0.029701]], dtype=float32)}}\n"
          ]
        }
      ]
    },
    {
      "cell_type": "markdown",
      "source": [
        "## Training State"
      ],
      "metadata": {
        "id": "QhKd2EzBTSSJ"
      }
    },
    {
      "cell_type": "code",
      "source": [
        "class DDNBlock(nn.Module):\n",
        "    \"\"\"\n",
        "    Dense, dropout + batchnorm\n",
        "    \"\"\"\n",
        "    num_neurons: int\n",
        "    training: bool\n",
        "\n",
        "    @nn.compact\n",
        "    def __call__(self, x):\n",
        "        x = nn.Dense(self.num_neurons)(x)\n",
        "        x = nn.Dropout(rate=0.5, deterministic=not self.training)(x)\n",
        "        x = nn.BatchNorm(use_running_average=not self.training)(x)\n",
        "        return x\n",
        "\n",
        "key1, key2, key3, key4 = random.split(random.PRNGKey(seed), num=4)\n",
        "\n",
        "model = DDNBlock(num_neurons=3, training=True)\n",
        "x = random.uniform(key1, (3,4,4))\n",
        "\n",
        "# Because of dropout we have to add its unique key\n",
        "variables = model.init({'params': key2, 'dropout': key3}, x)\n",
        "print(variables)\n",
        "\n",
        "y, non_trainable_params = model.apply(variables, x, rngs={'dropout': key4}, mutable=['batch_stats'])\n",
        "\n",
        "eval_model = DDNBlock(num_neurons=3, training=False)\n",
        "# Because training=False we don't have stochasticity in the forward pass neither do we update the stats\n",
        "y = eval_model.apply(variables, x)\n"
      ],
      "metadata": {
        "colab": {
          "base_uri": "https://localhost:8080/"
        },
        "id": "ROTz7P_4SLDI",
        "outputId": "77c75287-1814-48df-f36a-0f6fce36dfec"
      },
      "execution_count": null,
      "outputs": [
        {
          "output_type": "stream",
          "name": "stdout",
          "text": [
            "{'params': {'Dense_0': {'kernel': Array([[-0.75637376,  0.01997767,  0.04605452],\n",
            "       [ 0.65764475, -0.7379196 , -0.3011639 ],\n",
            "       [ 0.806849  ,  0.7780827 ,  0.09813766],\n",
            "       [ 0.15413891,  0.17243946,  0.44406676]], dtype=float32), 'bias': Array([0., 0., 0.], dtype=float32)}, 'BatchNorm_0': {'scale': Array([1., 1., 1.], dtype=float32), 'bias': Array([0., 0., 0.], dtype=float32)}}, 'batch_stats': {'BatchNorm_0': {'mean': Array([0., 0., 0.], dtype=float32), 'var': Array([1., 1., 1.], dtype=float32)}}}\n"
          ]
        }
      ]
    },
    {
      "cell_type": "markdown",
      "source": [
        "# CNN on MNIST example in FLAX"
      ],
      "metadata": {
        "id": "8re0k3X1UO5J"
      }
    },
    {
      "cell_type": "code",
      "source": [
        "class CNN(nn.Module):\n",
        "    @nn.compact\n",
        "    def __call__(self, x):\n",
        "        x = nn.Conv(features=32, kernel_size=(3,3))(x)\n",
        "        x = nn.relu(x)\n",
        "        x = nn.avg_pool(x, window_shape=(2,2), strides=(2,2))\n",
        "        x = nn.Conv(features=64, kernel_size=(3,3))(x)\n",
        "        x = nn.relu(x)\n",
        "        x = nn.avg_pool(x, window_shape=(2,2), strides=(2,2))\n",
        "        x = x.reshape((x.shape[0], -1)) # flatten\n",
        "        x = nn.Dense(features=256)(x)\n",
        "        x = nn.relu(x)\n",
        "        x = nn.Dense(features=10)(x)\n",
        "        x = nn.log_softmax(x)\n",
        "        return x"
      ],
      "metadata": {
        "id": "q-IJrLWZUKUQ"
      },
      "execution_count": null,
      "outputs": []
    },
    {
      "cell_type": "code",
      "source": [
        "import os\n",
        "\n",
        "if not os.path.exists(\"./data\"):\n",
        "    os.mkdir(\"./data\")\n",
        "if not os.path.exists(\"./data/train\"):\n",
        "    os.mkdir(\"./data/train\")\n",
        "if not os.path.exists(\"./data/test\"):\n",
        "    os.mkdir(\"./data/test\")"
      ],
      "metadata": {
        "id": "SmMLAiYRUzHq"
      },
      "execution_count": null,
      "outputs": []
    },
    {
      "cell_type": "code",
      "source": [
        "def custom_transform(x):\n",
        "    return np.expand_dims(np.array(x, dtype=np.float32), axis=2) / 255.\n",
        "\n",
        "def custom_collate_fn(batch):\n",
        "    transposed_data = list(zip(*batch))\n",
        "\n",
        "    labels = np.array(transposed_data[1])\n",
        "    imgs = np.stack(transposed_data[0])\n",
        "\n",
        "    return imgs, labels\n",
        "\n",
        "MNIST_IMG_SIZE = (28, 28, 1)\n",
        "batch_size = 128\n",
        "\n",
        "train_dataset = MNIST(root='./data/train', train=True, download=True, transform=custom_transform)\n",
        "test_dataset = MNIST(root='./data/test', train=False, download=True, transform=custom_transform)\n",
        "\n",
        "train_loader = DataLoader(train_dataset, batch_size, shuffle=True, collate_fn=custom_collate_fn, drop_last=True)\n",
        "test_loader = DataLoader(test_dataset, batch_size, shuffle=False, collate_fn=custom_collate_fn, drop_last=True)\n",
        "\n",
        "\n",
        "test_images = jnp.array(train_dataset.data)\n",
        "train_labels = jnp.array(train_dataset.targets)\n",
        "\n",
        "test_images = np.expand_dims(jnp.array(test_dataset.data), axis=3)\n",
        "test_labels = jnp.array(test_dataset.targets)\n"
      ],
      "metadata": {
        "id": "qVeKBLYzUUvF"
      },
      "execution_count": null,
      "outputs": []
    },
    {
      "cell_type": "code",
      "source": [
        "imgs, labels = next(iter(test_loader))\n",
        "img = imgs[0].reshape(MNIST_IMG_SIZE)[:, :, 0]\n",
        "\n",
        "gt_label = labels[0]\n",
        "print(gt_label)\n",
        "plt.imshow(img) ; plt.show()"
      ],
      "metadata": {
        "colab": {
          "base_uri": "https://localhost:8080/",
          "height": 447
        },
        "id": "3hOed0ELVHPC",
        "outputId": "d736b951-055e-4cc4-c90e-1be25523775b"
      },
      "execution_count": null,
      "outputs": [
        {
          "output_type": "stream",
          "name": "stdout",
          "text": [
            "7\n"
          ]
        },
        {
          "output_type": "display_data",
          "data": {
            "text/plain": [
              "<Figure size 640x480 with 1 Axes>"
            ],
            "image/png": "[encoded data removed]"
          },
          "metadata": {}
        }
      ]
    },
    {
      "cell_type": "markdown",
      "source": [
        "### Training Loop"
      ],
      "metadata": {
        "id": "_iy-zBYGVkYE"
      }
    },
    {
      "cell_type": "code",
      "source": [
        "@jax.jit\n",
        "def train_step(state, imgs, gt_labels):\n",
        "    def loss_fn(params):\n",
        "        logits = CNN().apply({'params': params}, imgs)\n",
        "        one_hot_gt_labels = jax.nn.one_hot(gt_labels, num_classes=10)\n",
        "        loss = -jnp.mean(jnp.sum(one_hot_gt_labels * logits, axis=-1))\n",
        "        return loss, logits\n",
        "\n",
        "    (_, logits), grads = jax.value_and_grad(loss_fn, has_aux=True)(state.params)\n",
        "    state = state.apply_gradients(grads=grads) # concise update\n",
        "    metrics = compute_metrics(logits=logits, gt_labels=gt_labels)\n",
        "\n",
        "    return state, metrics\n",
        "\n",
        "@jax.jit\n",
        "def eval_step(state, imgs, gt_labels):\n",
        "    logits = CNN().apply({'params': state.params}, imgs)\n",
        "    return compute_metrics(logits=logits, gt_labels=gt_labels)\n"
      ],
      "metadata": {
        "id": "S0-khZtHVSjv"
      },
      "execution_count": null,
      "outputs": []
    },
    {
      "cell_type": "code",
      "source": [
        "def train_one_epoch(state, dataloader, epoch):\n",
        "    batch_metrics = []\n",
        "    for cnt, (imgs, labels) in enumerate(dataloader):\n",
        "        state, metrics = train_step(state, imgs, labels)\n",
        "        batch_metrics.append(metrics)\n",
        "\n",
        "    batch_metrics_np = jax.device_get(batch_metrics)\n",
        "    epoch_metrics_np = {\n",
        "        k: np.mean([metrics[k] for metrics in batch_metrics_np])\n",
        "        for k in batch_metrics_np[0]\n",
        "    }\n",
        "\n",
        "    return state, epoch_metrics_np\n",
        "\n",
        "def evaluate_model(state, test_imgs, test_labels):\n",
        "    metrics = eval_step(state, test_imgs, test_labels)\n",
        "    metrics = jax.device_get(metrics)  # pull from the accelerator onto host (CPU)\n",
        "    metrics = jax.tree.map(lambda x: x.item(), metrics)  # np.ndarray -> scalar\n",
        "    return metrics"
      ],
      "metadata": {
        "id": "PV91RDVIWTGW"
      },
      "execution_count": null,
      "outputs": []
    },
    {
      "cell_type": "code",
      "source": [
        "def create_train_state(key, learning_rate, momentum):\n",
        "    cnn = CNN()\n",
        "    params = cnn.init(key, jnp.ones([1, *MNIST_IMG_SIZE]))['params']\n",
        "    sgd_opt = optax.sgd(learning_rate, momentum)\n",
        "    # TrainState is a simple built-in wrapper class that makes things a bit cleaner\n",
        "    return train_state.TrainState.create(apply_fn=cnn.apply, params=params, tx=sgd_opt)\n",
        "\n",
        "def compute_metrics(*, logits, gt_labels):\n",
        "    one_hot_gt_labels = jax.nn.one_hot(gt_labels, num_classes=10)\n",
        "\n",
        "    loss = -jnp.mean(jnp.sum(one_hot_gt_labels * logits, axis=-1))\n",
        "    accuracy = jnp.mean(jnp.argmax(logits, -1) == gt_labels)\n",
        "\n",
        "    metrics = {\n",
        "        'loss': loss,\n",
        "        'accuracy': accuracy,\n",
        "    }\n",
        "    return metrics"
      ],
      "metadata": {
        "id": "ZvzteNLgWcGW"
      },
      "execution_count": null,
      "outputs": []
    },
    {
      "cell_type": "code",
      "source": [
        "seed = 0\n",
        "learning_rate = 0.1\n",
        "momentum = 0.9\n",
        "num_epochs = 10\n",
        "batch_size = 32\n",
        "\n",
        "train_state = create_train_state(jax.random.PRNGKey(seed), learning_rate, momentum)\n",
        "\n",
        "for epoch in range(1, num_epochs + 1):\n",
        "    train_state, train_metrics = train_one_epoch(train_state, train_loader, epoch)\n",
        "    print(f'Epoch {epoch}, train metrics: {train_metrics}')\n",
        "    test_metrics = evaluate_model(train_state, test_images, test_labels)\n",
        "    print(f'Epoch {epoch}, accuracy: {test_metrics[\"accuracy\"]}')\n"
      ],
      "metadata": {
        "colab": {
          "base_uri": "https://localhost:8080/"
        },
        "id": "kOsz_qI7W_XP",
        "outputId": "f1b07b4d-b515-4616-b7ef-93f8b89f84e6"
      },
      "execution_count": null,
      "outputs": [
        {
          "output_type": "stream",
          "name": "stdout",
          "text": [
            "Epoch 1, train metrics: {'accuracy': 0.9337774, 'loss': 0.22099407}\n",
            "Epoch 1, accuracy: 0.9791999459266663\n",
            "Epoch 2, train metrics: {'accuracy': 0.98355705, 'loss': 0.05210821}\n",
            "Epoch 2, accuracy: 0.9871999621391296\n",
            "Epoch 3, train metrics: {'accuracy': 0.98939973, 'loss': 0.033375353}\n",
            "Epoch 3, accuracy: 0.9871999621391296\n",
            "Epoch 4, train metrics: {'accuracy': 0.99235445, 'loss': 0.02537614}\n",
            "Epoch 4, accuracy: 0.9871999621391296\n",
            "Epoch 5, train metrics: {'accuracy': 0.9939737, 'loss': 0.01973854}\n",
            "Epoch 5, accuracy: 0.9870999455451965\n",
            "Epoch 6, train metrics: {'accuracy': 0.994558, 'loss': 0.016317535}\n",
            "Epoch 6, accuracy: 0.9902999997138977\n",
            "Epoch 7, train metrics: {'accuracy': 0.9956764, 'loss': 0.014045925}\n",
            "Epoch 7, accuracy: 0.9842000007629395\n",
            "Epoch 8, train metrics: {'accuracy': 0.9970119, 'loss': 0.0096833175}\n",
            "Epoch 8, accuracy: 0.9882999658584595\n",
            "Epoch 9, train metrics: {'accuracy': 0.9976796, 'loss': 0.007891604}\n",
            "Epoch 9, accuracy: 0.9914000034332275\n",
            "Epoch 10, train metrics: {'accuracy': 0.99781317, 'loss': 0.007216388}\n",
            "Epoch 10, accuracy: 0.9905999898910522\n"
          ]
        }
      ]
    },
    {
      "cell_type": "code",
      "source": [],
      "metadata": {
        "id": "r1xczeh9XNfB"
      },
      "execution_count": null,
      "outputs": []
    }
  ]
}