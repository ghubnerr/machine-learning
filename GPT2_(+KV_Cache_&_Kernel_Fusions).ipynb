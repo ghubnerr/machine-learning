{
  "cells": [
    {
      "cell_type": "markdown",
      "metadata": {
        "id": "view-in-github",
        "colab_type": "text"
      },
      "source": [
        "<a href=\"https://colab.research.google.com/github/ghubnerr/machine-learning/blob/main/GPT2_(%2BKV_Cache_%26_Kernel_Fusions).ipynb\" target=\"_parent\"><img src=\"https://colab.research.google.com/assets/colab-badge.svg\" alt=\"Open In Colab\"/></a>"
      ]
    },
    {
      "cell_type": "markdown",
      "metadata": {
        "id": "zyk7ugw2xPkA"
      },
      "source": [
        "# Attention Mechanisms and Transformers\n",
        "\n",
        "For the notebook, the main papers we'll be basing our implementation on will be:\n",
        "\n",
        "* [Attention is All You Need](https://arxiv.org/pdf/1706.03762) - Published by Google, researches the attention mechanism for machine translation specifically.\n",
        "* [Improving Language Understanding by Generative Pre-Training](https://cdn.openai.com/research-covers/language-unsupervised/language_understanding_paper.pdf) - By OpenAI, the first use of decoder-only LLMs starting GPT-1.\n",
        "* [Language Models are Unsupervised Multitask Learners](https://cdn.openai.com/better-language-models/language_models_are_unsupervised_multitask_learners.pdf) - The second paper by OpenAI in the GPT lineup, realesing GPT-2."
      ]
    },
    {
      "cell_type": "markdown",
      "metadata": {
        "id": "1YiV7n_pAEK7"
      },
      "source": [
        "`Credits: Gabriel Lucchesi and David Ulloa`"
      ]
    },
    {
      "cell_type": "code",
      "execution_count": 4,
      "metadata": {
        "collapsed": true,
        "id": "cirHz1TWxaUH",
        "colab": {
          "base_uri": "https://localhost:8080/"
        },
        "outputId": "36574ec0-323b-4875-a5f0-5430ad58c479"
      },
      "outputs": [
        {
          "output_type": "stream",
          "name": "stdout",
          "text": [
            "\u001b[?25l     \u001b[90m━━━━━━━━━━━━━━━━━━━━━━━━━━━━━━━━━━━━━━━━\u001b[0m \u001b[32m0.0/69.2 kB\u001b[0m \u001b[31m?\u001b[0m eta \u001b[36m-:--:--\u001b[0m\r\u001b[2K     \u001b[90m━━━━━━━━━━━━━━━━━━━━━━━━━━━━━━━━━━━━━━━━\u001b[0m \u001b[32m69.2/69.2 kB\u001b[0m \u001b[31m2.9 MB/s\u001b[0m eta \u001b[36m0:00:00\u001b[0m\n",
            "\u001b[?25h\u001b[?25l   \u001b[90m━━━━━━━━━━━━━━━━━━━━━━━━━━━━━━━━━━━━━━━━\u001b[0m \u001b[32m0.0/485.4 kB\u001b[0m \u001b[31m?\u001b[0m eta \u001b[36m-:--:--\u001b[0m\r\u001b[2K   \u001b[91m━━━━━━━━━━━━━━━━━━━━━━━━━━━━━━━━━━━━━━━\u001b[0m\u001b[91m╸\u001b[0m \u001b[32m481.3/485.4 kB\u001b[0m \u001b[31m21.1 MB/s\u001b[0m eta \u001b[36m0:00:01\u001b[0m\r\u001b[2K   \u001b[90m━━━━━━━━━━━━━━━━━━━━━━━━━━━━━━━━━━━━━━━━\u001b[0m \u001b[32m485.4/485.4 kB\u001b[0m \u001b[31m12.9 MB/s\u001b[0m eta \u001b[36m0:00:00\u001b[0m\n",
            "\u001b[?25h\u001b[?25l   \u001b[90m━━━━━━━━━━━━━━━━━━━━━━━━━━━━━━━━━━━━━━━━\u001b[0m \u001b[32m0.0/116.3 kB\u001b[0m \u001b[31m?\u001b[0m eta \u001b[36m-:--:--\u001b[0m\r\u001b[2K   \u001b[90m━━━━━━━━━━━━━━━━━━━━━━━━━━━━━━━━━━━━━━━━\u001b[0m \u001b[32m116.3/116.3 kB\u001b[0m \u001b[31m7.7 MB/s\u001b[0m eta \u001b[36m0:00:00\u001b[0m\n",
            "\u001b[2K   \u001b[90m━━━━━━━━━━━━━━━━━━━━━━━━━━━━━━━━━━━━━━━━\u001b[0m \u001b[32m183.9/183.9 kB\u001b[0m \u001b[31m15.4 MB/s\u001b[0m eta \u001b[36m0:00:00\u001b[0m\n",
            "\u001b[2K   \u001b[90m━━━━━━━━━━━━━━━━━━━━━━━━━━━━━━━━━━━━━━━━\u001b[0m \u001b[32m1.7/1.7 MB\u001b[0m \u001b[31m46.0 MB/s\u001b[0m eta \u001b[36m0:00:00\u001b[0m\n",
            "\u001b[2K   \u001b[90m━━━━━━━━━━━━━━━━━━━━━━━━━━━━━━━━━━━━━━━━\u001b[0m \u001b[32m143.5/143.5 kB\u001b[0m \u001b[31m11.4 MB/s\u001b[0m eta \u001b[36m0:00:00\u001b[0m\n",
            "\u001b[2K   \u001b[90m━━━━━━━━━━━━━━━━━━━━━━━━━━━━━━━━━━━━━━━━\u001b[0m \u001b[32m194.8/194.8 kB\u001b[0m \u001b[31m12.0 MB/s\u001b[0m eta \u001b[36m0:00:00\u001b[0m\n",
            "\u001b[2K   \u001b[90m━━━━━━━━━━━━━━━━━━━━━━━━━━━━━━━━━━━━━━━━\u001b[0m \u001b[32m274.9/274.9 kB\u001b[0m \u001b[31m20.7 MB/s\u001b[0m eta \u001b[36m0:00:00\u001b[0m\n",
            "\u001b[2K   \u001b[90m━━━━━━━━━━━━━━━━━━━━━━━━━━━━━━━━━━━━━━━━\u001b[0m \u001b[32m231.3/231.3 kB\u001b[0m \u001b[31m16.9 MB/s\u001b[0m eta \u001b[36m0:00:00\u001b[0m\n",
            "\u001b[2K   \u001b[90m━━━━━━━━━━━━━━━━━━━━━━━━━━━━━━━━━━━━━━━━\u001b[0m \u001b[32m344.1/344.1 kB\u001b[0m \u001b[31m22.3 MB/s\u001b[0m eta \u001b[36m0:00:00\u001b[0m\n",
            "\u001b[?25h"
          ]
        }
      ],
      "source": [
        "!pip install datasets transformers -q;"
      ]
    },
    {
      "cell_type": "code",
      "execution_count": 5,
      "metadata": {
        "id": "Cl2viQQ0xT86"
      },
      "outputs": [],
      "source": [
        "from typing import Optional, Tuple, Union, Dict, Any, List\n",
        "\n",
        "import jax\n",
        "import jax.numpy as jnp\n",
        "import numpy as np\n",
        "import matplotlib.pyplot as plt\n",
        "from flax.training.train_state import TrainState\n",
        "import datasets\n",
        "import flax\n",
        "import flax.linen as nn\n",
        "import optax\n",
        "import jax.random as jr\n",
        "import jax.lax as lax\n",
        "import tensorflow as tf\n",
        "import tensorflow_datasets as tfds\n",
        "import transformers"
      ]
    },
    {
      "cell_type": "markdown",
      "metadata": {
        "id": "qQ5RLKVqx7O-"
      },
      "source": [
        "### Our Tokenizer: [HF AutoTokenizer](https://huggingface.co/docs/transformers/v4.49.0/en/model_doc/auto#transformers.AutoTokenizer)"
      ]
    },
    {
      "cell_type": "code",
      "execution_count": null,
      "metadata": {
        "id": "Vu3rFGMfxLdL"
      },
      "outputs": [],
      "source": [
        "from transformers import AutoTokenizer\n",
        "\n",
        "# The tokenizer we use must be the same as our model for compatability reasons\n",
        "tokenizer = AutoTokenizer.from_pretrained(\"gpt2\")\n",
        "\n",
        "tokenizer.pad_token = tokenizer.eos_token"
      ]
    },
    {
      "cell_type": "code",
      "execution_count": null,
      "metadata": {
        "colab": {
          "base_uri": "https://localhost:8080/"
        },
        "id": "NUmLW82Gxsi6",
        "outputId": "bae4153b-a7a1-4434-8c1c-41aa0501067e"
      },
      "outputs": [
        {
          "data": {
            "text/plain": [
              "[15496, 11, 616, 3290, 318, 13779]"
            ]
          },
          "execution_count": 3,
          "metadata": {},
          "output_type": "execute_result"
        }
      ],
      "source": [
        "tokenizer.encode(\"Hello, my dog is cute\")"
      ]
    },
    {
      "cell_type": "markdown",
      "metadata": {
        "id": "ArWxVOnl7XgQ"
      },
      "source": [
        "## Our Dataset"
      ]
    },
    {
      "cell_type": "code",
      "execution_count": null,
      "metadata": {
        "id": "r72_PQT38QwN"
      },
      "outputs": [],
      "source": [
        "from tqdm import tqdm,trange"
      ]
    },
    {
      "cell_type": "code",
      "execution_count": null,
      "metadata": {
        "id": "S5Uy5HFV6c3U"
      },
      "outputs": [],
      "source": [
        "from datasets import load_dataset\n",
        "import tempfile\n",
        "import pickle\n",
        "from pathlib import Path\n",
        "\n",
        "\n",
        "SCRATCH_PATH = Path(\"\")  # Enter path here\n",
        "DATASET_PATH = SCRATCH_PATH / \"openwebtext.pkl\"\n",
        "\n",
        "if not SCRATCH_PATH.exists():\n",
        "    raise NotImplementedError()\n",
        "\n",
        "# Loading dataset or downloading it if doesn't exist\n",
        "if not DATASET_PATH.exists():\n",
        "    dataset = load_dataset(\"openwebtext\", split=\"train[:10%]\", cache_dir=Path(SCRATCH_PATH / \"hf_cache\"))\n",
        "\n",
        "    def tokenize_function(examples):\n",
        "        return {\n",
        "            \"input_ids\": tokenizer(\n",
        "                examples[\"text\"], truncation=True, padding=\"max_length\", max_length=1024\n",
        "            )[\"input_ids\"]\n",
        "        }\n",
        "\n",
        "    dataset = dataset.map(tokenize_function, batched=True)\n",
        "    dataset = dataset.shuffle(seed=42)\n",
        "\n",
        "    with open(DATASET_PATH, \"wb\") as f:\n",
        "        pickle.dump(dataset, f)\n",
        "\n",
        "with open(DATASET_PATH, \"rb\") as f:\n",
        "    dataset = pickle.load(f)"
      ]
    },
    {
      "cell_type": "code",
      "execution_count": null,
      "metadata": {
        "id": "Wf8xhKkWpewZ"
      },
      "outputs": [],
      "source": [
        "# Dataset Helper Functions\n",
        "def batch_dataset(dataset, batch_size):\n",
        "    batch = {\"input_ids\": []}\n",
        "    for example in dataset:\n",
        "        batch[\"input_ids\"].append(example[\"input_ids\"])\n",
        "        if len(batch[\"input_ids\"]) == batch_size:\n",
        "            yield {k: jnp.array(v, dtype=jnp.int32) for k, v in batch.items()}\n",
        "            batch = {\"input_ids\": []}\n",
        "\n",
        "def shard_batch(batch):\n",
        "    batch_size = batch[\"input_ids\"].shape[0]\n",
        "    per_device_batch = batch_size // jax.device_count()\n",
        "    return jax.tree.map(lambda x: x.reshape((jax.device_count(), per_device_batch, -1)), batch)"
      ]
    },
    {
      "cell_type": "markdown",
      "metadata": {
        "id": "R64e_-ATx4JA"
      },
      "source": [
        "## Breaking Attention Into Blocks\n",
        "\n",
        "<div align=\"center\">\n",
        "  <img src=\"https://machinelearningmastery.com/wp-content/uploads/2021/08/attention_research_1.png\"\n",
        "       alt=\"Image\" width=\"300\" height=\"400\" />\n",
        "</div>\n",
        "\n",
        "The attention mechanism lies within the transformer architecture, meaning the picture below is the general architecture to how we will build our GPT-2 model. At first, the image looks like a lot - so we'll break down each part step-by-step.\n",
        "\n",
        "* **Positional Embeddings:** Values appended to the embeddings, which are important because the attention architecture doesn't involve position to begin with. You can see how these embeddings looked, plotted, [here](https://en.wikipedia.org/wiki/Softmax_function).\n",
        "* **Multi-Head Attention:** Where the attention mechanism takes place, using the KQV formula below:\n",
        "\n",
        "$$\n",
        "Attention(K, Q, V) = softmax(\\frac{QK^T}{\\sqrt{d}})V\n",
        "$$\n",
        "\n",
        "* Aside from simply applying this equation, our model will split the input embeddings into seperate \"attention\" heads. The splitting allows for attention in each head to focus on different features of our input.\n",
        "\n",
        "<div align=\"center\">\n",
        "    <img src=\"https://jalammar.github.io/images/t/transformer_multi-headed_self-attention-recap.png\" alt=\"Image\" width=\"450\" height=\"300\" />\n",
        "</div>\n",
        "\n",
        "* **Add & Norm:** After the attention process, we always have a \"Add & Norm\" block. In code it looks fairly simple, involving [layer normalization](https://arxiv.org/abs/1607.06450) and a [residual connection](https://en.wikipedia.org/wiki/Residual_neural_network): `Output = LayerNorm(X + Attention(X))`\n",
        "* **Feed Foward:** Throughout the transformer, these blocks are MLPs which are simply a sequence of dense layers. Most of the weights (and knowledge learned) in the model are located here.\n",
        "* **Softmax & Linear:** Finally, at the end of our model, we apply a single linear layer and [softmax](https://en.wikipedia.org/wiki/Softmax_function) function to create a probability distribution over what word to predict next.\n",
        "\n",
        "<div align=\"center\">\n",
        "  <img src=\"https://jalammar.github.io/images/t/transformer_decoder_output_softmax.png\"\n",
        "       alt=\"Image\" width=\"400\" height=\"300\" />\n",
        "</div>"
      ]
    },
    {
      "cell_type": "markdown",
      "metadata": {
        "id": "cjyvgNpmyscB"
      },
      "source": [
        "### GPT-2's Configurations\n",
        "\n",
        "Here are some configuration variables that our GPT model will use. Notice, we're using a [dataclass](https://docs.python.org/3/library/dataclasses.html) - which makes defining classes more concise."
      ]
    },
    {
      "cell_type": "code",
      "execution_count": 6,
      "metadata": {
        "id": "cvjuzpIPy4cH"
      },
      "outputs": [],
      "source": [
        "from dataclasses import dataclass"
      ]
    },
    {
      "cell_type": "code",
      "execution_count": 13,
      "metadata": {
        "id": "czgm-yA-yu40"
      },
      "outputs": [],
      "source": [
        "@dataclass\n",
        "class GPT2Config:\n",
        "    vocab_size: int = 50257\n",
        "    max_position_embeddings: int = 1024\n",
        "    n_embd: int = 768\n",
        "    n_layer: int = 12\n",
        "    n_head: int = 12\n",
        "    n_inner: int = 3072\n",
        "    layer_norm_epsilon: float = 1e-5\n",
        "    dropout_rate: float = 0.1\n",
        "    max_sequence_length: int = 1024\n",
        "    attn_dropout_rate: float = 0.1\n",
        "    initializer_range: float = 0.02"
      ]
    },
    {
      "cell_type": "markdown",
      "metadata": {
        "id": "qtAPnvOXzZqz"
      },
      "source": [
        "### Multi-Head Self-Attention\n",
        "\n",
        "As previously mentioned, the multi-head self attention applies the attention mechanism while splitting into seperate heads. The process is as simple as apportioning different parts of our input to different attention heads in set intervals, defined by `batch_size / n_head`.\n",
        "\n",
        "<div align=\"center\">\n",
        "    <img src=\"https://jalammar.github.io/images/t/transformer_attention_heads_z.png\" alt=\"Image\" width=\"600\" height=\"300\" />\n",
        "</div>\n",
        "\n",
        "<div align=\"center\">\n",
        "    <img src=\"https://raw.githubusercontent.com/chloeli-15/ARENA_img/main/img/transformer-attn-new-v2.png\" alt=\"Image\" width=\"600\" height=\"300\" />\n",
        "</div>"
      ]
    },
    {
      "cell_type": "code",
      "execution_count": null,
      "metadata": {
        "id": "4UMSXFsjx29o"
      },
      "outputs": [],
      "source": [
        "class MHSelfAttention(nn.Module):\n",
        "    config: GPT2Config\n",
        "\n",
        "    @nn.compact\n",
        "    def __call__(self, hidden_states, deterministic: bool = True):\n",
        "        \"\"\"\n",
        "        hidden_states: [batch_size, sequence_length, n_embd]\n",
        "        \"\"\"\n",
        "        cfg = self.config\n",
        "        batch_size, seq_length, hidden_dim = hidden_states.shape\n",
        "        assert hidden_dim == cfg.n_embd\n",
        "\n",
        "        qkv = nn.Dense(\n",
        "            cfg.n_embd * 3,\n",
        "            use_bias=True,\n",
        "            kernel_init=nn.initializers.normal(cfg.initializer_range),\n",
        "            bias_init=nn.initializers.zeros\n",
        "        )(hidden_states)\n",
        "\n",
        "        qkv = qkv.reshape(batch_size, seq_length, 3, cfg.n_head, cfg.n_embd // cfg.n_head)\n",
        "        q, k, v = jnp.split(qkv, 3, axis=2)\n",
        "        q = q.squeeze(axis=2)  # [batch_size, seq_length, n_head, head_dim]\n",
        "        k = k.squeeze(axis=2)\n",
        "        v = v.squeeze(axis=2)\n",
        "\n",
        "        # Transpose for (batch, head, seq, head_dim)\n",
        "        q = q.transpose((0, 2, 1, 3))\n",
        "        k = k.transpose((0, 2, 1, 3))\n",
        "        v = v.transpose((0, 2, 1, 3))\n",
        "\n",
        "        causal_mask = jnp.tril(jnp.ones((seq_length, seq_length)))\n",
        "        causal_mask = causal_mask.reshape(1, 1, seq_length, seq_length)\n",
        "\n",
        "        # Scaled dot-product attention\n",
        "        dk = jnp.sqrt(k.shape[-1]).astype(q.dtype)\n",
        "        attn_weights = jnp.matmul(q, k.transpose((0, 1, 3, 2))) / dk\n",
        "\n",
        "        # Apply the mask\n",
        "        attn_weights = jnp.where(causal_mask == 0, -1e10, attn_weights)\n",
        "\n",
        "        attn_probs = nn.softmax(attn_weights, axis=-1)\n",
        "        attn_probs = nn.Dropout(rate=cfg.attn_dropout_rate)(attn_probs, deterministic=deterministic)\n",
        "\n",
        "        # Multiply by value matrix\n",
        "        attn_output = jnp.matmul(attn_probs, v)\n",
        "\n",
        "         # Revert transpose\n",
        "        attn_output = attn_output.transpose((0, 2, 1, 3))\n",
        "\n",
        "        # Combine heads\n",
        "        attn_output = attn_output.reshape(batch_size, seq_length, cfg.n_embd)\n",
        "\n",
        "        # Final linear projection\n",
        "        out = nn.Dense(\n",
        "            cfg.n_embd,\n",
        "            use_bias=True,\n",
        "            kernel_init=nn.initializers.normal(cfg.initializer_range),\n",
        "            bias_init=nn.initializers.zeros\n",
        "        )(attn_output)\n",
        "\n",
        "        return out"
      ]
    },
    {
      "cell_type": "markdown",
      "metadata": {
        "id": "pT5f8wo43Xgs"
      },
      "source": [
        "### The MLP Block\n",
        "\n",
        "The MLP block, otherwise known as a feed forward network. As previously mentioned, the MLP holds two-thirds of the LLM's weights and is also where \"information\" is stored.\n",
        "\n",
        "Let's say the words \"Micheal Jordan\" is inputted, attention would create the relationship that Michael before Jordan is a significant relationship, but the MLP learns who he is and what achievements he has.\n",
        "\n",
        "<div align=\"center\">\n",
        "    <img src=\"https://raw.githubusercontent.com/chloeli-15/ARENA_img/main/img/transformer-mlp-new-2.png\" alt=\"Image\" width=\"550\" height=\"400\" />\n",
        "</div>"
      ]
    },
    {
      "cell_type": "code",
      "execution_count": null,
      "metadata": {
        "id": "CW3bGoqu2qAE"
      },
      "outputs": [],
      "source": [
        "class MLP(nn.Module):\n",
        "    config: GPT2Config\n",
        "\n",
        "    @nn.compact\n",
        "    def __call__(self, hidden_states, deterministic: bool = True):\n",
        "        cfg = self.config\n",
        "\n",
        "        hidden = nn.Dense(\n",
        "            cfg.n_inner,\n",
        "            kernel_init=nn.initializers.normal(cfg.initializer_range),\n",
        "            bias_init=nn.initializers.zeros\n",
        "        )(hidden_states)\n",
        "        hidden = nn.gelu(hidden)\n",
        "\n",
        "        hidden = nn.Dense(\n",
        "            cfg.n_embd,\n",
        "            kernel_init=nn.initializers.normal(cfg.initializer_range),\n",
        "            bias_init=nn.initializers.zeros\n",
        "        )(hidden)\n",
        "\n",
        "        hidden = nn.Dropout(rate=cfg.dropout_rate)(hidden, deterministic=deterministic)\n",
        "        return hidden"
      ]
    },
    {
      "cell_type": "markdown",
      "metadata": {
        "id": "agjDmug_3ZZy"
      },
      "source": [
        "### Transformer Block\n",
        "\n",
        "Finally, we get to the transformer block, which we'll create a list of, for our GPT-2 model. In general, this same transformer block that we'll create can be used to make up different sizes of GPT-2.\n",
        "\n",
        "<div align=\"center\">\n",
        "    <img src=\"https://raw.githubusercontent.com/chloeli-15/ARENA_img/main/img/transformer-block2.png\" alt=\"Image\" width=\"600\" height=\"400\" />\n",
        "</div>\n"
      ]
    },
    {
      "cell_type": "code",
      "execution_count": null,
      "metadata": {
        "id": "--Qn3YA82tIp"
      },
      "outputs": [],
      "source": [
        "class TransformerBlock(nn.Module):\n",
        "    config: GPT2Config\n",
        "\n",
        "    @nn.compact\n",
        "    def __call__(self, hidden_states, deterministic: bool = True):\n",
        "        cfg = self.config\n",
        "\n",
        "        attn_ln = nn.LayerNorm(epsilon=cfg.layer_norm_epsilon)(hidden_states)\n",
        "        attn_out = MHSelfAttention(cfg)(attn_ln, deterministic=deterministic)\n",
        "        attn_out = nn.Dropout(rate=cfg.dropout_rate)(attn_out, deterministic=deterministic)\n",
        "\n",
        "        x = hidden_states + attn_out\n",
        "\n",
        "        mlp_ln = nn.LayerNorm(epsilon=cfg.layer_norm_epsilon)(x)\n",
        "        mlp_out = MLP(cfg)(mlp_ln, deterministic=deterministic)\n",
        "\n",
        "        # Residual\n",
        "        x = x + mlp_out\n",
        "\n",
        "        return x"
      ]
    },
    {
      "cell_type": "markdown",
      "metadata": {
        "id": "X-05sxVv3fOP"
      },
      "source": [
        "## Putting GPT-2 Together\n",
        "\n",
        "Finally, let's put it all together...\n",
        "\n",
        "![image](https://www.researchgate.net/publication/373352176/figure/fig1/AS:11431281202501967@1698856108167/GPT-2-model-architecture-The-GPT-2-model-contains-N-Transformer-decoder-blocks-as-shown.ppm)"
      ]
    },
    {
      "cell_type": "code",
      "execution_count": null,
      "metadata": {
        "id": "hjamvKge3GtF"
      },
      "outputs": [],
      "source": [
        "class GPT2(nn.Module):\n",
        "    config: GPT2Config\n",
        "\n",
        "    def setup(self):\n",
        "        # Embedding shared by input and output\n",
        "        self.wte = nn.Embed(\n",
        "            num_embeddings=self.config.vocab_size,\n",
        "            features=self.config.n_embd,\n",
        "            embedding_init=nn.initializers.normal(self.config.initializer_range)\n",
        "        )\n",
        "        self.wpe = self.param(\n",
        "            \"wpe\",\n",
        "            nn.initializers.normal(self.config.initializer_range),\n",
        "            (self.config.max_position_embeddings, self.config.n_embd)\n",
        "        )\n",
        "        self.blocks = [TransformerBlock(self.config) for _ in range(self.config.n_layer)]\n",
        "        self.ln_f = nn.LayerNorm(epsilon=self.config.layer_norm_epsilon)\n",
        "        self.dropout = nn.Dropout(rate=self.config.dropout_rate)\n",
        "\n",
        "    def __call__(self, input_ids, deterministic=True):\n",
        "        # Input embedding\n",
        "        position_ids = jnp.arange(input_ids.shape[1])[None, :]\n",
        "        token_embeds = self.wte(input_ids)\n",
        "        position_embeds = self.wpe[position_ids, :]\n",
        "        hidden_states = token_embeds + position_embeds\n",
        "        hidden_states = self.dropout(hidden_states, deterministic=deterministic)\n",
        "\n",
        "        # Transformer blocks\n",
        "        for block in self.blocks:\n",
        "            hidden_states = block(hidden_states, deterministic=deterministic)\n",
        "\n",
        "        # Final layer norm\n",
        "        hidden_states = self.ln_f(hidden_states)\n",
        "\n",
        "        # Output logits by tying embeddings\n",
        "        # We transpose the embedding matrix from [vocab_size, n_embd] to [n_embd, vocab_size]\n",
        "        wte_tied = self.wte.embedding.T  # shape: [n_embd, vocab_size]\n",
        "        logits = jnp.einsum(\"bld,dk->blk\", hidden_states, wte_tied)\n",
        "        return logits"
      ]
    },
    {
      "cell_type": "markdown",
      "metadata": {
        "id": "y6iT1si25cop"
      },
      "source": [
        "## Training GPT-2"
      ]
    },
    {
      "cell_type": "code",
      "execution_count": null,
      "metadata": {
        "id": "Bo9PkqOW5r7V",
        "outputId": "f8a27797-5530-404d-fc80-6ceee3455207"
      },
      "outputs": [
        {
          "name": "stdout",
          "output_type": "stream",
          "text": [
            "124439808 (124.44M)\n"
          ]
        }
      ],
      "source": [
        "config = GPT2Config()\n",
        "\n",
        "model = GPT2(config)\n",
        "\n",
        "rng = jax.random.PRNGKey(0)\n",
        "dummy_input = jnp.zeros((1, 1024), dtype=jnp.int32)\n",
        "params = model.init(rng, dummy_input)['params']\n",
        "\n",
        "optimizer = optax.adamw(learning_rate=5e-5)\n",
        "state = TrainState.create(apply_fn=model.apply, params=params, tx=optimizer)\n",
        "\n",
        "param_count = sum(p.size for p in jax.tree_util.tree_leaves(params))\n",
        "print(param_count, f\"({param_count / 1e6:.2f}M)\")"
      ]
    },
    {
      "cell_type": "code",
      "execution_count": null,
      "metadata": {
        "id": "rFIbXC4KJP6n"
      },
      "outputs": [],
      "source": [
        "import flax.serialization as flax_serialization\n",
        "\n",
        "@dataclass\n",
        "class TrainingParams:\n",
        "    num_epochs = 1\n",
        "    batch_size = 8\n",
        "    seq_length = 1024\n",
        "\n",
        "# state = jax.device_put_replicated(state, jax.devices())\n",
        "\n",
        "CHECKPOINT_DIR = SCRATCH_PATH / \"checkpoints\"\n",
        "\n",
        "if not CHECKPOINT_DIR.exists():\n",
        "    raise NotImplementedError()\n",
        "\n",
        "def save_model(state, filename):\n",
        "    state_dict = flax.serialization.to_state_dict(state)\n",
        "    with open(CHECKPOINT_DIR / filename, \"wb\") as f:\n",
        "        f.write(flax_serialization.msgpack_serialize(state_dict))\n",
        "\n",
        "def load_model(state, filename):\n",
        "    with open(CHECKPOINT_DIR/ filename, \"rb\") as f:\n",
        "        loaded_state_dict = flax_serialization.msgpack_restore(f.read())\n",
        "    return flax.serialization.from_state_dict(state, loaded_state_dict)"
      ]
    },
    {
      "cell_type": "code",
      "execution_count": null,
      "metadata": {
        "id": "X4q30s3h5qYP"
      },
      "outputs": [],
      "source": [
        "@jax.pmap\n",
        "def train_step(state, batch):\n",
        "    def loss_fn(params):\n",
        "        logits = state.apply_fn({'params': params}, batch['input_ids'])\n",
        "        loss = jnp.mean(optax.softmax_cross_entropy_with_integer_labels(\n",
        "            logits[:, :-1, :], batch['input_ids'][:, 1:]\n",
        "        ))\n",
        "        return loss\n",
        "\n",
        "    loss, grads = jax.value_and_grad(loss_fn)(state.params)\n",
        "    new_state = state.apply_gradients(grads=grads)\n",
        "    return new_state, loss"
      ]
    },
    {
      "cell_type": "code",
      "execution_count": null,
      "metadata": {
        "id": "czJ2RcEF7-YV"
      },
      "outputs": [],
      "source": [
        "training = TrainingParams()\n",
        "\n",
        "for epoch in range(1, training.num_epochs + 1):\n",
        "    step = 0\n",
        "    progress_bar = tqdm(desc=f\"Epoch {epoch}\", unit=\"batch\")\n",
        "\n",
        "    for batch in batch_dataset(dataset, batch_size=training.batch_size):\n",
        "        batch = shard_batch(batch)  # => (8, 1, 1024)\n",
        "        state, loss = train_step(state, batch)\n",
        "\n",
        "        if step % 100 == 0:\n",
        "            progress_bar.set_postfix(loss=loss.mean().item())\n",
        "        step += 1\n",
        "        progress_bar.update(1)\n",
        "\n",
        "        save_model(state, f\"checkpoint_epoch_{epoch}.msgpack\")\n",
        "\n",
        "    print(f\"Epoch {epoch} completed. Loss: {loss.mean()}\")\n",
        "    progress_bar.close()"
      ]
    },
    {
      "cell_type": "code",
      "execution_count": null,
      "metadata": {
        "id": "I6P-QGtoJP6o",
        "outputId": "66731836-2ce3-4356-869d-6d4885ece385"
      },
      "outputs": [
        {
          "name": "stdout",
          "output_type": "stream",
          "text": [
            "wpe: shape (8, 1024, 768)\n",
            "wte.embedding: shape (8, 50257, 768)\n",
            "blocks_0.LayerNorm_0.scale: shape (8, 768)\n",
            "blocks_0.LayerNorm_0.bias: shape (8, 768)\n",
            "blocks_0.MHSelfAttention_0.Dense_0.kernel: shape (8, 768, 2304)\n",
            "blocks_0.MHSelfAttention_0.Dense_0.bias: shape (8, 2304)\n",
            "blocks_0.MHSelfAttention_0.Dense_1.kernel: shape (8, 768, 768)\n",
            "blocks_0.MHSelfAttention_0.Dense_1.bias: shape (8, 768)\n",
            "blocks_0.LayerNorm_1.scale: shape (8, 768)\n",
            "blocks_0.LayerNorm_1.bias: shape (8, 768)\n",
            "blocks_0.MLP_0.Dense_0.kernel: shape (8, 768, 3072)\n",
            "blocks_0.MLP_0.Dense_0.bias: shape (8, 3072)\n",
            "blocks_0.MLP_0.Dense_1.kernel: shape (8, 3072, 768)\n",
            "blocks_0.MLP_0.Dense_1.bias: shape (8, 768)\n",
            "blocks_1.LayerNorm_0.scale: shape (8, 768)\n",
            "blocks_1.LayerNorm_0.bias: shape (8, 768)\n",
            "blocks_1.MHSelfAttention_0.Dense_0.kernel: shape (8, 768, 2304)\n",
            "blocks_1.MHSelfAttention_0.Dense_0.bias: shape (8, 2304)\n",
            "blocks_1.MHSelfAttention_0.Dense_1.kernel: shape (8, 768, 768)\n",
            "blocks_1.MHSelfAttention_0.Dense_1.bias: shape (8, 768)\n",
            "blocks_1.LayerNorm_1.scale: shape (8, 768)\n",
            "blocks_1.LayerNorm_1.bias: shape (8, 768)\n",
            "blocks_1.MLP_0.Dense_0.kernel: shape (8, 768, 3072)\n",
            "blocks_1.MLP_0.Dense_0.bias: shape (8, 3072)\n",
            "blocks_1.MLP_0.Dense_1.kernel: shape (8, 3072, 768)\n",
            "blocks_1.MLP_0.Dense_1.bias: shape (8, 768)\n",
            "blocks_2.LayerNorm_0.scale: shape (8, 768)\n",
            "blocks_2.LayerNorm_0.bias: shape (8, 768)\n",
            "blocks_2.MHSelfAttention_0.Dense_0.kernel: shape (8, 768, 2304)\n",
            "blocks_2.MHSelfAttention_0.Dense_0.bias: shape (8, 2304)\n",
            "blocks_2.MHSelfAttention_0.Dense_1.kernel: shape (8, 768, 768)\n",
            "blocks_2.MHSelfAttention_0.Dense_1.bias: shape (8, 768)\n",
            "blocks_2.LayerNorm_1.scale: shape (8, 768)\n",
            "blocks_2.LayerNorm_1.bias: shape (8, 768)\n",
            "blocks_2.MLP_0.Dense_0.kernel: shape (8, 768, 3072)\n",
            "blocks_2.MLP_0.Dense_0.bias: shape (8, 3072)\n",
            "blocks_2.MLP_0.Dense_1.kernel: shape (8, 3072, 768)\n",
            "blocks_2.MLP_0.Dense_1.bias: shape (8, 768)\n",
            "blocks_3.LayerNorm_0.scale: shape (8, 768)\n",
            "blocks_3.LayerNorm_0.bias: shape (8, 768)\n",
            "blocks_3.MHSelfAttention_0.Dense_0.kernel: shape (8, 768, 2304)\n",
            "blocks_3.MHSelfAttention_0.Dense_0.bias: shape (8, 2304)\n",
            "blocks_3.MHSelfAttention_0.Dense_1.kernel: shape (8, 768, 768)\n",
            "blocks_3.MHSelfAttention_0.Dense_1.bias: shape (8, 768)\n",
            "blocks_3.LayerNorm_1.scale: shape (8, 768)\n",
            "blocks_3.LayerNorm_1.bias: shape (8, 768)\n",
            "blocks_3.MLP_0.Dense_0.kernel: shape (8, 768, 3072)\n",
            "blocks_3.MLP_0.Dense_0.bias: shape (8, 3072)\n",
            "blocks_3.MLP_0.Dense_1.kernel: shape (8, 3072, 768)\n",
            "blocks_3.MLP_0.Dense_1.bias: shape (8, 768)\n",
            "blocks_4.LayerNorm_0.scale: shape (8, 768)\n",
            "blocks_4.LayerNorm_0.bias: shape (8, 768)\n",
            "blocks_4.MHSelfAttention_0.Dense_0.kernel: shape (8, 768, 2304)\n",
            "blocks_4.MHSelfAttention_0.Dense_0.bias: shape (8, 2304)\n",
            "blocks_4.MHSelfAttention_0.Dense_1.kernel: shape (8, 768, 768)\n",
            "blocks_4.MHSelfAttention_0.Dense_1.bias: shape (8, 768)\n",
            "blocks_4.LayerNorm_1.scale: shape (8, 768)\n",
            "blocks_4.LayerNorm_1.bias: shape (8, 768)\n",
            "blocks_4.MLP_0.Dense_0.kernel: shape (8, 768, 3072)\n",
            "blocks_4.MLP_0.Dense_0.bias: shape (8, 3072)\n",
            "blocks_4.MLP_0.Dense_1.kernel: shape (8, 3072, 768)\n",
            "blocks_4.MLP_0.Dense_1.bias: shape (8, 768)\n",
            "blocks_5.LayerNorm_0.scale: shape (8, 768)\n",
            "blocks_5.LayerNorm_0.bias: shape (8, 768)\n",
            "blocks_5.MHSelfAttention_0.Dense_0.kernel: shape (8, 768, 2304)\n",
            "blocks_5.MHSelfAttention_0.Dense_0.bias: shape (8, 2304)\n",
            "blocks_5.MHSelfAttention_0.Dense_1.kernel: shape (8, 768, 768)\n",
            "blocks_5.MHSelfAttention_0.Dense_1.bias: shape (8, 768)\n",
            "blocks_5.LayerNorm_1.scale: shape (8, 768)\n",
            "blocks_5.LayerNorm_1.bias: shape (8, 768)\n",
            "blocks_5.MLP_0.Dense_0.kernel: shape (8, 768, 3072)\n",
            "blocks_5.MLP_0.Dense_0.bias: shape (8, 3072)\n",
            "blocks_5.MLP_0.Dense_1.kernel: shape (8, 3072, 768)\n",
            "blocks_5.MLP_0.Dense_1.bias: shape (8, 768)\n",
            "blocks_6.LayerNorm_0.scale: shape (8, 768)\n",
            "blocks_6.LayerNorm_0.bias: shape (8, 768)\n",
            "blocks_6.MHSelfAttention_0.Dense_0.kernel: shape (8, 768, 2304)\n",
            "blocks_6.MHSelfAttention_0.Dense_0.bias: shape (8, 2304)\n",
            "blocks_6.MHSelfAttention_0.Dense_1.kernel: shape (8, 768, 768)\n",
            "blocks_6.MHSelfAttention_0.Dense_1.bias: shape (8, 768)\n",
            "blocks_6.LayerNorm_1.scale: shape (8, 768)\n",
            "blocks_6.LayerNorm_1.bias: shape (8, 768)\n",
            "blocks_6.MLP_0.Dense_0.kernel: shape (8, 768, 3072)\n",
            "blocks_6.MLP_0.Dense_0.bias: shape (8, 3072)\n",
            "blocks_6.MLP_0.Dense_1.kernel: shape (8, 3072, 768)\n",
            "blocks_6.MLP_0.Dense_1.bias: shape (8, 768)\n",
            "blocks_7.LayerNorm_0.scale: shape (8, 768)\n",
            "blocks_7.LayerNorm_0.bias: shape (8, 768)\n",
            "blocks_7.MHSelfAttention_0.Dense_0.kernel: shape (8, 768, 2304)\n",
            "blocks_7.MHSelfAttention_0.Dense_0.bias: shape (8, 2304)\n",
            "blocks_7.MHSelfAttention_0.Dense_1.kernel: shape (8, 768, 768)\n",
            "blocks_7.MHSelfAttention_0.Dense_1.bias: shape (8, 768)\n",
            "blocks_7.LayerNorm_1.scale: shape (8, 768)\n",
            "blocks_7.LayerNorm_1.bias: shape (8, 768)\n",
            "blocks_7.MLP_0.Dense_0.kernel: shape (8, 768, 3072)\n",
            "blocks_7.MLP_0.Dense_0.bias: shape (8, 3072)\n",
            "blocks_7.MLP_0.Dense_1.kernel: shape (8, 3072, 768)\n",
            "blocks_7.MLP_0.Dense_1.bias: shape (8, 768)\n",
            "blocks_8.LayerNorm_0.scale: shape (8, 768)\n",
            "blocks_8.LayerNorm_0.bias: shape (8, 768)\n",
            "blocks_8.MHSelfAttention_0.Dense_0.kernel: shape (8, 768, 2304)\n",
            "blocks_8.MHSelfAttention_0.Dense_0.bias: shape (8, 2304)\n",
            "blocks_8.MHSelfAttention_0.Dense_1.kernel: shape (8, 768, 768)\n",
            "blocks_8.MHSelfAttention_0.Dense_1.bias: shape (8, 768)\n",
            "blocks_8.LayerNorm_1.scale: shape (8, 768)\n",
            "blocks_8.LayerNorm_1.bias: shape (8, 768)\n",
            "blocks_8.MLP_0.Dense_0.kernel: shape (8, 768, 3072)\n",
            "blocks_8.MLP_0.Dense_0.bias: shape (8, 3072)\n",
            "blocks_8.MLP_0.Dense_1.kernel: shape (8, 3072, 768)\n",
            "blocks_8.MLP_0.Dense_1.bias: shape (8, 768)\n",
            "blocks_9.LayerNorm_0.scale: shape (8, 768)\n",
            "blocks_9.LayerNorm_0.bias: shape (8, 768)\n",
            "blocks_9.MHSelfAttention_0.Dense_0.kernel: shape (8, 768, 2304)\n",
            "blocks_9.MHSelfAttention_0.Dense_0.bias: shape (8, 2304)\n",
            "blocks_9.MHSelfAttention_0.Dense_1.kernel: shape (8, 768, 768)\n",
            "blocks_9.MHSelfAttention_0.Dense_1.bias: shape (8, 768)\n",
            "blocks_9.LayerNorm_1.scale: shape (8, 768)\n",
            "blocks_9.LayerNorm_1.bias: shape (8, 768)\n",
            "blocks_9.MLP_0.Dense_0.kernel: shape (8, 768, 3072)\n",
            "blocks_9.MLP_0.Dense_0.bias: shape (8, 3072)\n",
            "blocks_9.MLP_0.Dense_1.kernel: shape (8, 3072, 768)\n",
            "blocks_9.MLP_0.Dense_1.bias: shape (8, 768)\n",
            "blocks_10.LayerNorm_0.scale: shape (8, 768)\n",
            "blocks_10.LayerNorm_0.bias: shape (8, 768)\n",
            "blocks_10.MHSelfAttention_0.Dense_0.kernel: shape (8, 768, 2304)\n",
            "blocks_10.MHSelfAttention_0.Dense_0.bias: shape (8, 2304)\n",
            "blocks_10.MHSelfAttention_0.Dense_1.kernel: shape (8, 768, 768)\n",
            "blocks_10.MHSelfAttention_0.Dense_1.bias: shape (8, 768)\n",
            "blocks_10.LayerNorm_1.scale: shape (8, 768)\n",
            "blocks_10.LayerNorm_1.bias: shape (8, 768)\n",
            "blocks_10.MLP_0.Dense_0.kernel: shape (8, 768, 3072)\n",
            "blocks_10.MLP_0.Dense_0.bias: shape (8, 3072)\n",
            "blocks_10.MLP_0.Dense_1.kernel: shape (8, 3072, 768)\n",
            "blocks_10.MLP_0.Dense_1.bias: shape (8, 768)\n",
            "blocks_11.LayerNorm_0.scale: shape (8, 768)\n",
            "blocks_11.LayerNorm_0.bias: shape (8, 768)\n",
            "blocks_11.MHSelfAttention_0.Dense_0.kernel: shape (8, 768, 2304)\n",
            "blocks_11.MHSelfAttention_0.Dense_0.bias: shape (8, 2304)\n",
            "blocks_11.MHSelfAttention_0.Dense_1.kernel: shape (8, 768, 768)\n",
            "blocks_11.MHSelfAttention_0.Dense_1.bias: shape (8, 768)\n",
            "blocks_11.LayerNorm_1.scale: shape (8, 768)\n",
            "blocks_11.LayerNorm_1.bias: shape (8, 768)\n",
            "blocks_11.MLP_0.Dense_0.kernel: shape (8, 768, 3072)\n",
            "blocks_11.MLP_0.Dense_0.bias: shape (8, 3072)\n",
            "blocks_11.MLP_0.Dense_1.kernel: shape (8, 3072, 768)\n",
            "blocks_11.MLP_0.Dense_1.bias: shape (8, 768)\n",
            "ln_f.scale: shape (8, 768)\n",
            "ln_f.bias: shape (8, 768)\n"
          ]
        }
      ],
      "source": [
        "def print_param_shapes(params, prefix=\"\"):\n",
        "    if isinstance(params, dict):\n",
        "        for name, param in params.items():\n",
        "            print_param_shapes(param, prefix + name + \".\")\n",
        "    else:\n",
        "        print(f\"{prefix[:-1]}: shape {params.shape}\")\n",
        "\n",
        "loaded_state = load_model(state, f\"checkpoint_epoch_5.msgpack\")\n",
        "print_param_shapes(loaded_state.params)"
      ]
    },
    {
      "cell_type": "code",
      "execution_count": null,
      "metadata": {
        "id": "TT42pxnnJP6o"
      },
      "outputs": [],
      "source": [
        "unsharded_params = jax.tree.map(lambda x: x[0] if x.shape[0] == 8 else x, loaded_state.params)\n",
        "\n",
        "unsharded_state = TrainState.create(\n",
        "    apply_fn=model.apply,\n",
        "    params=unsharded_params,\n",
        "    tx=optax.adamw(learning_rate=5e-5)\n",
        ")"
      ]
    },
    {
      "cell_type": "code",
      "execution_count": null,
      "metadata": {
        "id": "Y9u5W2m3JP6o",
        "outputId": "f8224077-e416-462f-f38f-fbede0199d72"
      },
      "outputs": [
        {
          "name": "stdout",
          "output_type": "stream",
          "text": [
            "blocks_0.LayerNorm_0.bias: shape (768,)\n",
            "blocks_0.LayerNorm_0.scale: shape (768,)\n",
            "blocks_0.LayerNorm_1.bias: shape (768,)\n",
            "blocks_0.LayerNorm_1.scale: shape (768,)\n",
            "blocks_0.MHSelfAttention_0.Dense_0.bias: shape (2304,)\n",
            "blocks_0.MHSelfAttention_0.Dense_0.kernel: shape (768, 2304)\n",
            "blocks_0.MHSelfAttention_0.Dense_1.bias: shape (768,)\n",
            "blocks_0.MHSelfAttention_0.Dense_1.kernel: shape (768, 768)\n",
            "blocks_0.MLP_0.Dense_0.bias: shape (3072,)\n",
            "blocks_0.MLP_0.Dense_0.kernel: shape (768, 3072)\n",
            "blocks_0.MLP_0.Dense_1.bias: shape (768,)\n",
            "blocks_0.MLP_0.Dense_1.kernel: shape (3072, 768)\n",
            "blocks_1.LayerNorm_0.bias: shape (768,)\n",
            "blocks_1.LayerNorm_0.scale: shape (768,)\n",
            "blocks_1.LayerNorm_1.bias: shape (768,)\n",
            "blocks_1.LayerNorm_1.scale: shape (768,)\n",
            "blocks_1.MHSelfAttention_0.Dense_0.bias: shape (2304,)\n",
            "blocks_1.MHSelfAttention_0.Dense_0.kernel: shape (768, 2304)\n",
            "blocks_1.MHSelfAttention_0.Dense_1.bias: shape (768,)\n",
            "blocks_1.MHSelfAttention_0.Dense_1.kernel: shape (768, 768)\n",
            "blocks_1.MLP_0.Dense_0.bias: shape (3072,)\n",
            "blocks_1.MLP_0.Dense_0.kernel: shape (768, 3072)\n",
            "blocks_1.MLP_0.Dense_1.bias: shape (768,)\n",
            "blocks_1.MLP_0.Dense_1.kernel: shape (3072, 768)\n",
            "blocks_10.LayerNorm_0.bias: shape (768,)\n",
            "blocks_10.LayerNorm_0.scale: shape (768,)\n",
            "blocks_10.LayerNorm_1.bias: shape (768,)\n",
            "blocks_10.LayerNorm_1.scale: shape (768,)\n",
            "blocks_10.MHSelfAttention_0.Dense_0.bias: shape (2304,)\n",
            "blocks_10.MHSelfAttention_0.Dense_0.kernel: shape (768, 2304)\n",
            "blocks_10.MHSelfAttention_0.Dense_1.bias: shape (768,)\n",
            "blocks_10.MHSelfAttention_0.Dense_1.kernel: shape (768, 768)\n",
            "blocks_10.MLP_0.Dense_0.bias: shape (3072,)\n",
            "blocks_10.MLP_0.Dense_0.kernel: shape (768, 3072)\n",
            "blocks_10.MLP_0.Dense_1.bias: shape (768,)\n",
            "blocks_10.MLP_0.Dense_1.kernel: shape (3072, 768)\n",
            "blocks_11.LayerNorm_0.bias: shape (768,)\n",
            "blocks_11.LayerNorm_0.scale: shape (768,)\n",
            "blocks_11.LayerNorm_1.bias: shape (768,)\n",
            "blocks_11.LayerNorm_1.scale: shape (768,)\n",
            "blocks_11.MHSelfAttention_0.Dense_0.bias: shape (2304,)\n",
            "blocks_11.MHSelfAttention_0.Dense_0.kernel: shape (768, 2304)\n",
            "blocks_11.MHSelfAttention_0.Dense_1.bias: shape (768,)\n",
            "blocks_11.MHSelfAttention_0.Dense_1.kernel: shape (768, 768)\n",
            "blocks_11.MLP_0.Dense_0.bias: shape (3072,)\n",
            "blocks_11.MLP_0.Dense_0.kernel: shape (768, 3072)\n",
            "blocks_11.MLP_0.Dense_1.bias: shape (768,)\n",
            "blocks_11.MLP_0.Dense_1.kernel: shape (3072, 768)\n",
            "blocks_2.LayerNorm_0.bias: shape (768,)\n",
            "blocks_2.LayerNorm_0.scale: shape (768,)\n",
            "blocks_2.LayerNorm_1.bias: shape (768,)\n",
            "blocks_2.LayerNorm_1.scale: shape (768,)\n",
            "blocks_2.MHSelfAttention_0.Dense_0.bias: shape (2304,)\n",
            "blocks_2.MHSelfAttention_0.Dense_0.kernel: shape (768, 2304)\n",
            "blocks_2.MHSelfAttention_0.Dense_1.bias: shape (768,)\n",
            "blocks_2.MHSelfAttention_0.Dense_1.kernel: shape (768, 768)\n",
            "blocks_2.MLP_0.Dense_0.bias: shape (3072,)\n",
            "blocks_2.MLP_0.Dense_0.kernel: shape (768, 3072)\n",
            "blocks_2.MLP_0.Dense_1.bias: shape (768,)\n",
            "blocks_2.MLP_0.Dense_1.kernel: shape (3072, 768)\n",
            "blocks_3.LayerNorm_0.bias: shape (768,)\n",
            "blocks_3.LayerNorm_0.scale: shape (768,)\n",
            "blocks_3.LayerNorm_1.bias: shape (768,)\n",
            "blocks_3.LayerNorm_1.scale: shape (768,)\n",
            "blocks_3.MHSelfAttention_0.Dense_0.bias: shape (2304,)\n",
            "blocks_3.MHSelfAttention_0.Dense_0.kernel: shape (768, 2304)\n",
            "blocks_3.MHSelfAttention_0.Dense_1.bias: shape (768,)\n",
            "blocks_3.MHSelfAttention_0.Dense_1.kernel: shape (768, 768)\n",
            "blocks_3.MLP_0.Dense_0.bias: shape (3072,)\n",
            "blocks_3.MLP_0.Dense_0.kernel: shape (768, 3072)\n",
            "blocks_3.MLP_0.Dense_1.bias: shape (768,)\n",
            "blocks_3.MLP_0.Dense_1.kernel: shape (3072, 768)\n",
            "blocks_4.LayerNorm_0.bias: shape (768,)\n",
            "blocks_4.LayerNorm_0.scale: shape (768,)\n",
            "blocks_4.LayerNorm_1.bias: shape (768,)\n",
            "blocks_4.LayerNorm_1.scale: shape (768,)\n",
            "blocks_4.MHSelfAttention_0.Dense_0.bias: shape (2304,)\n",
            "blocks_4.MHSelfAttention_0.Dense_0.kernel: shape (768, 2304)\n",
            "blocks_4.MHSelfAttention_0.Dense_1.bias: shape (768,)\n",
            "blocks_4.MHSelfAttention_0.Dense_1.kernel: shape (768, 768)\n",
            "blocks_4.MLP_0.Dense_0.bias: shape (3072,)\n",
            "blocks_4.MLP_0.Dense_0.kernel: shape (768, 3072)\n",
            "blocks_4.MLP_0.Dense_1.bias: shape (768,)\n",
            "blocks_4.MLP_0.Dense_1.kernel: shape (3072, 768)\n",
            "blocks_5.LayerNorm_0.bias: shape (768,)\n",
            "blocks_5.LayerNorm_0.scale: shape (768,)\n",
            "blocks_5.LayerNorm_1.bias: shape (768,)\n",
            "blocks_5.LayerNorm_1.scale: shape (768,)\n",
            "blocks_5.MHSelfAttention_0.Dense_0.bias: shape (2304,)\n",
            "blocks_5.MHSelfAttention_0.Dense_0.kernel: shape (768, 2304)\n",
            "blocks_5.MHSelfAttention_0.Dense_1.bias: shape (768,)\n",
            "blocks_5.MHSelfAttention_0.Dense_1.kernel: shape (768, 768)\n",
            "blocks_5.MLP_0.Dense_0.bias: shape (3072,)\n",
            "blocks_5.MLP_0.Dense_0.kernel: shape (768, 3072)\n",
            "blocks_5.MLP_0.Dense_1.bias: shape (768,)\n",
            "blocks_5.MLP_0.Dense_1.kernel: shape (3072, 768)\n",
            "blocks_6.LayerNorm_0.bias: shape (768,)\n",
            "blocks_6.LayerNorm_0.scale: shape (768,)\n",
            "blocks_6.LayerNorm_1.bias: shape (768,)\n",
            "blocks_6.LayerNorm_1.scale: shape (768,)\n",
            "blocks_6.MHSelfAttention_0.Dense_0.bias: shape (2304,)\n",
            "blocks_6.MHSelfAttention_0.Dense_0.kernel: shape (768, 2304)\n",
            "blocks_6.MHSelfAttention_0.Dense_1.bias: shape (768,)\n",
            "blocks_6.MHSelfAttention_0.Dense_1.kernel: shape (768, 768)\n",
            "blocks_6.MLP_0.Dense_0.bias: shape (3072,)\n",
            "blocks_6.MLP_0.Dense_0.kernel: shape (768, 3072)\n",
            "blocks_6.MLP_0.Dense_1.bias: shape (768,)\n",
            "blocks_6.MLP_0.Dense_1.kernel: shape (3072, 768)\n",
            "blocks_7.LayerNorm_0.bias: shape (768,)\n",
            "blocks_7.LayerNorm_0.scale: shape (768,)\n",
            "blocks_7.LayerNorm_1.bias: shape (768,)\n",
            "blocks_7.LayerNorm_1.scale: shape (768,)\n",
            "blocks_7.MHSelfAttention_0.Dense_0.bias: shape (2304,)\n",
            "blocks_7.MHSelfAttention_0.Dense_0.kernel: shape (768, 2304)\n",
            "blocks_7.MHSelfAttention_0.Dense_1.bias: shape (768,)\n",
            "blocks_7.MHSelfAttention_0.Dense_1.kernel: shape (768, 768)\n",
            "blocks_7.MLP_0.Dense_0.bias: shape (3072,)\n",
            "blocks_7.MLP_0.Dense_0.kernel: shape (768, 3072)\n",
            "blocks_7.MLP_0.Dense_1.bias: shape (768,)\n",
            "blocks_7.MLP_0.Dense_1.kernel: shape (3072, 768)\n",
            "blocks_8.LayerNorm_0.bias: shape (768,)\n",
            "blocks_8.LayerNorm_0.scale: shape (768,)\n",
            "blocks_8.LayerNorm_1.bias: shape (768,)\n",
            "blocks_8.LayerNorm_1.scale: shape (768,)\n",
            "blocks_8.MHSelfAttention_0.Dense_0.bias: shape (2304,)\n",
            "blocks_8.MHSelfAttention_0.Dense_0.kernel: shape (768, 2304)\n",
            "blocks_8.MHSelfAttention_0.Dense_1.bias: shape (768,)\n",
            "blocks_8.MHSelfAttention_0.Dense_1.kernel: shape (768, 768)\n",
            "blocks_8.MLP_0.Dense_0.bias: shape (3072,)\n",
            "blocks_8.MLP_0.Dense_0.kernel: shape (768, 3072)\n",
            "blocks_8.MLP_0.Dense_1.bias: shape (768,)\n",
            "blocks_8.MLP_0.Dense_1.kernel: shape (3072, 768)\n",
            "blocks_9.LayerNorm_0.bias: shape (768,)\n",
            "blocks_9.LayerNorm_0.scale: shape (768,)\n",
            "blocks_9.LayerNorm_1.bias: shape (768,)\n",
            "blocks_9.LayerNorm_1.scale: shape (768,)\n",
            "blocks_9.MHSelfAttention_0.Dense_0.bias: shape (2304,)\n",
            "blocks_9.MHSelfAttention_0.Dense_0.kernel: shape (768, 2304)\n",
            "blocks_9.MHSelfAttention_0.Dense_1.bias: shape (768,)\n",
            "blocks_9.MHSelfAttention_0.Dense_1.kernel: shape (768, 768)\n",
            "blocks_9.MLP_0.Dense_0.bias: shape (3072,)\n",
            "blocks_9.MLP_0.Dense_0.kernel: shape (768, 3072)\n",
            "blocks_9.MLP_0.Dense_1.bias: shape (768,)\n",
            "blocks_9.MLP_0.Dense_1.kernel: shape (3072, 768)\n",
            "ln_f.bias: shape (768,)\n",
            "ln_f.scale: shape (768,)\n",
            "wpe: shape (1024, 768)\n",
            "wte.embedding: shape (50257, 768)\n"
          ]
        }
      ],
      "source": [
        "print_param_shapes(unsharded_state.params)"
      ]
    },
    {
      "cell_type": "code",
      "execution_count": null,
      "metadata": {
        "id": "CifIXKucJP6t"
      },
      "outputs": [],
      "source": [
        "@jax.jit\n",
        "def infer(params, input_ids):\n",
        "    logits = model.apply({'params': params}, input_ids, deterministic=True)\n",
        "    return logits\n",
        "\n",
        "input_text = (\n",
        "    \"Once upon a time,\"\n",
        ")\n",
        "\n",
        "encoded_input = tokenizer.encode(input_text, return_tensors=\"np\")\n",
        "input_ids = jnp.array(encoded_input)        # shape: (1, seq_length)\n",
        "input_ids = jax.device_put(input_ids)         # ensure it’s on the GPU\n",
        "\n",
        "params_single = jax.device_put(unsharded_state.params)\n",
        "\n",
        "num_tokens_to_generate = 10\n",
        "\n",
        "generated_ids = input_ids\n",
        "\n",
        "rng = jax.random.PRNGKey(0)\n",
        "\n",
        "temperature = 0.7\n",
        "\n",
        "for _ in range(num_tokens_to_generate):\n",
        "    logits = infer(params_single, generated_ids)\n",
        "    last_token_logits = logits[:, -1, :] / temperature\n",
        "\n",
        "    rng, sub_rng = jax.random.split(rng)\n",
        "    next_token_id = int(jax.random.categorical(sub_rng, last_token_logits[0]))\n",
        "\n",
        "    next_token = jnp.array([[next_token_id]])\n",
        "    generated_ids = jnp.concatenate([generated_ids, next_token], axis=1)\n"
      ]
    },
    {
      "cell_type": "code",
      "execution_count": null,
      "metadata": {
        "id": "lNrVqN1WJP6t",
        "outputId": "2e428ebd-8c7d-4867-8081-a67db5a1ff00"
      },
      "outputs": [
        {
          "name": "stdout",
          "output_type": "stream",
          "text": [
            "Once upon a time, when a man could go against the man to the\n"
          ]
        }
      ],
      "source": [
        "generated_text = tokenizer.decode(generated_ids[0].tolist())\n",
        "print(generated_text)"
      ]
    },
    {
      "cell_type": "markdown",
      "metadata": {
        "id": "UKXWQ2JXpewb"
      },
      "source": [
        "## Let's make this faster\n"
      ]
    },
    {
      "cell_type": "markdown",
      "metadata": {
        "id": "qCWHnYhIpewb"
      },
      "source": [
        "### Implementing KV-Caching\n",
        "<div align=\"center\">\n",
        "<img src=\"https://miro.medium.com/v2/resize:fit:1400/1*4RwWnUm8zaUJmME0RkkUBQ.png\" />\n",
        "</div>"
      ]
    },
    {
      "cell_type": "markdown",
      "metadata": {
        "id": "Gxwd2RB1pewb"
      },
      "source": [
        "The transparent rows are the only thing we actually want to compute :)\n",
        "\n",
        "\n",
        "\n"
      ]
    },
    {
      "cell_type": "markdown",
      "metadata": {
        "id": "hRyDFp6mpewb"
      },
      "source": [
        "$$ \\begin{aligned}\n",
        "&x_K^i \\leftarrow \\text{Concat}\\bigl(x_K^i,\\; t^i \\cdot W_K^i \\bigr),\\\\[1mm]\n",
        "&x_V^i \\leftarrow \\text{Concat}\\bigl(x_V^i,\\; t^i \\cdot W_V^i \\bigr),\\\\[1mm]\n",
        "&t_Q^i = t^i \\cdot W_Q^i,\\\\[1mm]\n",
        "&t_{out}^i = \\mathrm{softmax}\\Bigl(\\frac{t_Q^i \\,(x_K^i)^\\top}{\\sqrt{h}}\\Bigr)\\; x_V^i \\; W_O^i \\;+\\; t^i,\\\\[1mm]\n",
        "&t^{i+1} = \\sigma\\bigl(t_{out}^i \\cdot W_1\\bigr)\\, W_2 \\;+\\; t_{out}^i.\n",
        "\\end{aligned}$$\n",
        "\n",
        "#### **Key Operations in KV Caching**\n",
        "- **During the first step (prompt processing):** Compute and store the full **K** and **V** tensors.\n",
        "- **For subsequent tokens:**\n",
        "  - Retrieve cached **K** and **V** tensors.\n",
        "  - Concatenate the new token's **K** and **V** to the cache.\n",
        "  - Compute attention only on the updated sequence.\n",
        "\n",
        "Now the computation scale goes to $O(T)$ instead of $O(T^2)$."
      ]
    },
    {
      "cell_type": "code",
      "execution_count": 14,
      "metadata": {
        "id": "h16rlMR1pewb"
      },
      "outputs": [],
      "source": [
        "class MHSelfAttention(nn.Module):\n",
        "    config: GPT2Config\n",
        "\n",
        "    @nn.compact\n",
        "    def __call__(\n",
        "        self,\n",
        "        hidden_states: jnp.ndarray,\n",
        "        deterministic: bool = True,\n",
        "        cached_key: Optional[jnp.ndarray] = None,\n",
        "        cached_value: Optional[jnp.ndarray] = None,\n",
        "    ) -> Tuple[jnp.ndarray, Tuple[jnp.ndarray, jnp.ndarray]]:\n",
        "        \"\"\"\n",
        "        hidden_states: [batch, new_seq_len, n_embd]\n",
        "        cached_key:   [batch, n_heads, prev_seq_len, head_dim] or None\n",
        "        cached_value: [batch, n_heads, prev_seq_len, head_dim] or None\n",
        "        \"\"\"\n",
        "        cfg = self.config\n",
        "        batch_size, new_seq_len, hidden_dim = hidden_states.shape\n",
        "        head_dim = hidden_dim // cfg.n_head\n",
        "\n",
        "        qkv = nn.Dense(\n",
        "            cfg.n_embd * 3,\n",
        "            use_bias=True,\n",
        "            kernel_init=nn.initializers.normal(cfg.initializer_range),\n",
        "            bias_init=nn.initializers.zeros,\n",
        "        )(hidden_states)\n",
        "\n",
        "        qkv = qkv.reshape(batch_size, new_seq_len, 3, cfg.n_head, head_dim)\n",
        "        q, k, v = jnp.split(qkv, 3, axis=2)\n",
        "        q = q.squeeze(axis=2)  # [batch, new_seq_len, n_head, head_dim]\n",
        "        k = k.squeeze(axis=2)\n",
        "        v = v.squeeze(axis=2)\n",
        "\n",
        "        q = q.transpose((0, 2, 1, 3))\n",
        "        k = k.transpose((0, 2, 1, 3))\n",
        "        v = v.transpose((0, 2, 1, 3))\n",
        "\n",
        "        # Concatenate along the sequence dimension\n",
        "        if cached_key is not None and cached_value is not None:\n",
        "            k = jnp.concatenate([cached_key, k], axis=2)  # seq dimension = axis=2\n",
        "            v = jnp.concatenate([cached_value, v], axis=2)\n",
        "\n",
        "        seq_len_q = q.shape[2]   # new_seq_len\n",
        "        seq_len_k = k.shape[2]   # total length so far (prev + new)\n",
        "\n",
        "        base_mask = jnp.tril(jnp.ones((seq_len_k, seq_len_k)))\n",
        "        causal_mask = base_mask[-seq_len_q:, :]\n",
        "        causal_mask = causal_mask[None, None, :, :]\n",
        "\n",
        "        dk = jnp.sqrt(head_dim).astype(q.dtype)\n",
        "        attn_logits = jnp.matmul(q, k.transpose((0, 1, 3, 2))) / dk\n",
        "        attn_logits = jnp.where(causal_mask == 0, -1e10, attn_logits)\n",
        "\n",
        "        attn_weights = nn.softmax(attn_logits, axis=-1)\n",
        "        attn_weights = nn.Dropout(rate=cfg.attn_dropout_rate)(attn_weights, deterministic=deterministic)\n",
        "\n",
        "        attn_output = jnp.matmul(attn_weights, v)\n",
        "        attn_output = attn_output.transpose((0, 2, 1, 3))\n",
        "        attn_output = attn_output.reshape(batch_size, new_seq_len, cfg.n_embd)\n",
        "\n",
        "        out = nn.Dense(\n",
        "            cfg.n_embd,\n",
        "            use_bias=True,\n",
        "            kernel_init=nn.initializers.normal(cfg.initializer_range),\n",
        "            bias_init=nn.initializers.zeros,\n",
        "        )(attn_output)\n",
        "\n",
        "        return out, (k, v)"
      ]
    },
    {
      "cell_type": "code",
      "execution_count": null,
      "metadata": {
        "id": "Kw7KcHhJpewb"
      },
      "outputs": [],
      "source": [
        "class TransformerBlock(nn.Module):\n",
        "    config: GPT2Config\n",
        "\n",
        "    @nn.compact\n",
        "    def __call__(\n",
        "        self,\n",
        "        hidden_states: jnp.ndarray,\n",
        "        deterministic: bool = True,\n",
        "        cached_key: Optional[jnp.ndarray] = None,\n",
        "        cached_value: Optional[jnp.ndarray] = None\n",
        "    ) -> Tuple[jnp.ndarray, Tuple[jnp.ndarray, jnp.ndarray]]:\n",
        "        cfg = self.config\n",
        "\n",
        "        ln_attn = nn.LayerNorm(epsilon=cfg.layer_norm_epsilon)(hidden_states)\n",
        "        attn_out, (updated_k, updated_v) = MHSelfAttention(cfg)(\n",
        "            ln_attn, deterministic=deterministic,\n",
        "            cached_key=cached_key, cached_value=cached_value\n",
        "        )\n",
        "        attn_out = nn.Dropout(rate=cfg.dropout_rate)(attn_out, deterministic=deterministic)\n",
        "        x = hidden_states + attn_out\n",
        "\n",
        "        ln_mlp = nn.LayerNorm(epsilon=cfg.layer_norm_epsilon)(x)\n",
        "        mlp_out = MLP(cfg)(ln_mlp, deterministic=deterministic)\n",
        "        x = x + mlp_out\n",
        "\n",
        "        return x, (updated_k, updated_v)"
      ]
    },
    {
      "cell_type": "code",
      "execution_count": null,
      "metadata": {
        "id": "pKuK06oTpewc"
      },
      "outputs": [],
      "source": [
        "class GPT2(nn.Module):\n",
        "    config: GPT2Config\n",
        "\n",
        "    def setup(self):\n",
        "        cfg = self.config\n",
        "        self.wte = nn.Embed(\n",
        "            num_embeddings=cfg.vocab_size,\n",
        "            features=cfg.n_embd,\n",
        "            embedding_init=nn.initializers.normal(cfg.initializer_range),\n",
        "        )\n",
        "        self.wpe = self.param(\n",
        "            \"wpe\",\n",
        "            nn.initializers.normal(cfg.initializer_range),\n",
        "            (cfg.max_position_embeddings, cfg.n_embd),\n",
        "        )\n",
        "        self.blocks = [TransformerBlock(cfg) for _ in range(cfg.n_layer)]\n",
        "        self.ln_f = nn.LayerNorm(epsilon=cfg.layer_norm_epsilon)\n",
        "        self.dropout = nn.Dropout(rate=cfg.dropout_rate)\n",
        "\n",
        "    def __call__(\n",
        "        self,\n",
        "        input_ids: jnp.ndarray,\n",
        "        deterministic: bool = True,\n",
        "        past_key_values: Optional[List[Tuple[jnp.ndarray, jnp.ndarray]]] = None,\n",
        "        use_cache: bool = False,\n",
        "    ) -> Union[jnp.ndarray, Tuple[jnp.ndarray, List[Tuple[jnp.ndarray, jnp.ndarray]]]]:\n",
        "        \"\"\"\n",
        "        input_ids: [batch, seq_len] (can be the full prompt or just the new token).\n",
        "        past_key_values: list of (k, v) tuples, each shape [batch, n_heads, prev_seq_len, head_dim]\n",
        "        use_cache: whether to return updated k/v caches\n",
        "        \"\"\"\n",
        "\n",
        "        cfg = self.config\n",
        "        batch_size, seq_len = input_ids.shape\n",
        "\n",
        "        # Determine offset for position IDs if we have a cache:\n",
        "        if past_key_values is not None and past_key_values[0][0] is not None:\n",
        "            offset = past_key_values[0][0].shape[2]  # 'prev_seq_len' from shape [b, n_heads, prev_seq_len, head_dim]\n",
        "        else:\n",
        "            offset = 0\n",
        "\n",
        "        position_ids = jnp.arange(offset, offset + seq_len, dtype=jnp.int32)[None, :]\n",
        "\n",
        "        token_embeds = self.wte(input_ids)  # [batch, seq_len, n_embd]\n",
        "        position_embeds = jnp.take(self.wpe, position_ids, axis=0)  # also [batch, seq_len, n_embd]\n",
        "        hidden_states = token_embeds + position_embeds\n",
        "        hidden_states = self.dropout(hidden_states, deterministic=deterministic)\n",
        "\n",
        "        if past_key_values is None:\n",
        "            past_key_values = [(None, None)] * len(self.blocks)\n",
        "\n",
        "        new_key_values = []\n",
        "        for block, (cached_k, cached_v) in zip(self.blocks, past_key_values):\n",
        "            hidden_states, (updated_k, updated_v) = block(\n",
        "                hidden_states,\n",
        "                deterministic=deterministic,\n",
        "                cached_key=cached_k,\n",
        "                cached_value=cached_v,\n",
        "            )\n",
        "            new_key_values.append((updated_k, updated_v))\n",
        "\n",
        "        hidden_states = self.ln_f(hidden_states)\n",
        "\n",
        "        wte_tied = self.wte.embedding.T  # shape [n_embd, vocab_size]\n",
        "        logits = jnp.einsum(\"bld,dk->blk\", hidden_states, wte_tied)\n",
        "\n",
        "        if use_cache:\n",
        "            return logits, new_key_values\n",
        "        else:\n",
        "            return logits\n"
      ]
    },
    {
      "cell_type": "markdown",
      "metadata": {
        "id": "q77htQ99pewc"
      },
      "source": [
        "### Dummy Input and Shape Check (Unsharded)"
      ]
    },
    {
      "cell_type": "code",
      "execution_count": null,
      "metadata": {
        "id": "C1AYlXgypewc",
        "outputId": "8f806fb2-fbd1-4bb8-a592-721cde0867be"
      },
      "outputs": [
        {
          "name": "stdout",
          "output_type": "stream",
          "text": [
            "Logits shape (no cache): (1, 1024, 50257)\n",
            "Logits shape (with cache): (1, 1024, 50257)\n",
            "Layer 0: k shape: (1, 12, 1024, 64), v shape: (1, 12, 1024, 64)\n",
            "Layer 1: k shape: (1, 12, 1024, 64), v shape: (1, 12, 1024, 64)\n",
            "Layer 2: k shape: (1, 12, 1024, 64), v shape: (1, 12, 1024, 64)\n",
            "Layer 3: k shape: (1, 12, 1024, 64), v shape: (1, 12, 1024, 64)\n",
            "Layer 4: k shape: (1, 12, 1024, 64), v shape: (1, 12, 1024, 64)\n",
            "Layer 5: k shape: (1, 12, 1024, 64), v shape: (1, 12, 1024, 64)\n",
            "Layer 6: k shape: (1, 12, 1024, 64), v shape: (1, 12, 1024, 64)\n",
            "Layer 7: k shape: (1, 12, 1024, 64), v shape: (1, 12, 1024, 64)\n",
            "Layer 8: k shape: (1, 12, 1024, 64), v shape: (1, 12, 1024, 64)\n",
            "Layer 9: k shape: (1, 12, 1024, 64), v shape: (1, 12, 1024, 64)\n",
            "Layer 10: k shape: (1, 12, 1024, 64), v shape: (1, 12, 1024, 64)\n",
            "Layer 11: k shape: (1, 12, 1024, 64), v shape: (1, 12, 1024, 64)\n"
          ]
        }
      ],
      "source": [
        "dummy_input = jnp.zeros((1, 1024), dtype=jnp.int32)\n",
        "\n",
        "config = GPT2Config()\n",
        "model = GPT2(config)\n",
        "\n",
        "rng = jax.random.PRNGKey(0)\n",
        "params = model.init(rng, dummy_input)['params']\n",
        "state = TrainState.create(apply_fn=model.apply, params=params, tx=optimizer)\n",
        "\n",
        "logits = model.apply({'params': params}, dummy_input, deterministic=True, use_cache=False)\n",
        "print(\"Logits shape (no cache):\", logits.shape)\n",
        "\n",
        "logits, new_key_values = model.apply(\n",
        "    {'params': params},\n",
        "    dummy_input,\n",
        "    deterministic=True,\n",
        "    use_cache=True\n",
        ")\n",
        "print(\"Logits shape (with cache):\", logits.shape)\n",
        "\n",
        "for i, (k, v) in enumerate(new_key_values):\n",
        "    print(f\"Layer {i}: k shape: {k.shape}, v shape: {v.shape}\")"
      ]
    },
    {
      "cell_type": "markdown",
      "metadata": {
        "id": "p8mf7dNypewc"
      },
      "source": [
        "### Loading a trained model and applying KV Cache"
      ]
    },
    {
      "cell_type": "code",
      "execution_count": null,
      "metadata": {
        "id": "dK9UGd69pewc"
      },
      "outputs": [],
      "source": [
        "loaded_state = load_model(state, f\"checkpoint_epoch_100_1.msgpack\")\n",
        "unsharded_params = jax.tree.map(lambda x: x[0] if x.shape[0] == 8 else x, loaded_state.params)\n",
        "\n",
        "unsharded_state = TrainState.create(\n",
        "    apply_fn=model.apply,\n",
        "    params=unsharded_params,\n",
        "    tx=optax.adamw(learning_rate=5e-5)\n",
        ")"
      ]
    },
    {
      "cell_type": "code",
      "execution_count": null,
      "metadata": {
        "id": "kNJ5FtgEpewc",
        "outputId": "7e25769b-905f-4ac3-8e28-15dcecb5b9a4"
      },
      "outputs": [
        {
          "name": "stdout",
          "output_type": "stream",
          "text": [
            "Logits shape (with cache): (1, 1024, 50257)\n",
            "Layer 0: k shape: (1, 12, 1024, 64), v shape: (1, 12, 1024, 64)\n",
            "Layer 1: k shape: (1, 12, 1024, 64), v shape: (1, 12, 1024, 64)\n",
            "Layer 2: k shape: (1, 12, 1024, 64), v shape: (1, 12, 1024, 64)\n",
            "Layer 3: k shape: (1, 12, 1024, 64), v shape: (1, 12, 1024, 64)\n",
            "Layer 4: k shape: (1, 12, 1024, 64), v shape: (1, 12, 1024, 64)\n",
            "Layer 5: k shape: (1, 12, 1024, 64), v shape: (1, 12, 1024, 64)\n",
            "Layer 6: k shape: (1, 12, 1024, 64), v shape: (1, 12, 1024, 64)\n",
            "Layer 7: k shape: (1, 12, 1024, 64), v shape: (1, 12, 1024, 64)\n",
            "Layer 8: k shape: (1, 12, 1024, 64), v shape: (1, 12, 1024, 64)\n",
            "Layer 9: k shape: (1, 12, 1024, 64), v shape: (1, 12, 1024, 64)\n",
            "Layer 10: k shape: (1, 12, 1024, 64), v shape: (1, 12, 1024, 64)\n",
            "Layer 11: k shape: (1, 12, 1024, 64), v shape: (1, 12, 1024, 64)\n"
          ]
        }
      ],
      "source": [
        "logits, new_key_values = model.apply(\n",
        "    {'params': unsharded_state.params},\n",
        "    dummy_input,\n",
        "    deterministic=True,\n",
        "    use_cache=True\n",
        ")\n",
        "print(\"Logits shape (with cache):\", logits.shape)\n",
        "for i, (k, v) in enumerate(new_key_values):\n",
        "    print(f\"Layer {i}: k shape: {k.shape}, v shape: {v.shape}\")"
      ]
    },
    {
      "cell_type": "code",
      "execution_count": null,
      "metadata": {
        "id": "Eh7owRxbpewc",
        "outputId": "9e393866-58c7-41de-cc55-ef830614048e"
      },
      "outputs": [
        {
          "name": "stderr",
          "output_type": "stream",
          "text": [
            "100%|█████████████████████████████████████████████████████████████████████████████████████████████████████████████████████████████████| 960/960 [29:36<00:00,  1.85s/it]\n"
          ]
        },
        {
          "data": {
            "image/png": "[encoded data removed]",
            "text/plain": [
              "<Figure size 1000x600 with 1 Axes>"
            ]
          },
          "metadata": {},
          "output_type": "display_data"
        },
        {
          "name": "stdout",
          "output_type": "stream",
          "text": [
            "Generated text:\n",
            "Once upon a time, I got asked how many legs a dog had. And I said: ative is a huge amount of people being thought to make anyone think that would be a high school in the world.\n",
            "\n",
            "The whole family known as \"ScAttling,\" said one of the largest people in the world are considering a large number of people to the world's largest and 40,000 people and four of them to the country.\n",
            "\n",
            "There are a lot of people who live here on music or even the country and there are so many people who are looking for a dog who actually really loved and have their children looking for it, but one of them is so as many people want to buy.\n",
            "\n",
            "\"We are both a lot of people who are looking to find out and look at them,\" said one of the biggest causes of the world.\n",
            "\n",
            "\"We stand in the park and we are going to start seeing the problems that we are going to get jobs and start driving that day and to make sure that what that's going to happen.\"\n",
            "\n",
            "The idea is that keeping the people who come from the streets and the people who live on the streets at the end of the day are still being hit.\n",
            "\n",
            "\"You can see where we're going to be doing that people are going to get on here,\" said the statement.\n",
            "\n",
            "\"If you're going to get a place and we'll be able to go to New Zealand, people, and the places that are going to be very low,\" he said.\n",
            "\n",
            "\"The people who have advanced the same way and the people who are going to find a great job and the people who are going to be more likely to be really good about the people,\" he said.\n",
            "\n",
            "About the parents said it was a part of the people they have ever been doing with them, and that they are not going to agree with the friends they have to find a lot of people that are going to be able to go.\n",
            "\n",
            "\"We're taking that idea to make sure that they are going to be very expensive, and we continue to be really good with people.\"\n",
            "\n",
            "In a statement released by the United States that there are two major problems for people to be asked to look for a couple of months.\n",
            "\n",
            "The people who run for their society receive jobs and are not going to sign in their family, but they are not going to be able to go for people.\n",
            "\n",
            "However, in the UK, there are still fewer people with people or the people in terms of changing the work they are doing and they are not able to find out that they need to know that they are not being taken off.\n",
            "\n",
            "\"They are not going to be good enough (we're) for us, they are going to be able to be back and they are going to be just going to look at work,\" the statement said.\n",
            "\n",
            "The people of the same campaign have to go to understanding what they are going to be doing is that they are not very likely to be able to enter their homes.\n",
            "\n",
            "\"You're going to work out there and have a lot of people who are going to be very seriously excited about it,\" the statement said.\n",
            "\n",
            "\"There are always things that such as to live with the people that are going to be able to look at what we can do, and they want us to be a lot of work they can be going to be able to live,\" the statement added.\n",
            "\n",
            "\"The people that are going to be very difficult and they are going to stand in the community and have to get us a lot of people and they are going in life, and they will be going to be able to continue to be able to be done and have some ideas as they are going to announce it.\"\n",
            "\n",
            "The world needs to be highly expensive but a lot of people are not only able to take care of that.\n",
            "\n",
            "Starting from the end of the war, a large group of people in a year are able to get out for a very high school and a lot of people who are still being able to spend work for the key, they are going to go to look for themselves and get back to the same thing they need to go.\n",
            "\n",
            "The job of hosting people who have seen the work that would be built for people to work. In a statement they are going to be getting the same people who have been involved in life and job pets.\n",
            "\n",
            "\"Our work is important to get the right people to go here and we want to be able to get them back and we need to go and sit into the streets, and we have to go to the people and get what they said we can do and what we will have,\" the statement added.\n",
            "\n",
            "The group, first-generation people who have a\n"
          ]
        }
      ],
      "source": [
        "from tqdm import trange\n",
        "import time\n",
        "import matplotlib.pyplot as plt\n",
        "\n",
        "@jax.jit\n",
        "def infer(params, input_ids, past_key_values=None):\n",
        "    logits, past_key_values = model.apply(\n",
        "        {'params': params},\n",
        "        input_ids,\n",
        "        deterministic=True,\n",
        "        use_cache=True,\n",
        "        past_key_values=past_key_values\n",
        "    )\n",
        "    return logits, past_key_values\n",
        "\n",
        "prompt_text = \"Once upon a time, I got asked how many legs a dog had. And I said: \"\n",
        "prompt_ids = tokenizer.encode(prompt_text, add_special_tokens=False)\n",
        "prompt_ids = jnp.array(prompt_ids, dtype=jnp.int32)[None, :]  # shape: (1, seq_length)\n",
        "\n",
        "eos_token_id = tokenizer.eos_token_id\n",
        "max_new_tokens = 960\n",
        "generated_tokens = list(np.array(prompt_ids[0]))\n",
        "times = []\n",
        "\n",
        "past_key_values = None\n",
        "\n",
        "rng = jax.random.PRNGKey(0)\n",
        "temperature = 0.7\n",
        "\n",
        "for i in trange(max_new_tokens):\n",
        "    start_time = time.time()\n",
        "\n",
        "    input_ids = prompt_ids[:, -1:]\n",
        "\n",
        "    logits, past_key_values = infer(unsharded_params, input_ids, past_key_values)\n",
        "    next_token_logits = logits[:, -1, :] / temperature\n",
        "\n",
        "    rng, sub_rng = jax.random.split(rng)\n",
        "    next_token_id = int(jax.random.categorical(sub_rng, next_token_logits[0]))\n",
        "\n",
        "    generated_tokens.append(next_token_id)\n",
        "\n",
        "    if next_token_id == eos_token_id:\n",
        "        break\n",
        "\n",
        "    next_input_ids = jnp.array([[next_token_id]], dtype=jnp.int32)\n",
        "    prompt_ids = jnp.concatenate([prompt_ids, next_input_ids], axis=1)\n",
        "\n",
        "    end_time = time.time()\n",
        "    times.append(end_time - start_time)\n",
        "\n",
        "cumulative_times = np.cumsum(times)\n",
        "token_indices = np.arange(1, len(cumulative_times) + 1)\n",
        "\n",
        "plt.figure(figsize=(10, 6))\n",
        "plt.plot(token_indices, cumulative_times, marker='o', label='Cumulative Generation Time')\n",
        "plt.xlabel(\"Number of New Tokens Generated\")\n",
        "plt.ylabel(\"Time (seconds)\")\n",
        "plt.title(\"Autoregressive Generation Time (Expected Linear Scaling)\")\n",
        "plt.legend()\n",
        "plt.grid(True)\n",
        "plt.show()\n",
        "\n",
        "final_output_text = tokenizer.decode(generated_tokens)\n",
        "print(\"Generated text:\")\n",
        "print(final_output_text)"
      ]
    },
    {
      "cell_type": "markdown",
      "source": [
        "# Kernel Optimizations\n"
      ],
      "metadata": {
        "id": "MDKuc2He9hx5"
      }
    },
    {
      "cell_type": "markdown",
      "source": [
        "### Using Fused Attention Kernels for GPU - [Pallas kernel code](https://github.com/jax-ml/jax/blob/main/jax/experimental/pallas/ops/gpu/attention.py)"
      ],
      "metadata": {
        "id": "sp30X5k29kyC"
      }
    },
    {
      "cell_type": "code",
      "source": [
        "@dataclass\n",
        "class FusedAttnGPT2Config:\n",
        "    vocab_size: int = 50257\n",
        "    max_position_embeddings: int = 8192\n",
        "    n_embd: int = 2048\n",
        "    n_layer: int = 24\n",
        "    n_head: int = 32\n",
        "    n_inner: int = 8192\n",
        "    layer_norm_epsilon: float = 1e-5\n",
        "    dropout_rate: float = 0.1\n",
        "    max_sequence_length: int = 8192\n",
        "    attn_dropout_rate: float = 0.1\n",
        "    initializer_range: float = 0.02\n"
      ],
      "metadata": {
        "collapsed": true,
        "id": "AcbDaM3h9gmt"
      },
      "execution_count": 27,
      "outputs": []
    },
    {
      "cell_type": "code",
      "source": [
        "from jax.experimental.pallas.ops.gpu import attention\n",
        "\n",
        "class FusedMHSelfAttention(nn.Module):\n",
        "    config: FusedAttnGPT2Config\n",
        "\n",
        "    @nn.compact\n",
        "    def __call__(self, hidden_states, deterministic=True, cached_key=None, cached_value=None):\n",
        "        cfg = self.config\n",
        "        batch_size, seq_len, hidden_dim = hidden_states.shape\n",
        "        head_dim = hidden_dim // cfg.n_head\n",
        "\n",
        "        qkv = nn.Dense(cfg.n_embd * 3, use_bias=True, name=\"qkv_proj\")(hidden_states)\n",
        "        qkv = qkv.reshape(batch_size, seq_len, 3, cfg.n_head, head_dim)\n",
        "        q, k, v = jnp.split(qkv, 3, axis=2)\n",
        "        q, k, v = [x.squeeze(2).transpose(0, 2, 1, 3) for x in (q, k, v)]\n",
        "\n",
        "        if cached_key is not None and cached_value is not None:\n",
        "            k = jnp.concatenate([cached_key, k], axis=2)\n",
        "            v = jnp.concatenate([cached_value, v], axis=2)\n",
        "\n",
        "        attn_output = attention.mha(\n",
        "            q, k, v,\n",
        "            segment_ids=None,\n",
        "            sm_scale = 1 / (head_dim ** 0.5),\n",
        "            causal=True,\n",
        "            block_q=64,\n",
        "            block_k=64\n",
        "        )\n",
        "\n",
        "        attn_output = attn_output.transpose(0, 2, 1, 3).reshape(batch_size, seq_len, hidden_dim)\n",
        "        out = nn.Dense(cfg.n_embd, use_bias=True, name=\"out_proj\")(attn_output)\n",
        "        return out, (k, v)"
      ],
      "metadata": {
        "id": "9gRsWGvL9mfm"
      },
      "execution_count": 28,
      "outputs": []
    },
    {
      "cell_type": "markdown",
      "source": [
        "#### Comparing with standard MHSA"
      ],
      "metadata": {
        "id": "krxyqs839wP9"
      }
    },
    {
      "cell_type": "code",
      "source": [
        "import timeit\n",
        "\n",
        "def benchmark_mha(attention_module, params, hidden_states):\n",
        "    \"\"\"Benchmarks the MHA module with JAX jit compilation.\"\"\"\n",
        "    mha_fn = jax.jit(lambda h: attention_module.apply({'params': params}, h, deterministic=True)[0])\n",
        "    mha_fn(hidden_states).block_until_ready()\n",
        "    return timeit.timeit(lambda: mha_fn(hidden_states).block_until_ready(), number=10) / 10"
      ],
      "metadata": {
        "id": "Ooanop5i9nNn"
      },
      "execution_count": 11,
      "outputs": []
    },
    {
      "cell_type": "code",
      "source": [
        "print(\"Running on:\", jax.devices())\n",
        "\n",
        "config = FusedAttnGPT2Config()\n",
        "rng = jax.random.PRNGKey(0)\n",
        "batch_size, seq_len = 1, 4096\n",
        "hidden_states = jax.random.normal(rng, (batch_size, seq_len, config.n_embd))\n",
        "\n",
        "mhsa_model = MHSelfAttention(config)\n",
        "fused_mhsa_model = FusedMHSelfAttention(config)\n",
        "mhsa_params = mhsa_model.init(rng, hidden_states)['params']\n",
        "fused_mhsa_params = fused_mhsa_model.init(rng, hidden_states)['params']\n",
        "\n",
        "mhsa_time = benchmark_mha(mhsa_model, mhsa_params, hidden_states)\n",
        "fused_mhsa_time = benchmark_mha(fused_mhsa_model, fused_mhsa_params, hidden_states)\n",
        "\n",
        "print(f\"Standard MHSA execution time: {mhsa_time:.6f} seconds\")\n",
        "print(f\"Pallas Fused MHSA execution time: {fused_mhsa_time:.6f} seconds\")\n",
        "print(f\"Speedup factor: {mhsa_time / fused_mhsa_time:.2f}x\")\n"
      ],
      "metadata": {
        "colab": {
          "base_uri": "https://localhost:8080/"
        },
        "id": "Uf2UNNqR9zXO",
        "outputId": "fd6e8783-9512-48a5-eeb5-5082a9b3278e"
      },
      "execution_count": 9,
      "outputs": [
        {
          "output_type": "stream",
          "name": "stdout",
          "text": [
            "Running on: [cuda(id=0), cuda(id=1), cuda(id=2), cuda(id=3), cuda(id=4), cuda(id=5), cuda(id=6), cuda(id=7)]\n",
            "Standard MHSA execution time: 0.017768 seconds\n",
            "Pallas Fused MHSA execution time: 0.004653 seconds\n",
            "Speedup factor: 3.82x\n"
          ]
        }
      ]
    },
    {
      "cell_type": "markdown",
      "source": [
        "### Using Flash Attention Kernels for TPUs - [Pallas kernel code](https://github.com/jax-ml/jax/blob/main/jax/experimental/pallas/ops/tpu/flash_attention.py)"
      ],
      "metadata": {
        "id": "us5rjKm4-PfZ"
      }
    },
    {
      "cell_type": "code",
      "source": [
        "from jax.experimental.pallas.ops.tpu.flash_attention import flash_attention\n",
        "from jax.experimental.pallas.ops.tpu.flash_attention import BlockSizes\n",
        "\n",
        "\n",
        "class FlashAttnMHSelfAttention(nn.Module):\n",
        "    config: FusedAttnGPT2Config\n",
        "\n",
        "    @nn.compact\n",
        "    def __call__(self, hidden_states, deterministic=True, cached_key=None, cached_value=None):\n",
        "        cfg = self.config\n",
        "        batch_size, seq_len, hidden_dim = hidden_states.shape\n",
        "        head_dim = hidden_dim // cfg.n_head\n",
        "\n",
        "        qkv = nn.Dense(cfg.n_embd * 3, use_bias=True, name=\"qkv_proj\")(hidden_states)\n",
        "        qkv = qkv.reshape(batch_size, seq_len, 3, cfg.n_head, head_dim)\n",
        "        q, k, v = jnp.split(qkv, 3, axis=2)\n",
        "        q, k, v = [x.squeeze(2).transpose(0, 2, 1, 3) for x in (q, k, v)]\n",
        "\n",
        "        if cached_key is not None and cached_value is not None:\n",
        "            k = jnp.concatenate([cached_key, k], axis=2)\n",
        "            v = jnp.concatenate([cached_value, v], axis=2)\n",
        "\n",
        "        block_sizes = BlockSizes.get_default(batch_size, cfg.n_head, seq_len, seq_len, head_dim)\n",
        "        attn_output = flash_attention(\n",
        "            q, k, v,\n",
        "            causal=True,\n",
        "            sm_scale=1 / (head_dim ** 0.5),\n",
        "            block_sizes=block_sizes,\n",
        "            debug=False\n",
        "        )\n",
        "\n",
        "        attn_output = attn_output.transpose(0, 2, 1, 3).reshape(batch_size, seq_len, hidden_dim)\n",
        "        out = nn.Dense(cfg.n_embd, use_bias=True, name=\"out_proj\")(attn_output)\n",
        "        return out, (k, v)\n"
      ],
      "metadata": {
        "id": "aSf7pN_y-PG6"
      },
      "execution_count": 43,
      "outputs": []
    },
    {
      "cell_type": "code",
      "source": [
        "print(\"Running on:\", jax.devices())\n",
        "\n",
        "config = FusedAttnGPT2Config()\n",
        "rng = jax.random.PRNGKey(0)\n",
        "batch_size, seq_len = 1, 4096\n",
        "hidden_states = jax.random.normal(rng, (batch_size, seq_len, config.n_embd))\n",
        "\n",
        "mhsa_model = MHSelfAttention(config)\n",
        "flash_attn_mhsa_model = FlashAttnMHSelfAttention(config)\n",
        "mhsa_params = mhsa_model.init(rng, hidden_states)['params']\n",
        "flash_attn_mhsa_params = flash_attn_mhsa_model.init(rng, hidden_states)['params']\n",
        "\n",
        "mhsa_time = benchmark_mha(mhsa_model, mhsa_params, hidden_states)\n",
        "flash_attn_mhsa_time = benchmark_mha(flash_attn_mhsa_model, flash_attn_mhsa_params, hidden_states)\n",
        "\n",
        "print(f\"Standard MHSA execution time: {mhsa_time:.6f} seconds\")\n",
        "print(f\"Pallas Flash Attn MHSA execution time: {flash_attn_mhsa_time:.6f} seconds\")\n",
        "print(f\"Speedup factor: {mhsa_time / flash_attn_mhsa_time:.2f}x\")\n"
      ],
      "metadata": {
        "colab": {
          "base_uri": "https://localhost:8080/"
        },
        "id": "TPCezclD-wPe",
        "outputId": "bce2458b-a87a-47a6-b520-0d330735abac"
      },
      "execution_count": 44,
      "outputs": [
        {
          "output_type": "stream",
          "name": "stdout",
          "text": [
            "Running on: [TpuDevice(id=0, process_index=0, coords=(0,0,0), core_on_chip=0), TpuDevice(id=1, process_index=0, coords=(0,0,0), core_on_chip=1), TpuDevice(id=2, process_index=0, coords=(1,0,0), core_on_chip=0), TpuDevice(id=3, process_index=0, coords=(1,0,0), core_on_chip=1), TpuDevice(id=4, process_index=0, coords=(0,1,0), core_on_chip=0), TpuDevice(id=5, process_index=0, coords=(0,1,0), core_on_chip=1), TpuDevice(id=6, process_index=0, coords=(1,1,0), core_on_chip=0), TpuDevice(id=7, process_index=0, coords=(1,1,0), core_on_chip=1)]\n",
            "Standard MHSA execution time: 0.030550 seconds\n",
            "Pallas Flash Attn MHSA execution time: 0.029974 seconds\n",
            "Speedup factor: 1.02x\n"
          ]
        }
      ]
    },
    {
      "cell_type": "markdown",
      "source": [
        "[A good explanation of why the performance is almost identical on TPUs](https://arc.net/l/quote/ifueyccm)"
      ],
      "metadata": {
        "id": "UbjlsJ-ACX8F"
      }
    }
  ],
  "metadata": {
    "accelerator": "TPU",
    "colab": {
      "gpuType": "V28",
      "machine_shape": "hm",
      "provenance": [],
      "include_colab_link": true
    },
    "kernelspec": {
      "display_name": "Python 3",
      "name": "python3"
    },
    "language_info": {
      "codemirror_mode": {
        "name": "ipython",
        "version": 3
      },
      "file_extension": ".py",
      "mimetype": "text/x-python",
      "name": "python",
      "nbconvert_exporter": "python",
      "pygments_lexer": "ipython3",
      "version": "3.9.21"
    }
  },
  "nbformat": 4,
  "nbformat_minor": 0
}